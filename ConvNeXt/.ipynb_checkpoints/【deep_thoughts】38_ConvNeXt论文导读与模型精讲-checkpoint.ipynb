{
 "cells": [
  {
   "cell_type": "markdown",
   "id": "a0925f9a-fbd1-4ada-99f8-e32fce2985d6",
   "metadata": {},
   "source": [
    "# ConvNeXt论文导读与模型精讲\n",
    "\n",
    "来自b站up主deep_thoughts 合集【PyTorch源码教程与前沿人工智能算法复现讲解】\n",
    "\n",
    "P_38_ConvNeXt论文导读与模型精讲：\n",
    "\n",
    "https://www.bilibili.com/video/BV1iP4y1M7nk/?spm_id_from=333.788&vd_source=18e91d849da09d846f771c89a366ed40\n",
    "\n",
    "***论文***\n",
    "\n",
    "A ConvNet for the 2020s：\n",
    "\n",
    "https://arxiv.org/pdf/2201.03545.pdf\n",
    "\n",
    "Deep Residual Learning for Image Recognition：\n",
    "\n",
    "https://arxiv.org/pdf/1512.03385.pdf"
   ]
  },
  {
   "cell_type": "markdown",
   "id": "4913a332-338f-415d-b642-61c45601e3ed",
   "metadata": {},
   "source": [
    "## ConvNeXt论文"
   ]
  },
  {
   "cell_type": "markdown",
   "id": "09cd0014-b478-4b28-984f-f1f280a47e44",
   "metadata": {},
   "source": [
    "* 理解什么是ResNet-50\n",
    "  * 由48层卷积+1层maxpool+1层avgpool构成，卷积每个block的配比为3：4：6：3\n",
    "    \n",
    "**ResNet50 Architecture**\n",
    "\n",
    "![](./img/P38_1.png)"
   ]
  },
  {
   "cell_type": "markdown",
   "id": "cd6175ae-44b3-4baf-9994-1c7e9b8b951b",
   "metadata": {},
   "source": [
    "* ConvNeXt主要宗旨\n",
    "  * 本文主要是希望基于ResNet-50结构，并参考Swin-T中的思想来升级改造ResNet，最终得到ResNeXt结构，并实现了新的准确率，并进一步探索了它的可扩展性。\n",
    "* 优化器参数\n",
    "  * AdamW，300epochs\n",
    "  * 准确率直接从76.1%提升到了78.8%\n",
    "  * 预训练学习率为4e-3，weight_decay=0.05，batchsize=4096\n",
    "  * 微调学习率为5e-5，weight_decay=1e-8，batchsize=512，layer-wise lr decay"
   ]
  },
  {
   "cell_type": "markdown",
   "id": "bf84ffa7-0897-48f3-b40d-4139184c03e7",
   "metadata": {},
   "source": [
    "* 宏观设计\n",
    "  * 将[3, 4, 6, 3]的区块比例改成了[3, 3, 9, 3]\n",
    "  * 将底层的卷积替换成了4*4 stride=4的卷积，类似于patch\n",
    "  * 引入depth-wise conv，并将channels从64提升到96 （群卷积：将输入通道划分为不同的group。 深度可分离卷积：有多少输入通道就划分多少个group）\n",
    "  * 引入bottleneck结构 {channel 分别为 96 384 96}，并增大kernel size到7*7\n",
    "  * 至此，ImageNet-1K的准确率从78.8%提升到80.6%\n",
    "* 微观设计\n",
    "  * 将RELU替换成GELU，将BN替换成LN\n",
    "  * 引入更少激活函数和归一化层\n",
    "  * 采用2 * 2，stride=2的卷积进行下采样，并在底层、下采样之前和最后的平均池化之后加入LN层，使得训练更加稳定\n",
    "  * 至此，ImageNet-1K的准确率进一步提升到82.0%，击败Swin-T中的81.3%\n",
    "  "
   ]
  },
  {
   "cell_type": "markdown",
   "id": "f88c7f98-c9ef-4032-b1a7-a8845f6c8a61",
   "metadata": {},
   "source": [
    "* 可扩展性\n",
    "  * ImageNet-1K训练\n",
    "    * 随着参数数目和计算量的增大，准确率也在逐步提升至85.5%\n",
    "  * 增加ImageNet-22k预训练，再迁移至ImageNet-1K微调\n",
    "    * 伴随预训练，同样的模型，效果涨幅约为2%\n",
    "    * 最终，ConvNeXt-XL效果达到87.8%"
   ]
  },
  {
   "cell_type": "code",
   "execution_count": null,
   "id": "587b3af5-6c58-4117-8906-eef9b845483e",
   "metadata": {},
   "outputs": [],
   "source": []
  }
 ],
 "metadata": {
  "kernelspec": {
   "display_name": "Python 3 (ipykernel)",
   "language": "python",
   "name": "python3"
  },
  "language_info": {
   "codemirror_mode": {
    "name": "ipython",
    "version": 3
   },
   "file_extension": ".py",
   "mimetype": "text/x-python",
   "name": "python",
   "nbconvert_exporter": "python",
   "pygments_lexer": "ipython3",
   "version": "3.7.13"
  }
 },
 "nbformat": 4,
 "nbformat_minor": 5
}
