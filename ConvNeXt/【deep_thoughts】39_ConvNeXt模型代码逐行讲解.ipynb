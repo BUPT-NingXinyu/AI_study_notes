{
 "cells": [
  {
   "cell_type": "markdown",
   "id": "436243ac-3b00-469b-ad5f-d88823b8c3a4",
   "metadata": {},
   "source": [
    "# ConvNeXt模型代码逐行讲解\n",
    "\n",
    "来自b站up主deep_thoughts 合集【PyTorch源码教程与前沿人工智能算法复现讲解】\n",
    "\n",
    "P_39_ConvNeXt模型代码逐行讲解：\n",
    "\n",
    "https://www.bilibili.com/video/BV11Y41137VA/?spm_id_from=333.788&vd_source=18e91d849da09d846f771c89a366ed40\n",
    "\n",
    "***论文***\n",
    "\n",
    "A ConvNet for the 2020s：\n",
    "\n",
    "https://arxiv.org/pdf/2201.03545.pdf\n",
    "\n",
    "Deep Residual Learning for Image Recognition：\n",
    "\n",
    "https://arxiv.org/pdf/1512.03385.pdf"
   ]
  },
  {
   "cell_type": "markdown",
   "id": "61aa9e2d-6788-438f-8eee-9db611d01288",
   "metadata": {},
   "source": [
    "## ConvNeXt模型结构\n",
    "![](./img/P39_1.png)"
   ]
  },
  {
   "cell_type": "code",
   "execution_count": null,
   "id": "78aa0f1f-abc8-495a-9f15-81e60b6266e2",
   "metadata": {},
   "outputs": [],
   "source": []
  }
 ],
 "metadata": {
  "kernelspec": {
   "display_name": "Python 3 (ipykernel)",
   "language": "python",
   "name": "python3"
  },
  "language_info": {
   "codemirror_mode": {
    "name": "ipython",
    "version": 3
   },
   "file_extension": ".py",
   "mimetype": "text/x-python",
   "name": "python",
   "nbconvert_exporter": "python",
   "pygments_lexer": "ipython3",
   "version": "3.7.13"
  }
 },
 "nbformat": 4,
 "nbformat_minor": 5
}
