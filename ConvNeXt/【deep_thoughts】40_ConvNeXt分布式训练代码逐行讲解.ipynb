{
 "cells": [
  {
   "cell_type": "markdown",
   "id": "f6e4d4b7-6b42-4b0d-8b9f-ed6a8ef9fcee",
   "metadata": {},
   "source": [
    "# ConvNeXt分布式训练代码逐行讲解\n",
    "\n",
    "来自b站up主deep_thoughts 合集【PyTorch源码教程与前沿人工智能算法复现讲解】\n",
    "\n",
    "P_40_ConvNeXt分布式训练代码逐行讲解：\n",
    "\n",
    "https://www.bilibili.com/video/BV1uP4y1u7qd/?spm_id_from=pageDriver&vd_source=18e91d849da09d846f771c89a366ed40\n",
    "\n",
    "论文\n",
    "\n",
    "A ConvNet for the 2020s：\n",
    "\n",
    "https://arxiv.org/pdf/2201.03545.pdf\n",
    "\n",
    "Deep Residual Learning for Image Recognition：\n",
    "\n",
    "https://arxiv.org/pdf/1512.03385.pdf"
   ]
  },
  {
   "cell_type": "markdown",
   "id": "9e331f7f-11cc-4768-ba5c-1333620533ac",
   "metadata": {},
   "source": [
    "## 各向同性 Isotropic ConvNeXt\n",
    "* 去掉下采样层\n",
    "* 与ViT做对比"
   ]
  },
  {
   "cell_type": "markdown",
   "id": "cc5d3aec-a27f-4301-ac8a-ec89714978e8",
   "metadata": {},
   "source": [
    "## 训练ConvNeXt"
   ]
  },
  {
   "cell_type": "markdown",
   "id": "9600ef71-ac23-40a9-8a62-6a267e25f4d8",
   "metadata": {},
   "source": [
    "GitHub地址：https://github.com/facebookresearch/ConvNeXt"
   ]
  },
  {
   "cell_type": "code",
   "execution_count": null,
   "id": "2de3aee3-f948-45e5-b23e-f7cb839865c9",
   "metadata": {},
   "outputs": [],
   "source": []
  }
 ],
 "metadata": {
  "kernelspec": {
   "display_name": "Python 3 (ipykernel)",
   "language": "python",
   "name": "python3"
  },
  "language_info": {
   "codemirror_mode": {
    "name": "ipython",
    "version": 3
   },
   "file_extension": ".py",
   "mimetype": "text/x-python",
   "name": "python",
   "nbconvert_exporter": "python",
   "pygments_lexer": "ipython3",
   "version": "3.7.13"
  }
 },
 "nbformat": 4,
 "nbformat_minor": 5
}
