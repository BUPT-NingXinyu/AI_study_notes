{
 "cells": [
  {
   "cell_type": "markdown",
   "id": "66085166-bf7d-422b-b41f-68de5d9c7815",
   "metadata": {},
   "source": [
    "# 最近邻分类器"
   ]
  },
  {
   "cell_type": "code",
   "execution_count": 1,
   "id": "07374911-5a79-4b15-a6c6-567e6e7b19dd",
   "metadata": {},
   "outputs": [],
   "source": [
    "import numpy as np\n",
    "\n",
    "class NearstNeighbor:\n",
    "    def __init__(self):\n",
    "        pass\n",
    "    \n",
    "    def train(self, X, y):\n",
    "        \"\"\" X is N x D where each row is an example. Y is 1-dimension of size N \"\"\"\n",
    "        # the nearest neighbor classfier simply remembers all the training data\n",
    "        self.Xtr = X\n",
    "        self.ytr = y\n",
    "        \n",
    "    def predict(self, X):\n",
    "        \"\"\" X is N x D where each row is an example we wish to predict label for \"\"\"\n",
    "        num_test = X.shape[0]\n",
    "        # lets make sure that the output type matches the input type\n",
    "        Ypred = np.zeros(num_test, dtype = self.ytr.dtype)\n",
    "        \n",
    "        # loop over all test rows\n",
    "        for i in xrange(num_test):\n",
    "            # find the nearest training image to the i'th test image\n",
    "            # using the L1 diistance (sum of absolute value differences)\n",
    "            distances = np.sum(np.abs(self.Xtr - X[i,:]), axis=1)\n",
    "            min_index = np.argmin(distances)  # get the index with smallest distance\n",
    "            Ypred[i] = self.ytr[min_index]  # predict the label of the nearest example\n",
    "            \n",
    "        return Ypred"
   ]
  },
  {
   "cell_type": "markdown",
   "id": "100cadaa-8229-499e-b551-4bc1e550654c",
   "metadata": {},
   "source": [
    "# K-最近邻分类器：超参数的设置"
   ]
  },
  {
   "cell_type": "code",
   "execution_count": null,
   "id": "ece1a694-854b-453d-90c3-f2fd028db2f3",
   "metadata": {},
   "outputs": [],
   "source": [
    "# assume we have Xtr_rows, Ytr, Xte_rows, Yte as before\n",
    "# recall Xtr_rows is 50,000 x 3072 matrix\n",
    "# 假定已经有 Xtr_rows, Ytr, Xte_rows, Yte了，其中 Xtr_rows 为 50000*3072矩阵\n",
    "Xval_rows = Xtr_rows[:1000,:]  # take first 1000 for validation 构建 1000 的交叉验证集\n",
    "Yval = Ytr[:1000]\n",
    "Xtr_rows = Xtr_rows[1000:,:]  # keep last 49,000 for train 保留 49000 的训练集\n",
    "Ytr = Ytr[1000:]\n",
    "\n",
    "# find hyperparameters that work best on the validation set 设置一些 K 值，用于试验\n",
    "validation_accuracies = []\n",
    "for k in [1,3,5,10,20,50,100]:\n",
    "    \n",
    "    # use a particular value of k and evaluation on validation data 初始化对象\n",
    "    nn = NearstNeighbor()\n",
    "    nn.train(Xtr_rows, Ytr)\n",
    "    # here we assume a modified NearestNeighbor class that can take a k as input\n",
    "    # 修改以下 predict 函数，接受 k 作为参数\n",
    "    Yval_predict = nn.predict(Xval_rows, k=k)\n",
    "    acc = np.mean(Yval_predict == Yval)\n",
    "    print('accuracy:%f' % acc)\n",
    "    \n",
    "    # keep track of what works on the validation set 输出结果\n",
    "    validation_accuracies.append((k, acc))"
   ]
  }
 ],
 "metadata": {
  "kernelspec": {
   "display_name": "Python 3 (ipykernel)",
   "language": "python",
   "name": "python3"
  },
  "language_info": {
   "codemirror_mode": {
    "name": "ipython",
    "version": 3
   },
   "file_extension": ".py",
   "mimetype": "text/x-python",
   "name": "python",
   "nbconvert_exporter": "python",
   "pygments_lexer": "ipython3",
   "version": "3.7.13"
  }
 },
 "nbformat": 4,
 "nbformat_minor": 5
}
