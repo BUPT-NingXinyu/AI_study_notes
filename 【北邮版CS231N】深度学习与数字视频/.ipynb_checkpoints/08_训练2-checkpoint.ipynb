{
 "cells": [
  {
   "cell_type": "markdown",
   "id": "9f6c6a9c-0087-474c-abc9-b9645fadc13f",
   "metadata": {},
   "source": [
    "# 参数更新"
   ]
  },
  {
   "cell_type": "markdown",
   "id": "4f4a4a59-b954-4842-8937-24dc7bfea9ff",
   "metadata": {},
   "source": [
    "## 随机梯度下降更新"
   ]
  },
  {
   "cell_type": "code",
   "execution_count": null,
   "id": "a92ccea1-d92c-4095-bd52-480cacee4f37",
   "metadata": {},
   "outputs": [],
   "source": []
  }
 ],
 "metadata": {
  "kernelspec": {
   "display_name": "Python 3 (ipykernel)",
   "language": "python",
   "name": "python3"
  },
  "language_info": {
   "codemirror_mode": {
    "name": "ipython",
    "version": 3
   },
   "file_extension": ".py",
   "mimetype": "text/x-python",
   "name": "python",
   "nbconvert_exporter": "python",
   "pygments_lexer": "ipython3",
   "version": "3.7.13"
  }
 },
 "nbformat": 4,
 "nbformat_minor": 5
}
