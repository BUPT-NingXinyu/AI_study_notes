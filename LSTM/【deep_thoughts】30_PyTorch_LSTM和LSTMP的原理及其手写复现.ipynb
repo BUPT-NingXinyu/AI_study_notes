{
 "cells": [
  {
   "cell_type": "markdown",
   "id": "9125f469-9acf-42d7-a2af-ed6708ee04c7",
   "metadata": {},
   "source": [
    "# PyTorch_LSTM和LSTMP的原理及其手写复现\n",
    "\n",
    "来自b站up主deep_thoughts 合集【PyTorch源码教程与前沿人工智能算法复现讲解】\n",
    "\n",
    "P_30_PyTorch_LSTM和LSTMP的原理及其手写复现：\n",
    "\n",
    "https://www.bilibili.com/video/BV1zq4y1m7aH/?spm_id_from=333.788&vd_source=18e91d849da09d846f771c89a366ed40\n",
    "\n",
    "***资料***\n",
    "\n",
    "介绍 LSTM 博客：\n",
    "\n",
    "http://colah.github.io/posts/2015-08-Understanding-LSTMs/\n",
    "\n",
    "PyTorch 官方文档：\n",
    "\n",
    "https://pytorch.org/docs/stable/generated/torch.nn.LSTM.html"
   ]
  },
  {
   "cell_type": "markdown",
   "id": "62736581-f049-4110-beec-9ab4399b5bc9",
   "metadata": {},
   "source": [
    "## LSTM 公式"
   ]
  },
  {
   "cell_type": "markdown",
   "id": "3f7578fe-e5d3-4393-aa01-10c99f4a682c",
   "metadata": {},
   "source": [
    "$i_t = \\sigma (W_{ii} x_t + b_{ii}+W_{hi}h_{t-1}+b_{hi})$\n",
    "\n",
    "$f_t = \\sigma (W_{if} x_t + b_{if}+W_{hf}h_{t-1}+b_{hf})$\n",
    "\n",
    "$i_t = tanh (W_{ig} x_t + b_{ig}+W_{hg}h_{t-1}+b_{hg})$\n",
    "\n",
    "$o_t = \\sigma (W_{io} x_t + b_{io}+W_{ho}h_{t-1}+b_{ho})$\n",
    "\n",
    "$c_t = f_t \\odot c_{t-1} + i_t \\odot g_t$\n",
    "\n",
    "$h_t = o_t \\odot tanh(c_t)$"
   ]
  },
  {
   "cell_type": "markdown",
   "id": "ac04de21-8d0e-41ee-aae0-9ca29ae6b00e",
   "metadata": {},
   "source": [
    "***注： $\\odot$ 逐元素相乘***"
   ]
  },
  {
   "cell_type": "code",
   "execution_count": 15,
   "id": "1aebdc2e-70c9-40fe-b9cc-c8c578af065c",
   "metadata": {},
   "outputs": [
    {
     "name": "stdout",
     "output_type": "stream",
     "text": [
      "tensor([[[ 0.3658, -0.3085,  0.0826],\n",
      "         [ 0.1759, -0.1754,  0.1034],\n",
      "         [-0.0041,  0.0428,  0.0213]],\n",
      "\n",
      "        [[ 0.0031, -0.1201,  0.1253],\n",
      "         [-0.0213, -0.0656,  0.0130],\n",
      "         [ 0.0790, -0.2002,  0.1780]]], grad_fn=<TransposeBackward0>)\n",
      "weight_ih_l0 torch.Size([20, 4])\n",
      "weight_hh_l0 torch.Size([20, 3])\n",
      "bias_ih_l0 torch.Size([20])\n",
      "bias_hh_l0 torch.Size([20])\n",
      "weight_hr_l0 torch.Size([3, 5])\n",
      "tensor([[[ 0.3658, -0.3085,  0.0826],\n",
      "         [ 0.1759, -0.1754,  0.1034],\n",
      "         [-0.0041,  0.0428,  0.0213]],\n",
      "\n",
      "        [[ 0.0031, -0.1201,  0.1253],\n",
      "         [-0.0213, -0.0656,  0.0130],\n",
      "         [ 0.0790, -0.2002,  0.1780]]], grad_fn=<CopySlices>)\n"
     ]
    }
   ],
   "source": [
    "import torch\n",
    "import torch.nn as nn\n",
    "\n",
    "# 实现LSTM和LSTMP的源码\n",
    "# 定义常量\n",
    "bs, T, i_size, h_size = 2, 3, 4, 5\n",
    "proj_size = 3\n",
    "input = torch.randn(bs, T, i_size)  # 输入序列\n",
    "c0 = torch.randn(bs, h_size)  # 初始值，不需要训练\n",
    "h0 = torch.randn(bs, proj_size)\n",
    "\n",
    "# 调用官方LSTM API\n",
    "lstm_layer = nn.LSTM(i_size, h_size, batch_first=True, proj_size=proj_size)\n",
    "output, (h_final, c_final) = lstm_layer(input, (h0.unsqueeze(0), c0.unsqueeze(0)))\n",
    "print(output)\n",
    "\n",
    "for k, v in lstm_layer.named_parameters():\n",
    "    print(k, v.shape)\n",
    "    \n",
    "# 自己写一个 LSTM 模型\n",
    "def lstm_forward(input, initial_states, w_ih, w_hh, b_ih, b_hh, w_hr=None):\n",
    "    h0, c0 = initial_states  # 初始状态\n",
    "    bs, T, i_size = input.shape\n",
    "    h_size = w_ih.shape[0] // 4\n",
    "    \n",
    "    prev_h = h0\n",
    "    prev_c = c0\n",
    "    batch_w_ih = w_ih.unsqueeze(0).tile(bs, 1, 1)  # [bs, 4*h_size, i_size]\n",
    "    batch_w_hh = w_hh.unsqueeze(0).tile(bs, 1, 1)  # [bs, 4*h_size, h_size/p_size]\n",
    "    \n",
    "    if w_hr is not None:\n",
    "        p_size = w_hr.shape[0]\n",
    "        output_size = p_size\n",
    "        batch_w_hr = w_hr.unsqueeze(0).tile(bs, 1, 1)  # [bs, p_size, h_size]\n",
    "    else:\n",
    "        output_size = h_size\n",
    "        \n",
    "    output = torch.zeros(bs, T, output_size)  # 输出序列\n",
    "    \n",
    "    for t in range(T):\n",
    "        x = input[:, t, :]  # 当前时刻的输入向量, [bs, i_size]\n",
    "        w_times_x = torch.bmm(batch_w_ih, x.unsqueeze(-1))  # [bs, 4*h_size, 1]\n",
    "        w_times_x = w_times_x.squeeze(-1)  # [bs, 4*h_size]\n",
    "        \n",
    "        w_times_h_prev = torch.bmm(batch_w_hh, prev_h.unsqueeze(-1))  # [bs, 4*h_size/p_size, 1]\n",
    "        w_times_h_prev = w_times_h_prev.squeeze(-1)  # [bs, 4*h_size]\n",
    "        \n",
    "        # 分别计算输入门(i)、遗忘门(f)、cell门(g)、输出门(o)\n",
    "        i_t = torch.sigmoid(w_times_x[:, :h_size] + w_times_h_prev[:, :h_size] + b_ih[:h_size] + b_hh[:h_size])\n",
    "        f_t = torch.sigmoid(w_times_x[:, h_size:2*h_size] + w_times_h_prev[:, h_size:2*h_size] \n",
    "                            + b_ih[h_size:2*h_size] + b_hh[h_size:2*h_size])\n",
    "        g_t = torch.tanh(w_times_x[:, 2*h_size:3*h_size] + w_times_h_prev[:, 2*h_size:3*h_size] \n",
    "                         + b_ih[2*h_size:3*h_size] + b_hh[2*h_size:3*h_size])\n",
    "        o_t = torch.sigmoid(w_times_x[:, 3*h_size:4*h_size] + w_times_h_prev[:, 3*h_size:4*h_size] \n",
    "                            + b_ih[3*h_size:4*h_size] + b_hh[3*h_size:4*h_size])\n",
    "        prev_c = f_t * prev_c + i_t * g_t\n",
    "        prev_h = o_t * torch.tanh(prev_c)  # [bs, h_size]\n",
    "        \n",
    "        if w_hr is not None:  # 做projection\n",
    "            prev_h = torch.bmm(batch_w_hr, prev_h.unsqueeze(-1))  # [bs, p_size, 1]\n",
    "            prev_h = prev_h.squeeze(-1)  # [bs, p_size]\n",
    "                               \n",
    "        output[:, t, :] = prev_h\n",
    "        \n",
    "    return output, (prev_h, prev_c)\n",
    "\n",
    "output_custom, (h_final_custom, c_final_custom) = lstm_forward(input, (h0, c0), lstm_layer.weight_ih_l0, \n",
    "                                                               lstm_layer.weight_hh_l0, lstm_layer.bias_ih_l0, \n",
    "                                                               lstm_layer.bias_hh_l0, lstm_layer.weight_hr_l0)\n",
    "\n",
    "print(output_custom)"
   ]
  },
  {
   "cell_type": "code",
   "execution_count": null,
   "id": "ad683f94-6bca-4f91-9504-3e63efb82a43",
   "metadata": {},
   "outputs": [],
   "source": []
  }
 ],
 "metadata": {
  "kernelspec": {
   "display_name": "Python 3 (ipykernel)",
   "language": "python",
   "name": "python3"
  },
  "language_info": {
   "codemirror_mode": {
    "name": "ipython",
    "version": 3
   },
   "file_extension": ".py",
   "mimetype": "text/x-python",
   "name": "python",
   "nbconvert_exporter": "python",
   "pygments_lexer": "ipython3",
   "version": "3.7.13"
  }
 },
 "nbformat": 4,
 "nbformat_minor": 5
}
