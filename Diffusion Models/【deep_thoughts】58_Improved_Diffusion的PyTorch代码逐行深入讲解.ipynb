{
 "cells": [
  {
   "cell_type": "markdown",
   "id": "b7bf3148-82af-4264-93bf-0b8cd0e043cb",
   "metadata": {},
   "source": [
    "# Improved_Diffusion的PyTorch代码逐行深入讲解\n",
    "\n",
    "来自b站up主deep_thoughts 合集【PyTorch源码教程与前沿人工智能算法复现讲解】\n",
    "\n",
    "P_58_Improved_Diffusion的PyTorch代码逐行深入讲解：\n",
    "\n",
    "https://www.bilibili.com/video/BV1sG411s7vV/?spm_id_from=pageDriver&vd_source=18e91d849da09d846f771c89a366ed40\n",
    "\n",
    "***论文***\n",
    "\n",
    "Denoising Diffusion Probabilistic Models：\n",
    "\n",
    "https://arxiv.org/pdf/2006.11239.pdf\n",
    "\n",
    "Autoregressive Denoising Diffusion Models for Multivariate Probabilistic Time Series Forecasting：\n",
    "\n",
    "http://proceedings.mlr.press/v139/rasul21a/rasul21a.pdf\n",
    "\n",
    "Improved Denoising Diffusion Probabilistic Models：\n",
    "\n",
    "https://arxiv.org/pdf/2102.09672.pdf"
   ]
  },
  {
   "cell_type": "markdown",
   "id": "aa150ec5-b7a9-401f-8699-019a85f2f371",
   "metadata": {},
   "source": [
    "# DDPM"
   ]
  },
  {
   "cell_type": "markdown",
   "id": "a53feea1-a386-460c-9c91-a580defb69a4",
   "metadata": {},
   "source": [
    "## diffusion\n",
    "### forward process（无参）\n",
    "* beta schedule\n",
    "* 基于x[0]和t采样出t时刻加噪后的样本x[t]\n",
    "* 基于x[0]、x[t]、t计算出后验分布并采样得到去噪后的样本x[t-1]\n",
    "* x[T]服从标准分布\n",
    "### reverse process（含参）\n",
    "* training\n",
    "  * 将x[t]和t带入NN模型，来预测出x[t-1]的分布\n",
    "    * 预测方差\n",
    "    * 预测方差线性加权的权重\n",
    "    * 固定的方差\n",
    "      * betas\n",
    "      * betas_bar\n",
    "    * 预测噪声\n",
    "    * 预测期望均值\n",
    "    * 预测x[0]\n",
    "  * MSE loss\n",
    "  * 计算预测的分布与真实的后验分布之间的KL loss\n",
    "  * 基于训练集和t的采样训练\n",
    "    * 均匀采样t\n",
    "    * 基于loss来进行重要性采样t\n",
    "* infer\n",
    "  * 自x[T]开始带入NN模型采样出x[T-1]...x[0]"
   ]
  },
  {
   "cell_type": "markdown",
   "id": "31be6e6b-abb2-42ad-a023-6582a4b4f9ac",
   "metadata": {},
   "source": [
    "## neural model\n",
    "### attention-based UNet\n",
    "* input blocks\n",
    "  * ResBlock\n",
    "    * x\n",
    "    * emb\n",
    "      * timestep\n",
    "      * condition\n",
    "  * MHSA Block\n",
    "  * Downsample Block\n",
    "* mid blocks\n",
    "  * ResBlock\n",
    "  * MHSA Block\n",
    "  * ResBlock\n",
    "* output blocks\n",
    "  * ResBlock（与input blocks对应层的输出进行拼接作为输入）\n",
    "  * MHSA block\n",
    "  * Upsample Block\n",
    "* output layer"
   ]
  },
  {
   "cell_type": "code",
   "execution_count": null,
   "id": "ecb7e74f-83bf-491f-9412-6ebfc186746a",
   "metadata": {},
   "outputs": [],
   "source": []
  }
 ],
 "metadata": {
  "kernelspec": {
   "display_name": "Python 3 (ipykernel)",
   "language": "python",
   "name": "python3"
  },
  "language_info": {
   "codemirror_mode": {
    "name": "ipython",
    "version": 3
   },
   "file_extension": ".py",
   "mimetype": "text/x-python",
   "name": "python",
   "nbconvert_exporter": "python",
   "pygments_lexer": "ipython3",
   "version": "3.7.13"
  }
 },
 "nbformat": 4,
 "nbformat_minor": 5
}
