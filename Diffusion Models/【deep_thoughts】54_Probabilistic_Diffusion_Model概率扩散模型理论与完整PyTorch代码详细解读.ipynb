{
 "cells": [
  {
   "cell_type": "markdown",
   "id": "62f8ede8-6cd8-422b-ba0e-8929971b84d1",
   "metadata": {},
   "source": [
    "# Probabilistic_Diffusion_Model概率扩散模型理论与完整PyTorch代码详细解读\n",
    "\n",
    "来自b站up主deep_thoughts 合集【PyTorch源码教程与前沿人工智能算法复现讲解】\n",
    "\n",
    "P_54_Probabilistic_Diffusion_Model概率扩散模型理论与完整PyTorch代码详细解读：\n",
    "\n",
    "https://www.bilibili.com/video/BV1b541197HX/?spm_id_from=333.788&vd_source=18e91d849da09d846f771c89a366ed40\n",
    "\n",
    "***论文***\n",
    "\n",
    "Denoising Diffusion Probabilistic Models：\n",
    "\n",
    "https://arxiv.org/pdf/2006.11239.pdf\n",
    "\n",
    "Deep Unsupervised Learning using Nonequilibrium Thermodynamics：\n",
    "\n",
    "https://arxiv.org/pdf/1503.03585.pdf"
   ]
  },
  {
   "cell_type": "markdown",
   "id": "d9d485f1-2bd5-4e0f-89af-a548302fffef",
   "metadata": {},
   "source": [
    "## 一、条件概率公式与高斯分布的KL散度"
   ]
  },
  {
   "cell_type": "markdown",
   "id": "a187fffb-5f3a-4043-8a1b-936a5d03963a",
   "metadata": {},
   "source": [
    "### 1、条件概率的一般形式\n",
    "\n",
    "$P(A,B,C)=P(C|B,A)P(B,A)=P(C|B,A)P(B|A)P(A)$\n",
    "\n",
    "$P(B,C|A)=P(B|A)P(C|A,B)$\n",
    "\n",
    "### 2、基于马尔科夫假设的条件概率\n",
    "\n",
    "如果满足马尔科夫链关系A->B->C，那么有\n",
    "\n",
    "$P(A,B,C)=P(C|B,A)P(B,A)=P(C|B)P(B|A)P(A)$\n",
    "\n",
    "$P(B,C|A)=P(B|A)P(C|B)$\n",
    "\n",
    "### 3、高斯分布的KL散度公式\n",
    "\n",
    "对于两个单一变量的高斯分布p和q而言，他们的KL散度为\n",
    "\n",
    "$KL(p,q)=log\\frac{\\sigma_2}{\\sigma_1}+\\frac{\\sigma^2+(\\mu_1-\\mu_2)^2}{2\\sigma^2_2}-\\frac{1}{2}$\n",
    "\n",
    "### 4、参数重整化\n",
    "\n",
    "若希望从高斯分布$N(\\mu,\\sigma)$中采样，可以先从标准分布$N(0,1)$采样出$z$，在的到$\\sigma*z+\\mu$。这样做的好处是将随机性转移到了$z$这个常量上，而$\\sigma$和$\\mu$则当作仿射变换网络的一部分。"
   ]
  },
  {
   "cell_type": "markdown",
   "id": "1d35718f-6eb5-4a30-a844-0484b283efde",
   "metadata": {},
   "source": [
    "## 二、VAE与多层VAE回顾"
   ]
  },
  {
   "cell_type": "markdown",
   "id": "91eae0e0-b2d8-4ace-aea2-0b4d6634bdcd",
   "metadata": {},
   "source": [
    "### 1、单层VAE的原理公式与置信下界\n",
    "\n",
    "![](./img/P54_1.png)"
   ]
  },
  {
   "cell_type": "markdown",
   "id": "bcc81d4c-b5ff-4137-9803-50c6060c5af5",
   "metadata": {},
   "source": [
    "$p(x)=\\int_z p_{\\theta}(x|z)p(z)$\n",
    "\n",
    "$p(x)=\\int q_{\\phi}(z|x)\\frac{p_{\\theta}\\:(x|z)p(z)}{q_{\\phi}\\:(z|x)}$\n",
    "\n",
    "$\\log p(x) = \\log \\mathbb{E}_{z \\sim q_{\\phi}\\:(z|x)} \\left[ \\frac{p_{\\theta}\\:(x|z)p(z)}{q_{\\phi}\\:(z|x)}\\right]$\n",
    "\n",
    "$\\log p(x) \\ge \\mathbb{E}_{z \\sim q_{\\phi}\\:(z|x)} \\left[ \\log\\frac{p_{\\theta}\\:(x|z)p(z)}{q_{\\phi}\\:(z|x)}\\right]$"
   ]
  },
  {
   "cell_type": "markdown",
   "id": "4a4995f9-288d-4876-9d10-05e02ecadf9c",
   "metadata": {},
   "source": [
    "### 2、多层VAE的原理公式与置信下界\n",
    "\n",
    "![](./img/P54_2.png)"
   ]
  },
  {
   "cell_type": "markdown",
   "id": "a719fa11-2d3b-4524-a889-bf43be2c42a8",
   "metadata": {},
   "source": [
    "$p(x)=\\int_{z_1}\\int_{z_2}p_{\\theta}\\:(x,z_1,z_2)dz_1dz_2$\n",
    "\n",
    "$p(x)=\\int\\int q_\\phi\\:(z_1,z_2|x)\\frac{p_{\\theta}\\:(x,z_1,z_2)} {q_\\phi\\:(z_1,z_2|x)}$\n",
    "\n",
    "$p(x) = \\mathbb{E}_{z_1,z_2 \\sim q_\\phi\\:(z_1,z_2|x)} \\left[ \\frac{p_{\\theta}\\:(x,z_1,z_2)} {q_\\phi\\:(z_1,z_2|x)} \\right] $\n",
    "\n",
    "$\\log p(x) \\ge \\mathbb{E}_{z_1,z_2 \\sim q_\\phi\\:(z_1,z_2|x)} \\left[\\log \\frac{p_{\\theta}\\:(x,z_1,z_2)} {q_\\phi\\:(z_1,z_2|x)} \\right] $\n",
    "\n",
    "$p(x,z_1,z_2)=p(x|z_1)p(z_1|z_2)p(z_2)$\n",
    "\n",
    "$q(z_1,z_2|x)=q(z_z|x)q(z_2|z_1)$\n",
    "\n",
    "$\\mathcal{L}(\\theta,\\phi)=\\mathbb{E}_{q(z_1,z_2|x)}[\\log p(x|z_1)-\\log q(z_1|x)+\\log p(z_1|z_2)-\\log q(z_2|z_1) + \\log [(z_2)]$"
   ]
  },
  {
   "cell_type": "markdown",
   "id": "a1e0c42f-4418-47d9-bf97-0ecdf5b038fb",
   "metadata": {},
   "source": [
    "## 三、 Diffusion Model图示"
   ]
  },
  {
   "cell_type": "markdown",
   "id": "d9da0494-8bbf-4fca-a95a-af1b92e4da45",
   "metadata": {},
   "source": [
    "![](./img/P54_3.png)\n",
    "![](./img/P54_4.png)"
   ]
  },
  {
   "cell_type": "markdown",
   "id": "11777c1c-138d-4ce9-a24e-4b01dc426e04",
   "metadata": {},
   "source": [
    "## 四、扩散过程（Diffusion Process）\n",
    "\n",
    "1、给定初始数据分布$x_0 \\sim q(x)$，可以不断地向分布中添加高斯噪声，该噪声的标准差是以固定值$\\beta_t$而确定的，均值是以固定值$\\beta_t$和当前t时刻的数据$x_t$决定的。这一过程是一个马尔科夫链过程。\n",
    "\n",
    "2、随着t的不断增大，最终数据分布$x_T$变成了一个各项独立的高斯分布。"
   ]
  },
  {
   "cell_type": "markdown",
   "id": "b9f4c185-2608-4785-91fe-d6e244d6b4fb",
   "metadata": {},
   "source": [
    "![](./img/P54_5.png)"
   ]
  },
  {
   "cell_type": "markdown",
   "id": "69469436-e119-4c0b-b249-d257c4714070",
   "metadata": {},
   "source": [
    "3、任意时刻的$q(x_t)$推导也可以完全基于$x_0$和$\\beta_t$来计算出来，而不需要做迭代\n",
    "\n",
    "注意这里。两个正态分布$X \\sim N(\\mu_1,\\sigma_1)$和$Y \\sim N(\\mu_2,\\sigma_2)$的叠加后的分布$aX+bY$的均值为$a\\mu_1+b\\mu_2$，方差为$a^2\\sigma^2_1+b^2\\sigma^2_2$。所以$\\sqrt{\\alpha_t-\\alpha_t\\alpha_{t-1}}z_{t-2}+\\sqrt{1-\\alpha_t}z_{t-1}$可以参数重整化成只含有一个随机变量$z$构成的$\\sqrt{1-\\alpha_t\\alpha_{t-1}}z$的形式。"
   ]
  },
  {
   "cell_type": "markdown",
   "id": "05e54dfb-5880-44d5-82d9-2c8f686f459b",
   "metadata": {},
   "source": [
    "![](./img/P54_6.png)"
   ]
  },
  {
   "cell_type": "markdown",
   "id": "7cd80fc4-93a6-48f4-9b06-30f3e2972fa5",
   "metadata": {},
   "source": [
    "## 五、逆扩散过程（Reverse Process）"
   ]
  },
  {
   "cell_type": "markdown",
   "id": "effc452c-1a13-4100-b95e-a8423c784598",
   "metadata": {},
   "source": [
    "逆过程是从高斯噪声中恢复原始数据，我们可以假设它也是一个高斯分布，但是无法逐步地去拟合分布，所以需要构建一个参数分布去做估计。逆扩散过程仍然是一个马尔科夫链过程。\n",
    "![](./img/P54_7.png)"
   ]
  },
  {
   "cell_type": "markdown",
   "id": "fd581183-7054-4bbd-9804-7cfd28f92577",
   "metadata": {},
   "source": [
    "## 六、后验的扩散条件概率$q(x_{t-1}|x_t,x_0)$分布是可以用公式表达的\n",
    "\n",
    "也就是说，给定$x_t$和$x_0$，我们是可以计算出$x_{t-1}$\n",
    "\n",
    "注意：高斯分布的概率密度函数是$f(x)=\\frac{1}{\\sqrt{2\\pi}\\sigma}e^{-\\frac{(x-\\mu)^2}{2\\sigma^2}}$\n",
    "\n",
    "注意：$ax^2+bx=a(x+\\frac{b}{2a})^2+C$"
   ]
  },
  {
   "cell_type": "markdown",
   "id": "818a5fb3-3c3c-424c-b822-b593492eb577",
   "metadata": {},
   "source": [
    "![](./img/P54_8.png)"
   ]
  },
  {
   "cell_type": "markdown",
   "id": "ecd70fdd-4587-4cda-9c46-848d1b6bc468",
   "metadata": {},
   "source": [
    "根据前面$x_0$与$x_t$之间的关系式，我们可以知道\n",
    "\n",
    "$x_0 = \\frac{1}{\\sqrt{\\bar{\\alpha}_t}}(x_t-\\sqrt{1-\\bar{\\alpha}_t}z_t)$"
   ]
  },
  {
   "cell_type": "markdown",
   "id": "ad3a2bf5-42d8-4c37-b9db-32b86acd0dfb",
   "metadata": {},
   "source": [
    "将$x_0$的表达式带入到$q(x_{t-1}|x_t,x_0)$的分布中，可以重新给出该分布的均值表达式，也就是说，在给定$x_0$的条件下，后验条件高斯分布的均值计算只与$x_t$和$z_t$有关。$z_t$是t时刻的随机正态分布变量，源自参数重整化。"
   ]
  },
  {
   "cell_type": "markdown",
   "id": "fc6c7a5a-12df-4aee-b08f-d089c9e0b9d7",
   "metadata": {},
   "source": [
    "![](./img/P54_9.png)"
   ]
  },
  {
   "cell_type": "code",
   "execution_count": null,
   "id": "15a4d876-d182-4dad-9b9f-bd5557c6cbbe",
   "metadata": {},
   "outputs": [],
   "source": []
  }
 ],
 "metadata": {
  "kernelspec": {
   "display_name": "Python 3 (ipykernel)",
   "language": "python",
   "name": "python3"
  },
  "language_info": {
   "codemirror_mode": {
    "name": "ipython",
    "version": 3
   },
   "file_extension": ".py",
   "mimetype": "text/x-python",
   "name": "python",
   "nbconvert_exporter": "python",
   "pygments_lexer": "ipython3",
   "version": "3.7.13"
  }
 },
 "nbformat": 4,
 "nbformat_minor": 5
}
