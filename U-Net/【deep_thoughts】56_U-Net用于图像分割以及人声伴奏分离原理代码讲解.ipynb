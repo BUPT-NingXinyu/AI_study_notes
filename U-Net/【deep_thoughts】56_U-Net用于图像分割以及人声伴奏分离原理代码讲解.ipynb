{
 "cells": [
  {
   "cell_type": "markdown",
   "id": "a9bc1933-5911-4545-ab4a-7560598f394f",
   "metadata": {},
   "source": [
    "# U-Net用于图像分割以及人声伴奏分离原理代码讲解\n",
    "\n",
    "来自b站up主deep_thoughts 合集【PyTorch源码教程与前沿人工智能算法复现讲解】\n",
    "\n",
    "P_56_U-Net用于图像分割以及人声伴奏分离原理代码讲解：\n",
    "\n",
    "https://www.bilibili.com/video/BV1C54y1o77i/?spm_id_from=333.788&vd_source=18e91d849da09d846f771c89a366ed40\n",
    "\n",
    "***论文***\n",
    "\n",
    "U-Net: Convolutional Networks for Biomedical Image Segmentation：\n",
    "\n",
    "https://arxiv.org/pdf/1505.04597.pdf\n",
    "\n",
    "WAVE-U-NET: A MULTI-SCALE NEURAL NETWORK FOR END-TO-END AUDIO SOURCE SEPARATION:\n",
    "\n",
    "https://arxiv.org/pdf/1806.03185.pdf\n",
    "\n",
    "***代码***\n",
    "\n",
    "一个基于PyTorch实现了多种Segmentation的仓库：\n",
    "\n",
    "https://github.com/yassouali/pytorch-segmentation\n",
    "\n",
    "人声伴奏分离：\n",
    "\n",
    "https://github.com/f90/Wave-U-Net"
   ]
  },
  {
   "cell_type": "markdown",
   "id": "58c23f56-55dd-4965-bf59-410fa3384ffe",
   "metadata": {},
   "source": [
    "## U-Net"
   ]
  },
  {
   "cell_type": "markdown",
   "id": "42a0dc35-6bcb-4053-b760-190249c33761",
   "metadata": {},
   "source": [
    "![](./img/P56_1.png)"
   ]
  },
  {
   "cell_type": "code",
   "execution_count": null,
   "id": "9fbc7a1e-e361-4394-935d-46a33c85e225",
   "metadata": {},
   "outputs": [],
   "source": []
  }
 ],
 "metadata": {
  "kernelspec": {
   "display_name": "Python 3 (ipykernel)",
   "language": "python",
   "name": "python3"
  },
  "language_info": {
   "codemirror_mode": {
    "name": "ipython",
    "version": 3
   },
   "file_extension": ".py",
   "mimetype": "text/x-python",
   "name": "python",
   "nbconvert_exporter": "python",
   "pygments_lexer": "ipython3",
   "version": "3.7.13"
  }
 },
 "nbformat": 4,
 "nbformat_minor": 5
}
