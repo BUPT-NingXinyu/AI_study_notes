{
 "cells": [
  {
   "cell_type": "markdown",
   "id": "03e0f0fb-3216-419b-8067-18c95d801280",
   "metadata": {},
   "source": [
    "# 手写实现nn.TransposedConv转置卷积\n",
    "来自b站up主deep_thoughts 合集【PyTorch源码教程与前沿人工智能算法复现讲解】\n",
    "\n",
    "P_25_手写实现nn.TransposedConv转置卷积：\n",
    "\n",
    "https://www.bilibili.com/video/BV1fM4y1F7j5/?spm_id_from=333.788&vd_source=18e91d849da09d846f771c89a366ed40\n",
    "\n",
    "torch.nn.Unfold 官方文档：https://pytorch.org/docs/stable/generated/torch.nn.Unfold.html (用于对input展开，同上一节step2手写的取region区域做展开，但是上一节没考虑通道维度）\n",
    "\n",
    "转置卷积官方文档：https://pytorch.org/docs/stable/generated/torch.nn.ConvTranspose2d.html"
   ]
  },
  {
   "cell_type": "markdown",
   "id": "9470a637-4461-43ab-bcbe-2ff7260a1704",
   "metadata": {},
   "source": [
    "## step4：通过对kernel进行展开来实现二维卷积，并得出转置卷积，不考虑batch、channel大小，假设stride=1"
   ]
  },
  {
   "cell_type": "code",
   "execution_count": 18,
   "id": "57e621f2-dc70-49a6-a168-03a970a637d5",
   "metadata": {},
   "outputs": [],
   "source": [
    "import torch\n",
    "import torch.nn as nn\n",
    "import torch.nn.functional as F\n",
    "\n",
    "def get_kernel_matrix(kernel, input_size, stride=1):\n",
    "    \"\"\"基于kernel和输入特征图的大小来得到填充拉直后的kernel堆叠后的矩阵\"\"\"\n",
    "    kernel_h, kernel_w = kernel.shape\n",
    "    input_h, input_w = input_size\n",
    "    num_out_feat_map = (input_h - kernel_h + 1) * (input_w - kernel_w +1)\n",
    "    result = torch.zeros((num_out_feat_map, input_h * input_w))  # 初始化结果矩阵，输出特征图元素个数*输入特征图元素个数\n",
    "    count = 0\n",
    "    for i in range(0, input_h-kernel_h+1, 1):\n",
    "        for j in range(0, input_w-kernel_w+1, 1):\n",
    "            padded_kernel = F.pad(kernel, (j, input_w-kernel_w-j, i, input_h-kernel_h-i))  # 填充成跟输入特征图一样大小\n",
    "            result[count] = padded_kernel.flatten()\n",
    "            count += 1\n",
    "    return result\n"
   ]
  },
  {
   "cell_type": "markdown",
   "id": "f3b62ede-ae01-4faa-8385-c4cfb5ba2349",
   "metadata": {},
   "source": [
    "## 测试1：验证二维卷积"
   ]
  },
  {
   "cell_type": "code",
   "execution_count": 19,
   "id": "b5168ba1-f444-4f63-94d2-a55e16c11248",
   "metadata": {},
   "outputs": [
    {
     "name": "stdout",
     "output_type": "stream",
     "text": [
      "tensor([[ 1.7583, -3.0868],\n",
      "        [-2.0347,  0.5580]])\n",
      "tensor([[[[ 1.7583, -3.0868],\n",
      "          [-2.0347,  0.5580]]]])\n"
     ]
    }
   ],
   "source": [
    "kernel = torch.randn(3, 3)\n",
    "input = torch.randn(4, 4)\n",
    "kernel_matrix = get_kernel_matrix(kernel, input.shape)  # 4*16\n",
    "mm_conv2d_output = kernel_matrix @ input.reshape((-1, 1))  # 通过矩阵乘积来计算卷积\n",
    "pytorch_conv2d_output = F.conv2d(input.unsqueeze(0).unsqueeze(0), kernel.unsqueeze(0).unsqueeze(0))  # PyTorch conv2d API\n",
    "# print(kernel)\n",
    "# print(kernel_matrix)\n",
    "print(mm_conv2d_output.reshape((2,2)))\n",
    "print(pytorch_conv2d_output)"
   ]
  },
  {
   "cell_type": "markdown",
   "id": "4581a164-06d0-42aa-9920-1c255c601c0d",
   "metadata": {},
   "source": [
    "## 测试2：验证二维转置卷积"
   ]
  },
  {
   "cell_type": "code",
   "execution_count": 20,
   "id": "73202598-b1d5-4fe0-be11-3a64d38917f0",
   "metadata": {},
   "outputs": [
    {
     "name": "stdout",
     "output_type": "stream",
     "text": [
      "torch.Size([4, 16])\n",
      "torch.Size([16, 4])\n",
      "tensor([[ 1.0477, -3.6902,  5.7490, -4.3885],\n",
      "        [-3.2956,  6.9641, -5.3846,  1.5702],\n",
      "        [ 0.6556,  0.9386,  1.1903,  0.7276],\n",
      "        [ 2.0307,  0.0418,  0.4080, -0.1569]])\n",
      "tensor([[[[ 1.0477, -3.6902,  5.7490, -4.3885],\n",
      "          [-3.2956,  6.9641, -5.3846,  1.5702],\n",
      "          [ 0.6556,  0.9386,  1.1903,  0.7276],\n",
      "          [ 2.0307,  0.0418,  0.4080, -0.1569]]]])\n"
     ]
    }
   ],
   "source": [
    "print(kernel_matrix.shape)\n",
    "print(kernel_matrix.transpose(-1, -2).shape)\n",
    "mm_transposed_conv2d_output = kernel_matrix.transpose(-1, -2) @ mm_conv2d_output  # 通过矩阵乘积来计算转置卷积\n",
    "pytorch_transposed_conv2d_output = F.conv_transpose2d(pytorch_conv2d_output, kernel.unsqueeze(0).unsqueeze(0))\n",
    "print(mm_transposed_conv2d_output.reshape(4, 4))\n",
    "print(pytorch_transposed_conv2d_output)"
   ]
  },
  {
   "cell_type": "code",
   "execution_count": null,
   "id": "0b35d7d4-8063-4817-a762-41801226bf27",
   "metadata": {},
   "outputs": [],
   "source": []
  }
 ],
 "metadata": {
  "kernelspec": {
   "display_name": "Python 3 (ipykernel)",
   "language": "python",
   "name": "python3"
  },
  "language_info": {
   "codemirror_mode": {
    "name": "ipython",
    "version": 3
   },
   "file_extension": ".py",
   "mimetype": "text/x-python",
   "name": "python",
   "nbconvert_exporter": "python",
   "pygments_lexer": "ipython3",
   "version": "3.7.13"
  }
 },
 "nbformat": 4,
 "nbformat_minor": 5
}
