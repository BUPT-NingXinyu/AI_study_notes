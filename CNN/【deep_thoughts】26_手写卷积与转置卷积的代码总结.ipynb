{
 "cells": [
  {
   "cell_type": "markdown",
   "id": "12f0657e-9b75-4d94-a3c6-b285f981985e",
   "metadata": {},
   "source": [
    "# 手写卷积与转置卷积的代码总结\n",
    "来自b站up主deep_thoughts 合集【PyTorch源码教程与前沿人工智能算法复现讲解】\n",
    "\n",
    "P_26_手写卷积与转置卷积的代码总结：\n",
    "\n",
    "https://www.bilibili.com/video/BV13U4y1K7op/?spm_id_from=pageDriver&vd_source=18e91d849da09d846f771c89a366ed40"
   ]
  },
  {
   "cell_type": "markdown",
   "id": "a5e241a4-473a-48b6-9bb9-6e3e1a93a694",
   "metadata": {},
   "source": [
    "## 一、 调用API\n",
    "\n",
    "* 实例化类\n",
    "* 直接调用函数\n",
    "\n",
    "详见：【deep_thoughts】22_PyTorch_nnConv2d卷积网络使用教程"
   ]
  },
  {
   "cell_type": "markdown",
   "id": "0ffe1936-89f7-49b3-a809-f511ff403f19",
   "metadata": {},
   "source": [
    "## 二、 手写滑动相乘实现二维卷积\n",
    "\n",
    "* elementwise相乘\n",
    "* flatten input 向量内积(未考虑 batchsize和channel)\n",
    "\n",
    "详见：【deep_thoughts】23_手写并验证滑动相乘实现PyTorch二维卷积"
   ]
  },
  {
   "cell_type": "markdown",
   "id": "04dfaa27-56f6-4fb8-84c7-f63c87127088",
   "metadata": {},
   "source": [
    "## 三、 手写向量内积实现二维卷积\n",
    "\n",
    "* flatten input 向量内积(考虑 batchsize和channel)\n",
    "\n",
    "详见：【deep_thoughts】24_手写并验证向量内积实现PyTorch二维卷积"
   ]
  },
  {
   "cell_type": "markdown",
   "id": "58e241cf-9de7-4b01-9530-d25678ef5383",
   "metadata": {},
   "source": [
    "## 四、 手写实现转置卷积\n",
    "\n",
    "* flatten kernel：验证二维卷积\n",
    "* flatten kernel：验证二维转置卷积\n",
    "\n",
    "详见：【deep_thoughts】25_手写实现nnTransposedConv转置卷积"
   ]
  },
  {
   "cell_type": "code",
   "execution_count": null,
   "id": "d066bf41-b2f2-48d5-a98e-2760088411be",
   "metadata": {},
   "outputs": [],
   "source": []
  }
 ],
 "metadata": {
  "kernelspec": {
   "display_name": "Python 3 (ipykernel)",
   "language": "python",
   "name": "python3"
  },
  "language_info": {
   "codemirror_mode": {
    "name": "ipython",
    "version": 3
   },
   "file_extension": ".py",
   "mimetype": "text/x-python",
   "name": "python",
   "nbconvert_exporter": "python",
   "pygments_lexer": "ipython3",
   "version": "3.7.13"
  }
 },
 "nbformat": 4,
 "nbformat_minor": 5
}
