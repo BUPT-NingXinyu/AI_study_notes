{
 "cells": [
  {
   "cell_type": "markdown",
   "id": "c122966f-e718-4ea2-ab5b-d3b58b6d113f",
   "metadata": {},
   "source": [
    "# 手写实现PyTorch的DilatedConv和GroupConv\n",
    "\n",
    "来自b站up主deep_thoughts 合集【PyTorch源码教程与前沿人工智能算法复现讲解】\n",
    "\n",
    "P_27_手写实现PyTorch的DilatedConv和GroupConv：\n",
    "\n",
    "https://www.bilibili.com/video/BV1UY411W7W8/?spm_id_from=333.788&vd_source=18e91d849da09d846f771c89a366ed40\n",
    "\n",
    "torch.nn.Conv2d 官方文档：https://pytorch.org/docs/stable/generated/torch.nn.Conv2d.html#torch.nn.Conv2d"
   ]
  },
  {
   "cell_type": "markdown",
   "id": "fd7f98ee-2726-4169-9862-5e938d7e452a",
   "metadata": {},
   "source": [
    "## 讲解diliation"
   ]
  },
  {
   "cell_type": "code",
   "execution_count": 1,
   "id": "ca3ab3a4-867a-4426-b1ef-7ee18cb12b8f",
   "metadata": {},
   "outputs": [
    {
     "name": "stdout",
     "output_type": "stream",
     "text": [
      "tensor([[ 1.3251,  0.5899, -1.2114, -0.1594, -0.4984, -0.9406, -2.7473],\n",
      "        [ 0.5222,  0.0237,  0.0589, -1.1198, -0.0831, -1.6083, -0.8463],\n",
      "        [ 0.3990, -0.3168, -0.2034, -0.1573,  1.0243, -0.4935, -0.0531],\n",
      "        [ 1.7709, -0.6033,  1.4683,  0.0527, -0.5170,  0.6849,  1.2501],\n",
      "        [-0.2548, -0.8616,  0.2300,  0.1580,  3.1022,  1.0031, -0.3412],\n",
      "        [-0.2472,  0.2144,  0.9049, -0.3527,  1.1092,  2.0951,  1.9061],\n",
      "        [-0.0876,  0.2803,  1.4772, -0.3633, -0.9858, -1.3790,  0.3779]])\n",
      "tensor([[ 1.3251,  0.5899, -1.2114],\n",
      "        [ 0.5222,  0.0237,  0.0589],\n",
      "        [ 0.3990, -0.3168, -0.2034]])\n",
      "tensor([[ 1.3251, -1.2114, -0.4984],\n",
      "        [ 0.3990, -0.2034,  1.0243],\n",
      "        [-0.2548,  0.2300,  3.1022]])\n",
      "tensor([[ 1.3251, -0.1594, -2.7473],\n",
      "        [ 1.7709,  0.0527,  1.2501],\n",
      "        [-0.0876, -0.3633,  0.3779]])\n"
     ]
    }
   ],
   "source": [
    "import torch\n",
    "import torch.nn as nn\n",
    "import torch.nn.functional as F\n",
    "\n",
    "a = torch.randn(7, 7)\n",
    "\n",
    "print(a)\n",
    "\n",
    "print(a[0:3, 0:3])  # dilation=1\n",
    "\n",
    "print(a[0:5:2, 0:5:2])  # dilation=2\n",
    "\n",
    "print(a[0:7:3, 0:7:3])  # dilation=3"
   ]
  },
  {
   "cell_type": "markdown",
   "id": "5bdcd8fe-b80a-45ca-a210-ef36301760a4",
   "metadata": {},
   "source": [
    "## 讲解group convolution"
   ]
  },
  {
   "cell_type": "code",
   "execution_count": null,
   "id": "5eee0321-c98a-463f-8bad-b688ff13515e",
   "metadata": {},
   "outputs": [],
   "source": [
    "in_channel, out_channel = 2, 4\n",
    "groups = 2\n",
    "sub_in_channel, sub_out_channel = 1, 2\n",
    "\n",
    "# group>1，通道融合不需要完全充分，只需要在一个个group内进行融合，最后拼接\n",
    "# 1*1 pointwise convolution用于融合各通道"
   ]
  },
  {
   "cell_type": "markdown",
   "id": "418c3af5-c90d-4ce6-88d4-f29c6bf316ad",
   "metadata": {},
   "source": [
    "## 实现空洞卷积和群卷积(dilation and group)"
   ]
  },
  {
   "cell_type": "code",
   "execution_count": 2,
   "id": "bf1782d9-054d-44fe-9c82-82c61a99724e",
   "metadata": {},
   "outputs": [],
   "source": [
    "import torch\n",
    "import torch.nn as nn\n",
    "import torch.nn.functional as F\n",
    "import math\n",
    "\n",
    "def matrix_multiplication_for_conv2d_final(input, kernel, bias=0, stride=1, padding=0, dilation=1, groups=1):\n",
    "    if padding > 0:\n",
    "        input = F.pad(input, (padding, padding, padding, padding, 0, 0, 0, 0))\n",
    "        \n",
    "    bs, in_channel, input_h, input_w = input.shape\n",
    "    out_channel, _, kernel_h, kernel_w = kernel.shape\n",
    "    \n",
    "    assert out_channel % groups == 0 and in_channel % groups == 0, \"groups必须要同时被输入通道数和输出通道数整除！\"\n",
    "    input = input.reshape((bs, groups, in_channel//groups, input_h, input_w))\n",
    "    kernel = kernel.reshape((groups, out_channel//groups, in_channel//groups, kernel_h, kernel_w))\n",
    "    \n",
    "    kernel_h = (kernel_h-1)*(dilation-1)+kernel_h\n",
    "    kernel_w = (kernel_w-1)*(dilation-1)+kernel_w\n",
    "    \n",
    "    output_h = math.floor((input_h-kernel_h)/stride)+1\n",
    "    output_w = math.floor((input_w-kernel_w)/stride)+1\n",
    "    output_shape = (bs, groups, out_channel//groups, output_h, output_w)\n",
    "    output = torch.zeros(output_shape)\n",
    "    \n",
    "    if bias is None:\n",
    "        bias = torch.zeros(out_channel)\n",
    "        \n",
    "    for ind in range(bs):  # 对batchsize进行遍历\n",
    "        for g in range(groups):  # 对群组进行遍历\n",
    "            for oc in range(out_channel//groups):  # 对分组后的输出通道进行遍历\n",
    "                for ic in range(in_channel//groups):  # 对分组后的输入通道进行遍历\n",
    "                    for i in range(0, input_h-kernel_h+1, stride):  # 对高度遍历\n",
    "                        for j in range(0, input_w-kernel_w+1, stride):  # 对宽度遍历\n",
    "                            region = input[ind, g, ic, i:i+kernel_h:dilation, j:j+kernel_w:dilation]  # 特征区域\n",
    "                            output[ind, g, oc, int(i/stride), int(j/stride)] += torch.sum(region * kernel[g, oc, ic])\n",
    "                output[ind, g, oc] += bias[g*(out_channel//groups)+oc]  # 考虑偏置项\n",
    "    \n",
    "    output = output.reshape((bs, out_channel, output_h, output_w))  # 还原成四维张量\n",
    "    \n",
    "    return output"
   ]
  },
  {
   "cell_type": "markdown",
   "id": "2cb09ddb-294f-4d9f-85f0-d201ac5e6569",
   "metadata": {},
   "source": [
    "## 以下为验证测试的代码，验证函数与PyTorch API结果是否一致"
   ]
  },
  {
   "cell_type": "code",
   "execution_count": 9,
   "id": "67067ef6-6920-41e1-8f34-a93fa4046ba7",
   "metadata": {},
   "outputs": [
    {
     "name": "stdout",
     "output_type": "stream",
     "text": [
      "True\n"
     ]
    }
   ],
   "source": [
    "kernel_size = 3\n",
    "bs, in_channel, input_h, input_w = 2, 2, 5, 5\n",
    "out_channel = 4\n",
    "groups, dilation, stride, padding = 2, 2, 2, 1\n",
    "\n",
    "input = torch.randn(bs, in_channel, input_h, input_w)\n",
    "kernel = torch.randn(out_channel, in_channel//groups, kernel_size, kernel_size)\n",
    "bias = torch.randn(out_channel)\n",
    "\n",
    "pytorch_conv2d_api_output = F.conv2d(input, kernel, bias=bias, padding=padding, stride=stride, dilation=dilation, groups=groups)  # PyTorch API结果\n",
    "mm_conv2d_final_output = matrix_multiplication_for_conv2d_final(input, kernel, bias=bias, padding=padding, stride=stride, dilation=dilation, groups=groups)  # 自定义代码结果\n",
    "\n",
    "flag = torch.allclose(pytorch_conv2d_api_output, mm_conv2d_final_output)\n",
    "print(flag)"
   ]
  },
  {
   "cell_type": "code",
   "execution_count": null,
   "id": "ee224a8e-6bf9-4766-892e-0a069cfd0712",
   "metadata": {},
   "outputs": [],
   "source": []
  }
 ],
 "metadata": {
  "kernelspec": {
   "display_name": "Python 3 (ipykernel)",
   "language": "python",
   "name": "python3"
  },
  "language_info": {
   "codemirror_mode": {
    "name": "ipython",
    "version": 3
   },
   "file_extension": ".py",
   "mimetype": "text/x-python",
   "name": "python",
   "nbconvert_exporter": "python",
   "pygments_lexer": "ipython3",
   "version": "3.7.13"
  }
 },
 "nbformat": 4,
 "nbformat_minor": 5
}
