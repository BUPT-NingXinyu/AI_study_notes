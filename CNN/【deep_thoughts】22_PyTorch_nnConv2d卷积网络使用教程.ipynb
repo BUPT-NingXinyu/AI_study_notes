{
 "cells": [
  {
   "cell_type": "markdown",
   "id": "f403316c-a542-4ff4-b4d8-77171a3db29b",
   "metadata": {},
   "source": [
    "# PyTorch_nnConv2d卷积网络使用教程\n",
    "\n",
    "来自b站up主deep_thoughts 合集【PyTorch源码教程与前沿人工智能算法复现讲解】\n",
    "\n",
    "P_22_PyTorch_nnConv2d卷积网络使用教程：\n",
    "    \n",
    "https://www.bilibili.com/video/BV1644y1h7LN/?spm_id_from=333.788&vd_source=18e91d849da09d846f771c89a366ed40\n",
    "\n",
    "torch.nn.Conv2d 官方文档：https://pytorch.org/docs/stable/generated/torch.nn.Conv2d.html#torch.nn.Conv2d"
   ]
  },
  {
   "cell_type": "markdown",
   "id": "47e5063d-0854-4336-829d-9561d3a8ddbd",
   "metadata": {},
   "source": [
    "## 二维卷积代码演示"
   ]
  },
  {
   "cell_type": "code",
   "execution_count": 1,
   "id": "a61705ef-8b0e-4df6-83cf-65609c91f802",
   "metadata": {},
   "outputs": [
    {
     "name": "stdout",
     "output_type": "stream",
     "text": [
      "tensor([[[[-1.6155, -0.9003, -1.2621,  0.3788],\n",
      "          [-0.4390,  0.8870,  0.4498,  0.2923],\n",
      "          [-0.6850,  0.1102,  1.1019,  0.8104],\n",
      "          [-1.5448,  1.4200,  1.3042,  1.1856]]]])\n",
      "Parameter containing:\n",
      "tensor([[[[ 0.0935, -0.0714,  0.2275],\n",
      "          [-0.1964, -0.2870, -0.0367],\n",
      "          [-0.1168,  0.2220,  0.0298]]]], requires_grad=True)\n",
      "tensor([[[[-0.4214,  0.0339],\n",
      "          [ 0.5949, -0.0914]]]], grad_fn=<ConvolutionBackward0>)\n"
     ]
    }
   ],
   "source": [
    "import torch\n",
    "import torch.nn as nn\n",
    "import torch.nn.functional as F\n",
    "\n",
    "in_channels = 1\n",
    "out_channels = 1\n",
    "kernel_size = 3\n",
    "batch_size = 1\n",
    "bias = False\n",
    "input_size = [batch_size, in_channels, 4, 4]\n",
    "\n",
    "conv_layer = torch.nn.Conv2d(in_channels, out_channels, kernel_size, bias=bias)\n",
    "input_feature_map = torch.randn(input_size)\n",
    "output_feature_map = conv_layer(input_feature_map)\n",
    "\n",
    "print(input_feature_map)\n",
    "print(conv_layer.weight)  # 1*1*3*3=out_channels*in_channels*height*width\n",
    "print(output_feature_map)"
   ]
  },
  {
   "cell_type": "markdown",
   "id": "98e6228b-ce59-41af-bd55-3cf5fe138769",
   "metadata": {},
   "source": [
    "## functional.conv2d演示\n",
    "需要手动传入权重"
   ]
  },
  {
   "cell_type": "code",
   "execution_count": 2,
   "id": "aa040de4-a673-4ba6-ba13-dfa96dc89b54",
   "metadata": {},
   "outputs": [
    {
     "name": "stdout",
     "output_type": "stream",
     "text": [
      "tensor([[[[-0.4214,  0.0339],\n",
      "          [ 0.5949, -0.0914]]]], grad_fn=<ConvolutionBackward0>)\n"
     ]
    }
   ],
   "source": [
    "output_feature_map1 = F.conv2d(input_feature_map, conv_layer.weight)\n",
    "print(output_feature_map1)"
   ]
  },
  {
   "cell_type": "code",
   "execution_count": null,
   "id": "9bb7c8ec-dddd-4768-8203-0346327e48b2",
   "metadata": {},
   "outputs": [],
   "source": []
  }
 ],
 "metadata": {
  "kernelspec": {
   "display_name": "Python 3 (ipykernel)",
   "language": "python",
   "name": "python3"
  },
  "language_info": {
   "codemirror_mode": {
    "name": "ipython",
    "version": 3
   },
   "file_extension": ".py",
   "mimetype": "text/x-python",
   "name": "python",
   "nbconvert_exporter": "python",
   "pygments_lexer": "ipython3",
   "version": "3.7.13"
  }
 },
 "nbformat": 4,
 "nbformat_minor": 5
}
