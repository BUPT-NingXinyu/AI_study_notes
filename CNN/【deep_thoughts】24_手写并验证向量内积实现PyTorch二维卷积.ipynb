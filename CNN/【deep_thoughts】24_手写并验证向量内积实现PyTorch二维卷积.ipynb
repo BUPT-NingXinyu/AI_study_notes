{
 "cells": [
  {
   "cell_type": "markdown",
   "id": "f726a38d-ab1c-4d14-9f71-85cd2adc5550",
   "metadata": {},
   "source": [
    "# 手写并验证向量内积实现PyTorch二维卷积\n",
    "\n",
    "来自b站up主deep_thoughts 合集【PyTorch源码教程与前沿人工智能算法复现讲解】\n",
    "\n",
    "P_24_手写并验证向量内积实现PyTorch二维卷积：\n",
    "    \n",
    "https://www.bilibili.com/video/BV1Qb4y1i7n5/?spm_id_from=pageDriver&vd_source=18e91d849da09d846f771c89a366ed40\n",
    "\n",
    "torch.nn.Conv2d 官方文档：https://pytorch.org/docs/stable/generated/torch.nn.Conv2d.html#torch.nn.Conv2d"
   ]
  },
  {
   "cell_type": "markdown",
   "id": "e4704885-93e7-48b2-9eb1-59365712a43a",
   "metadata": {},
   "source": [
    "## 演示 torch.flatten 功能"
   ]
  },
  {
   "cell_type": "code",
   "execution_count": 2,
   "id": "20060d3d-e22d-4ac3-92d3-21f4151527e8",
   "metadata": {},
   "outputs": [
    {
     "name": "stdout",
     "output_type": "stream",
     "text": [
      "tensor([[-1.6046,  0.3836, -0.0580],\n",
      "        [ 0.1897,  0.5488, -0.3683]])\n",
      "tensor([-1.6046,  0.3836, -0.0580,  0.1897,  0.5488, -0.3683])\n"
     ]
    }
   ],
   "source": [
    "import torch\n",
    "import torch.nn as nn\n",
    "import torch.nn.functional as F\n",
    "\n",
    "a = torch.randn(2,3)\n",
    "print(a)\n",
    "a = torch.flatten(a)\n",
    "print(a)"
   ]
  },
  {
   "cell_type": "markdown",
   "id": "ac5d0fc4-5288-40a9-8644-228728e4834e",
   "metadata": {},
   "source": [
    "## 演示 numel 功能"
   ]
  },
  {
   "cell_type": "code",
   "execution_count": 3,
   "id": "1a082a73-e8e9-417c-9ea6-033328a54a90",
   "metadata": {},
   "outputs": [
    {
     "name": "stdout",
     "output_type": "stream",
     "text": [
      "6\n"
     ]
    }
   ],
   "source": [
    "print(a.numel())"
   ]
  },
  {
   "cell_type": "markdown",
   "id": "a847bd27-5103-43f9-8669-fdd93929a5f2",
   "metadata": {},
   "source": [
    "## 演示 reshape 功能"
   ]
  },
  {
   "cell_type": "code",
   "execution_count": 4,
   "id": "cf8c9f73-5c23-4685-ac6a-95b8fbaa6ee1",
   "metadata": {},
   "outputs": [
    {
     "name": "stdout",
     "output_type": "stream",
     "text": [
      "tensor([[-1.6046],\n",
      "        [ 0.3836],\n",
      "        [-0.0580],\n",
      "        [ 0.1897],\n",
      "        [ 0.5488],\n",
      "        [-0.3683]])\n"
     ]
    }
   ],
   "source": [
    "print(a.reshape(-1,1))"
   ]
  },
  {
   "cell_type": "markdown",
   "id": "24ba0c4b-17b6-4517-ab1d-6799906dbb02",
   "metadata": {},
   "source": [
    "## step2 用原始的矩阵运算来实现二维卷积，先不考虑batchsize和channel维度，flatten版本"
   ]
  },
  {
   "cell_type": "code",
   "execution_count": 17,
   "id": "351d52e8-e712-4b27-9e63-cf6a9435d202",
   "metadata": {},
   "outputs": [],
   "source": [
    "import torch\n",
    "import torch.nn as nn\n",
    "import torch.nn.functional as F\n",
    "import math\n",
    "\n",
    "input = torch.randn(5, 5)  # 卷积输入特征图\n",
    "kernel = torch.randn(3, 3)  # 卷积核\n",
    "bias = torch.randn(1)  # 卷积偏置，默认输出通道数目等于1\n",
    "\n",
    "def matrix_multiplication_for_conv2d_flatten(input, kernel, bias=0, stride=1, padding=0):\n",
    "    if padding > 0:\n",
    "        input = F.pad(input, (padding, padding, padding, padding))\n",
    "    input_h, input_w = input.shape\n",
    "    kernel_h, kernel_w = kernel.shape\n",
    "    \n",
    "    output_h = (math.floor((input_h - kernel_h)/stride) + 1)  # 卷积输出的高度\n",
    "    output_w = (math.floor((input_w - kernel_w)/stride) + 1)  # 卷积输出的宽度\n",
    "    output = torch.zeros(output_h, output_w)  # 初始化输出矩阵\n",
    "    \n",
    "    region_matrix = torch.zeros(output.numel(), kernel.numel())  # 存储着所有的拉平后的特征区域\n",
    "    kernel_matrix = kernel.reshape((kernel.numel(),1))  # kernel的列向量（矩阵）形式\n",
    "    row_index = 0\n",
    "    for i in range(0, input_h-kernel_h+1, stride):  # 对高度维进行遍历\n",
    "        for j in range(0, input_w-kernel_w+1, stride):  # 对宽度维进行遍历\n",
    "            region = input[i:i+kernel_h, j:j+kernel_w]  # 取出被核滑动到的区域\n",
    "            region_vector = torch.flatten(region)\n",
    "            region_matrix[row_index] = region_vector\n",
    "            row_index += 1\n",
    "            \n",
    "    output_matrix = region_matrix @ kernel_matrix\n",
    "    output = output_matrix.reshape((output_h, output_w)) + bias\n",
    "            \n",
    "    return output"
   ]
  },
  {
   "cell_type": "code",
   "execution_count": 18,
   "id": "b89e8392-a5bb-4943-bacc-e3d20daa204c",
   "metadata": {},
   "outputs": [
    {
     "name": "stdout",
     "output_type": "stream",
     "text": [
      "True\n",
      "tensor([[-1.1560,  1.1963,  0.8068],\n",
      "        [ 2.4367, -4.7094,  0.0379],\n",
      "        [-0.3445,  2.3627,  1.7416]])\n",
      "tensor([[-1.1560,  1.1963,  0.8068],\n",
      "        [ 2.4367, -4.7094,  0.0379],\n",
      "        [-0.3445,  2.3627,  1.7416]])\n"
     ]
    }
   ],
   "source": [
    "# 矩阵运算实现卷积的结果,flatten input 版本\n",
    "mat_mul_conv_output_flatten = matrix_multiplication_for_conv2d_flatten(input, kernel, bias=bias, padding=1, stride=2)\n",
    "\n",
    "# 调用PyTorch API卷积的结果\n",
    "pytorch_api_conv_output = F.conv2d(input.reshape((1,1,input.shape[0],input.shape[1])), \\\n",
    "                              kernel.reshape((1,1,kernel.shape[0],kernel.shape[1])),\\\n",
    "                                  padding=1,\\\n",
    "                                  bias=bias, stride=2).squeeze(0).squeeze(0)\n",
    "flag = torch.allclose(mat_mul_conv_output_flatten, pytorch_api_conv_output)\n",
    "print(flag)\n",
    "print(mat_mul_conv_output_flatten)\n",
    "print(pytorch_api_conv_output)"
   ]
  },
  {
   "cell_type": "markdown",
   "id": "870cf262-2824-481e-9bec-fe26d82da966",
   "metadata": {},
   "source": [
    "## 验证了flatten版本卷积与PyTorch官方卷积的结果，正确"
   ]
  },
  {
   "cell_type": "markdown",
   "id": "8be3d7ad-3ae1-46ca-bf0c-0b28cc4dc209",
   "metadata": {},
   "source": [
    "## step3 用原始的矩阵运算来实现二维卷积，考虑batchsize维度和channel维度"
   ]
  },
  {
   "cell_type": "code",
   "execution_count": 19,
   "id": "1e4b563f-37c3-426c-8819-ae43ffe7e380",
   "metadata": {},
   "outputs": [
    {
     "name": "stdout",
     "output_type": "stream",
     "text": [
      "True\n"
     ]
    }
   ],
   "source": [
    "def matrix_multiplication_for_conv2d_full(input, kernel, bias=0, stride=1, padding=0):\n",
    "    # input,kernel 都是4维的张量\n",
    "    if padding > 0:\n",
    "        input = F.pad(input, (padding, padding, padding, padding, 0, 0, 0, 0))\n",
    "    bs, in_channel, input_h, input_w = input.shape\n",
    "    out_channel, in_channel, kernel_h, kernel_w = kernel.shape\n",
    "    if bias is None:\n",
    "        bias = torch.zeros(out_channel)\n",
    "    \n",
    "    output_h = (math.floor((input_h - kernel_h)/stride) + 1)  # 卷积输出的高度\n",
    "    output_w = (math.floor((input_w - kernel_w)/stride) + 1)  # 卷积输出的宽度\n",
    "    output = torch.zeros(bs, out_channel, output_h, output_w)  # 初始化输出矩阵\n",
    "    \n",
    "    for ind in range(bs):\n",
    "        for oc in range(out_channel):\n",
    "            for ic in range(in_channel):\n",
    "                for i in range(0, input_h-kernel_h+1, stride):  # 对高度维进行遍历\n",
    "                    for j in range(0, input_w-kernel_w+1, stride):  # 对宽度维进行遍历\n",
    "                        region = input[ind, ic, i:i+kernel_h, j:j+kernel_w]  # 取出被核滑动到的区域\n",
    "                        output[ind, oc, int(i/stride), int(j/stride)] += torch.sum(region * kernel[oc, ic])  # 点乘，并赋值给输出位置的元素\n",
    "            output[ind, oc] += bias[oc]\n",
    "            \n",
    "    return output\n",
    "\n",
    "input = torch.randn(2, 2, 5, 5)  # bs*in_channel*in_h*in_w\n",
    "kernel = torch.randn(3, 2, 3, 3)  # out_channel*in_channel*kernel_h*kernel_w\n",
    "bias = torch.randn(3)\n",
    "\n",
    "# 验证matrix_multiplication_for_conv2d_full与PyTorch官方API的结果一致性\n",
    "pytorch_conv2d_api_output = F.conv2d(input, kernel, bias=bias, padding=1, stride=2)\n",
    "mm_conv2d_full_output = matrix_multiplication_for_conv2d_full(input, kernel, bias=bias, padding=1, stride=2)\n",
    "flag = torch.allclose(pytorch_conv2d_api_output, mm_conv2d_full_output)\n",
    "print(flag)"
   ]
  },
  {
   "cell_type": "code",
   "execution_count": null,
   "id": "42d90c1f-d379-419e-9d11-e435b246ff06",
   "metadata": {},
   "outputs": [],
   "source": []
  }
 ],
 "metadata": {
  "kernelspec": {
   "display_name": "Python 3 (ipykernel)",
   "language": "python",
   "name": "python3"
  },
  "language_info": {
   "codemirror_mode": {
    "name": "ipython",
    "version": 3
   },
   "file_extension": ".py",
   "mimetype": "text/x-python",
   "name": "python",
   "nbconvert_exporter": "python",
   "pygments_lexer": "ipython3",
   "version": "3.7.13"
  }
 },
 "nbformat": 4,
 "nbformat_minor": 5
}
