{
 "cells": [
  {
   "cell_type": "markdown",
   "id": "619bad0d-e0eb-43c8-a0c5-b035876a3b72",
   "metadata": {},
   "source": [
    "# 手写并验证滑动相乘实现PyTorch二维卷积\n",
    "\n",
    "来自b站up主deep_thoughts 合集【PyTorch源码教程与前沿人工智能算法复现讲解】\n",
    "\n",
    "P_23_手写并验证滑动相乘实现PyTorch二维卷积：\n",
    "    \n",
    "https://www.bilibili.com/video/BV1dP4y137er/?spm_id_from=pageDriver&vd_source=18e91d849da09d846f771c89a366ed40\n",
    "\n",
    "torch.nn.Conv2d 官方文档：https://pytorch.org/docs/stable/generated/torch.nn.Conv2d.html#torch.nn.Conv2d"
   ]
  },
  {
   "cell_type": "code",
   "execution_count": 8,
   "id": "22fca73f-5f7c-411e-b890-288379290cbd",
   "metadata": {},
   "outputs": [],
   "source": [
    "import torch\n",
    "import torch.nn as nn\n",
    "import torch.nn.functional as F\n",
    "import math\n",
    "\n",
    "input = torch.randn(5, 5)  # 卷积输入特征图\n",
    "kernel = torch.randn(3, 3)  # 卷积核\n",
    "bias = torch.randn(1)  # 卷积偏置，默认输出通道数目等于1"
   ]
  },
  {
   "cell_type": "markdown",
   "id": "9c68780c-02ad-478e-b425-13163cfeb484",
   "metadata": {},
   "source": [
    "## step1 用原始的矩阵运算来实现二维卷积(先不考虑batchsize维度和channel维度）"
   ]
  },
  {
   "cell_type": "code",
   "execution_count": 11,
   "id": "b2424bfa-f8d9-4e44-afd8-36e41ac32867",
   "metadata": {},
   "outputs": [
    {
     "name": "stdout",
     "output_type": "stream",
     "text": [
      "tensor([[-0.2715, -0.1478, -1.0462],\n",
      "        [-0.8441, -3.0159, -1.0775],\n",
      "        [-1.1408,  0.4017, -1.1233]])\n"
     ]
    }
   ],
   "source": [
    "def matrix_multiplication_for_conv2d(input, kernel, bias=0, stride=1, padding=0):\n",
    "    if padding > 0:\n",
    "        input = F.pad(input, (padding, padding, padding, padding))\n",
    "    input_h, input_w = input.shape\n",
    "    kernel_h, kernel_w = kernel.shape\n",
    "    \n",
    "    output_h = (math.floor((input_h - kernel_h)/stride) + 1)  # 卷积输出的高度\n",
    "    output_w = (math.floor((input_w - kernel_w)/stride) + 1)  # 卷积输出的宽度\n",
    "    output = torch.zeros(output_h, output_w)  # 初始化输出矩阵\n",
    "    for i in range(0, input_h-kernel_h+1, stride):  # 对高度维进行遍历\n",
    "        for j in range(0, input_w-kernel_w+1, stride):  # 对宽度维进行遍历\n",
    "            region = input[i:i+kernel_h, j:j+kernel_w]  # 取出被核滑动到的区域\n",
    "            output[int(i/stride), int(j/stride)] = torch.sum(region * kernel) + bias  # 点乘，并赋值给输出位置的元素\n",
    "            \n",
    "    return output\n",
    "# 矩阵运算实现卷积的结果\n",
    "mat_mul_conv_output = matrix_multiplication_for_conv2d(input, kernel, bias=bias, padding=1, stride=2)\n",
    "print(mat_mul_conv_output)"
   ]
  },
  {
   "cell_type": "code",
   "execution_count": 12,
   "id": "8db2a8c7-fea1-4fc9-9886-6a7c5a43a888",
   "metadata": {},
   "outputs": [
    {
     "name": "stdout",
     "output_type": "stream",
     "text": [
      "tensor([[-0.2715, -0.1478, -1.0462],\n",
      "        [-0.8441, -3.0159, -1.0775],\n",
      "        [-1.1408,  0.4017, -1.1233]])\n"
     ]
    }
   ],
   "source": [
    "# 调用PyTorch API卷积的结果\n",
    "pytorch_api_conv_output = F.conv2d(input.reshape((1,1,input.shape[0],input.shape[1])), \\\n",
    "                              kernel.reshape((1,1,kernel.shape[0],kernel.shape[1])),\\\n",
    "                                  padding=1,\\\n",
    "                                  bias=bias, stride=2)\n",
    "print(pytorch_api_conv_output.squeeze(0).squeeze(0))"
   ]
  },
  {
   "cell_type": "markdown",
   "id": "8909e8ae-a8bd-450e-b66d-650f374cfb1e",
   "metadata": {},
   "source": [
    "## 验证成功，矩阵乘法实现的卷积跟PyTorch API的结果一致"
   ]
  },
  {
   "cell_type": "code",
   "execution_count": null,
   "id": "5dd216f3-2695-435a-b15c-c1b9b0cba052",
   "metadata": {},
   "outputs": [],
   "source": []
  }
 ],
 "metadata": {
  "kernelspec": {
   "display_name": "Python 3 (ipykernel)",
   "language": "python",
   "name": "python3"
  },
  "language_info": {
   "codemirror_mode": {
    "name": "ipython",
    "version": 3
   },
   "file_extension": ".py",
   "mimetype": "text/x-python",
   "name": "python",
   "nbconvert_exporter": "python",
   "pygments_lexer": "ipython3",
   "version": "3.7.13"
  }
 },
 "nbformat": 4,
 "nbformat_minor": 5
}
