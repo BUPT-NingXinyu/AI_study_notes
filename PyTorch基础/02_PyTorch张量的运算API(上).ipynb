{
 "cells": [
  {
   "cell_type": "markdown",
   "id": "438c0f6d-d642-4f31-8615-6714ed0f1ba0",
   "metadata": {},
   "source": [
    "# PyTorch张量的运算API(上)\n",
    "\n",
    "来自b站up主deep_thoughts 合集【PyTorch源码教程与前沿人工智能算法复现讲解】\n",
    "\n",
    "P_02_PyTorch张量的运算API(上)：\n",
    "    \n",
    "https://www.bilibili.com/video/BV1wQ4y1q7Bm/?spm_id_from=333.788&vd_source=18e91d849da09d846f771c89a366ed40"
   ]
  },
  {
   "cell_type": "markdown",
   "id": "666e7c46-0be2-43b9-9f80-1f526ac1763a",
   "metadata": {},
   "source": [
    "### 将张量分割成特定数目"
   ]
  },
  {
   "cell_type": "code",
   "execution_count": 2,
   "id": "7c51c6ca-3ae3-487b-9a0b-1fc377b717e4",
   "metadata": {},
   "outputs": [
    {
     "name": "stdout",
     "output_type": "stream",
     "text": [
      "tensor([[0.8075, 0.4487],\n",
      "        [0.6549, 0.2947],\n",
      "        [0.5258, 0.2786]])\n",
      "tensor([[0.8075, 0.4487],\n",
      "        [0.6549, 0.2947]])\n",
      "tensor([[0.5258, 0.2786]])\n",
      "tensor([[0.8075],\n",
      "        [0.6549],\n",
      "        [0.5258]])\n",
      "tensor([[0.4487],\n",
      "        [0.2947],\n",
      "        [0.2786]])\n"
     ]
    }
   ],
   "source": [
    "import torch\n",
    "\n",
    "b = torch.rand([3,2])\n",
    "print(b)\n",
    "\n",
    "c, d = torch.chunk(b, chunks=2)\n",
    "print(c)\n",
    "print(d)\n",
    "\n",
    "c, d = torch.chunk(b, chunks=2, dim=1)\n",
    "print(c)\n",
    "print(d)"
   ]
  },
  {
   "cell_type": "markdown",
   "id": "9ab4eabe-db8f-4696-9824-781e62c25c0a",
   "metadata": {},
   "source": [
    "### 沿着某一维取变量"
   ]
  },
  {
   "cell_type": "code",
   "execution_count": 6,
   "id": "c5a4ce73-f599-4c21-8cf5-51400861aa3e",
   "metadata": {},
   "outputs": [
    {
     "name": "stdout",
     "output_type": "stream",
     "text": [
      "tensor([[1, 2],\n",
      "        [3, 4]])\n",
      "tensor([[1, 1],\n",
      "        [4, 3]])\n"
     ]
    }
   ],
   "source": [
    "t = torch.tensor([[1, 2], [3, 4]])\n",
    "print(t)\n",
    "\n",
    "print(torch.gather(t, 1, torch.tensor([[0, 0], [1, 0]])))"
   ]
  },
  {
   "cell_type": "markdown",
   "id": "da520305-b64a-4801-a1e9-4e9c18f79b4d",
   "metadata": {},
   "source": [
    "### reshape"
   ]
  },
  {
   "cell_type": "code",
   "execution_count": 8,
   "id": "de4d62fe-2ea3-4ce1-8739-cc82ac2a6409",
   "metadata": {},
   "outputs": [
    {
     "name": "stdout",
     "output_type": "stream",
     "text": [
      "tensor([0., 1., 2., 3.])\n",
      "tensor([[0., 1.],\n",
      "        [2., 3.]])\n",
      "tensor([[0, 1],\n",
      "        [2, 3]])\n",
      "tensor([0, 1, 2, 3])\n"
     ]
    }
   ],
   "source": [
    "a = torch.arange(4.)\n",
    "print(a)\n",
    "\n",
    "print(torch.reshape(a, (2, 2)))\n",
    "\n",
    "b = torch.tensor([[0, 1], [2, 3]])\n",
    "print(b)\n",
    "print(torch.reshape(b, (-1,)))"
   ]
  },
  {
   "cell_type": "markdown",
   "id": "852930fc-143e-434b-90bb-44ed7a9a66d2",
   "metadata": {},
   "source": [
    "### scatter\n",
    "\n",
    "self[index[i][j][k]][j][k] = src[i][j][k]  # if dim == 0\n",
    "\n",
    "self[i][index[i][j][k]][k] = src[i][j][k]  # if dim == 1\n",
    "\n",
    "self[i][j][index[i][j][k]] = src[i][j][k]  # if dim == 2"
   ]
  },
  {
   "cell_type": "code",
   "execution_count": 11,
   "id": "88fdb9d1-a60a-487d-a8eb-e4316eecdd41",
   "metadata": {},
   "outputs": [
    {
     "name": "stdout",
     "output_type": "stream",
     "text": [
      "tensor([[ 1,  2,  3,  4,  5],\n",
      "        [ 6,  7,  8,  9, 10]])\n",
      "tensor([[1, 0, 0, 4, 0],\n",
      "        [0, 2, 0, 0, 0],\n",
      "        [0, 0, 3, 0, 0]])\n",
      "tensor([[0, 0, 0, 0, 0],\n",
      "        [0, 0, 0, 0, 0],\n",
      "        [0, 0, 0, 0, 0]])\n"
     ]
    }
   ],
   "source": [
    "src = torch.arange(1, 11).reshape((2, 5))\n",
    "print(src)\n",
    "\n",
    "index = torch.tensor([[0, 1, 2, 0]])\n",
    "a = torch.zeros(3, 5, dtype=src.dtype)\n",
    "b = torch.zeros(3, 5, dtype=src.dtype)\n",
    "a.scatter_(0, index, src)  # 带_是原位操作\n",
    "print(a)\n",
    "b.scatter(0, index, src)  # 不带_非原位操作\n",
    "print(b)"
   ]
  },
  {
   "cell_type": "markdown",
   "id": "c22695aa-17e6-4fea-9388-cd879c9ff9ae",
   "metadata": {},
   "source": [
    "### scatter_add\n",
    "\n",
    "self[index[i][j][k]][j][k] += src[i][j][k]  # if dim == 0\n",
    "\n",
    "self[i][index[i][j][k]][k] += src[i][j][k]  # if dim == 1\n",
    "\n",
    "self[i][j][index[i][j][k]] += src[i][j][k]  # if dim == 2"
   ]
  },
  {
   "cell_type": "code",
   "execution_count": 13,
   "id": "ee366e43-cb80-44ae-b613-9450b041ff69",
   "metadata": {},
   "outputs": [],
   "source": [
    "# tensor.scatter_add_(0, index, src)"
   ]
  },
  {
   "cell_type": "markdown",
   "id": "b2f55367-5956-49f6-a418-efc0468a87f6",
   "metadata": {},
   "source": [
    "### split"
   ]
  },
  {
   "cell_type": "code",
   "execution_count": 15,
   "id": "57e05446-4f24-4fd9-b25f-f6f871fdfc28",
   "metadata": {},
   "outputs": [
    {
     "name": "stdout",
     "output_type": "stream",
     "text": [
      "tensor([[0, 1],\n",
      "        [2, 3],\n",
      "        [4, 5],\n",
      "        [6, 7],\n",
      "        [8, 9]])\n",
      "(tensor([[0, 1],\n",
      "        [2, 3]]), tensor([[4, 5],\n",
      "        [6, 7]]), tensor([[8, 9]]))\n",
      "(tensor([[0, 1]]), tensor([[2, 3],\n",
      "        [4, 5],\n",
      "        [6, 7],\n",
      "        [8, 9]]))\n"
     ]
    }
   ],
   "source": [
    "a = torch.arange(10).reshape(5,2)\n",
    "print(a)\n",
    "\n",
    "print(torch.split(a,2))\n",
    "\n",
    "print(torch.split(a, [1,4]))"
   ]
  },
  {
   "cell_type": "markdown",
   "id": "634ae7e3-9343-45b7-973a-3011b873b684",
   "metadata": {},
   "source": [
    "### squeeze 对维度为1的进行压缩"
   ]
  },
  {
   "cell_type": "code",
   "execution_count": 22,
   "id": "1e653e93-5ea9-4ded-b0ad-9db2af7146a5",
   "metadata": {},
   "outputs": [
    {
     "name": "stdout",
     "output_type": "stream",
     "text": [
      "torch.Size([5, 2])\n",
      "torch.Size([5, 1, 2])\n",
      "torch.Size([5, 2])\n"
     ]
    }
   ],
   "source": [
    "print(a.shape)\n",
    "\n",
    "a = torch.reshape(a, [5,1,2])\n",
    "print(a.shape)\n",
    "\n",
    "a = torch.squeeze(a)\n",
    "print(a.shape)"
   ]
  },
  {
   "cell_type": "code",
   "execution_count": 24,
   "id": "c2b8a26a-9d89-4858-b674-468b95f7193a",
   "metadata": {},
   "outputs": [
    {
     "name": "stdout",
     "output_type": "stream",
     "text": [
      "torch.Size([5, 1, 2, 1, 1])\n",
      "torch.Size([5, 2, 1, 1])\n"
     ]
    }
   ],
   "source": [
    "a = torch.reshape(a, [5,1,2,1,1])\n",
    "print(a.shape)\n",
    "\n",
    "a = torch.squeeze(a, dim=1)\n",
    "print(a.shape)"
   ]
  },
  {
   "cell_type": "markdown",
   "id": "7c092c25-bfe4-4465-bc11-d04c5d97338d",
   "metadata": {},
   "source": [
    "### stack 沿着某一个新的维度拼接张量"
   ]
  },
  {
   "cell_type": "code",
   "execution_count": 27,
   "id": "9c63b837-acb3-46d8-ad84-b5af71795c08",
   "metadata": {},
   "outputs": [
    {
     "name": "stdout",
     "output_type": "stream",
     "text": [
      "tensor([[[0.4368, 0.3750],\n",
      "         [0.4409, 0.6027],\n",
      "         [0.0223, 0.3677]],\n",
      "\n",
      "        [[0.3348, 0.8039],\n",
      "         [0.4344, 0.9419],\n",
      "         [0.5585, 0.0271]]])\n",
      "torch.Size([2, 3, 2])\n",
      "tensor([[[0.4368, 0.3750],\n",
      "         [0.3348, 0.8039]],\n",
      "\n",
      "        [[0.4409, 0.6027],\n",
      "         [0.4344, 0.9419]],\n",
      "\n",
      "        [[0.0223, 0.3677],\n",
      "         [0.5585, 0.0271]]])\n",
      "torch.Size([3, 2, 2])\n"
     ]
    }
   ],
   "source": [
    "a = torch.rand([3, 2])\n",
    "\n",
    "b = torch.rand([3, 2])\n",
    "\n",
    "print(torch.stack([a,b]))\n",
    "print(torch.stack([a,b]).shape)\n",
    "\n",
    "print(torch.stack([a,b],dim=1))\n",
    "print(torch.stack([a,b],dim=1).shape)"
   ]
  },
  {
   "cell_type": "code",
   "execution_count": null,
   "id": "c5ecadc3-f2fa-4c26-a65f-9fa3ac3e3928",
   "metadata": {},
   "outputs": [],
   "source": []
  }
 ],
 "metadata": {
  "kernelspec": {
   "display_name": "Python 3 (ipykernel)",
   "language": "python",
   "name": "python3"
  },
  "language_info": {
   "codemirror_mode": {
    "name": "ipython",
    "version": 3
   },
   "file_extension": ".py",
   "mimetype": "text/x-python",
   "name": "python",
   "nbconvert_exporter": "python",
   "pygments_lexer": "ipython3",
   "version": "3.7.13"
  }
 },
 "nbformat": 4,
 "nbformat_minor": 5
}
