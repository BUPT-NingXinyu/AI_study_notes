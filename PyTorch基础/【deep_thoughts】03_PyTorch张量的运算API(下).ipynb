{
 "cells": [
  {
   "cell_type": "markdown",
   "id": "43426372-6f53-4c1e-a0b6-03398ecbb435",
   "metadata": {},
   "source": [
    "# PyTorch张量的运算API(下)\n",
    "\n",
    "来自b站up主deep_thoughts 合集【PyTorch源码教程与前沿人工智能算法复现讲解】\n",
    "\n",
    "P_03_PyTorch张量的运算API(下)：\n",
    "    \n",
    "https://www.bilibili.com/video/BV1Hq4y1R7dM/?spm_id_from=333.788&vd_source=18e91d849da09d846f771c89a366ed40"
   ]
  },
  {
   "cell_type": "markdown",
   "id": "79ea0661-9be1-42fc-abcf-08917baf3ba0",
   "metadata": {},
   "source": [
    "### 数据类型"
   ]
  },
  {
   "cell_type": "markdown",
   "id": "a7940013-64d5-411e-8fbc-212acfcee1cb",
   "metadata": {},
   "source": [
    "### take\n",
    "\n",
    "把张量看作一维张量，按一维索引寻找"
   ]
  },
  {
   "cell_type": "code",
   "execution_count": 1,
   "id": "d623bd46-27ef-4f90-9f1d-c5aa7b839502",
   "metadata": {},
   "outputs": [
    {
     "name": "stdout",
     "output_type": "stream",
     "text": [
      "tensor([4, 5, 8])\n"
     ]
    }
   ],
   "source": [
    "import torch\n",
    "\n",
    "src = torch.tensor([[4, 3, 5],\n",
    "                    [6, 7, 8]])\n",
    "\n",
    "print(torch.take(src, torch.tensor([0, 2, 5])))"
   ]
  },
  {
   "cell_type": "markdown",
   "id": "9fad2907-3fd6-4026-90ab-b91fb89c9eb2",
   "metadata": {},
   "source": [
    "### tile\n",
    "拷贝"
   ]
  },
  {
   "cell_type": "code",
   "execution_count": 3,
   "id": "3585cca8-e851-4240-b82c-818b63e61628",
   "metadata": {},
   "outputs": [
    {
     "name": "stdout",
     "output_type": "stream",
     "text": [
      "tensor([1, 2, 3, 1, 2, 3])\n",
      "torch.Size([2, 2])\n",
      "tensor([[1, 2, 1, 2],\n",
      "        [3, 4, 3, 4],\n",
      "        [1, 2, 1, 2],\n",
      "        [3, 4, 3, 4]])\n",
      "torch.Size([4, 4])\n"
     ]
    }
   ],
   "source": [
    "x = torch.tensor([1, 2, 3])\n",
    "print(x.tile((2,)))\n",
    "\n",
    "y = torch.tensor([[1, 2], [3, 4]])\n",
    "print(y.shape)\n",
    "print(y.tile((2,2)))\n",
    "print(y.tile((2,2)).shape)"
   ]
  },
  {
   "cell_type": "code",
   "execution_count": 4,
   "id": "a129603a-ca55-4a4e-bf5f-8763d752fce2",
   "metadata": {},
   "outputs": [
    {
     "name": "stdout",
     "output_type": "stream",
     "text": [
      "tensor([[0.9383, 0.8079, 0.2456],\n",
      "        [0.5641, 0.4005, 0.6228],\n",
      "        [0.0807, 0.4719, 0.7719],\n",
      "        [0.8106, 0.9535, 0.2595],\n",
      "        [0.9383, 0.8079, 0.2456],\n",
      "        [0.5641, 0.4005, 0.6228],\n",
      "        [0.0807, 0.4719, 0.7719],\n",
      "        [0.8106, 0.9535, 0.2595]])\n",
      "tensor([[0.9383, 0.8079, 0.2456, 0.9383, 0.8079, 0.2456, 0.9383, 0.8079, 0.2456],\n",
      "        [0.5641, 0.4005, 0.6228, 0.5641, 0.4005, 0.6228, 0.5641, 0.4005, 0.6228],\n",
      "        [0.0807, 0.4719, 0.7719, 0.0807, 0.4719, 0.7719, 0.0807, 0.4719, 0.7719],\n",
      "        [0.8106, 0.9535, 0.2595, 0.8106, 0.9535, 0.2595, 0.8106, 0.9535, 0.2595]])\n",
      "tensor([[0.9383, 0.8079, 0.2456, 0.9383, 0.8079, 0.2456, 0.9383, 0.8079, 0.2456],\n",
      "        [0.5641, 0.4005, 0.6228, 0.5641, 0.4005, 0.6228, 0.5641, 0.4005, 0.6228],\n",
      "        [0.0807, 0.4719, 0.7719, 0.0807, 0.4719, 0.7719, 0.0807, 0.4719, 0.7719],\n",
      "        [0.8106, 0.9535, 0.2595, 0.8106, 0.9535, 0.2595, 0.8106, 0.9535, 0.2595],\n",
      "        [0.9383, 0.8079, 0.2456, 0.9383, 0.8079, 0.2456, 0.9383, 0.8079, 0.2456],\n",
      "        [0.5641, 0.4005, 0.6228, 0.5641, 0.4005, 0.6228, 0.5641, 0.4005, 0.6228],\n",
      "        [0.0807, 0.4719, 0.7719, 0.0807, 0.4719, 0.7719, 0.0807, 0.4719, 0.7719],\n",
      "        [0.8106, 0.9535, 0.2595, 0.8106, 0.9535, 0.2595, 0.8106, 0.9535, 0.2595]])\n"
     ]
    }
   ],
   "source": [
    "a = torch.rand((4,3))\n",
    "a_tiled = torch.tile(a, [2, 1])\n",
    "print(a_tiled)\n",
    "a_tiled = torch.tile(a, [1, 3])\n",
    "print(a_tiled)\n",
    "a_tiled = torch.tile(a, [2, 3])\n",
    "print(a_tiled)"
   ]
  },
  {
   "cell_type": "markdown",
   "id": "1e985f1d-d977-4baa-8cf9-de80d69c6efc",
   "metadata": {},
   "source": [
    "### transpose\n",
    "交换维度"
   ]
  },
  {
   "cell_type": "code",
   "execution_count": 7,
   "id": "72267c72-69eb-4356-8bb3-849981184ace",
   "metadata": {},
   "outputs": [
    {
     "name": "stdout",
     "output_type": "stream",
     "text": [
      "torch.Size([4, 3])\n",
      "torch.Size([3, 4])\n",
      "torch.Size([3, 4])\n"
     ]
    }
   ],
   "source": [
    "print(a.shape)\n",
    "print(torch.transpose(a, 0, 1).shape)\n",
    "print(torch.transpose(a, 1, 0).shape)  # 交换维度次序无影响"
   ]
  },
  {
   "cell_type": "markdown",
   "id": "f4109857-94d6-42fb-bbe5-85b074db3df4",
   "metadata": {},
   "source": [
    "### unbind"
   ]
  },
  {
   "cell_type": "code",
   "execution_count": 9,
   "id": "8e1297c9-e597-49df-a012-8ed4a25ae407",
   "metadata": {},
   "outputs": [
    {
     "name": "stdout",
     "output_type": "stream",
     "text": [
      "(tensor([0.9383, 0.8079, 0.2456]), tensor([0.5641, 0.4005, 0.6228]), tensor([0.0807, 0.4719, 0.7719]), tensor([0.8106, 0.9535, 0.2595]))\n",
      "(tensor([0.9383, 0.5641, 0.0807, 0.8106]), tensor([0.8079, 0.4005, 0.4719, 0.9535]), tensor([0.2456, 0.6228, 0.7719, 0.2595]))\n"
     ]
    }
   ],
   "source": [
    "print(torch.unbind(a, dim=0))\n",
    "print(torch.unbind(a, dim=1))"
   ]
  },
  {
   "cell_type": "code",
   "execution_count": 10,
   "id": "1c3a3a5e-6ea5-473f-80d4-ab14c6239803",
   "metadata": {},
   "outputs": [
    {
     "name": "stdout",
     "output_type": "stream",
     "text": [
      "tensor([[[0.7802, 0.2730, 0.2307, 0.1328],\n",
      "         [0.4724, 0.8309, 0.6556, 0.3949],\n",
      "         [0.3529, 0.0505, 0.1186, 0.0256]],\n",
      "\n",
      "        [[0.2904, 0.7528, 0.3549, 0.5706],\n",
      "         [0.7978, 0.8344, 0.7013, 0.3854],\n",
      "         [0.1777, 0.4671, 0.8260, 0.3666]]])\n",
      "(tensor([[0.7802, 0.2730, 0.2307, 0.1328],\n",
      "        [0.4724, 0.8309, 0.6556, 0.3949],\n",
      "        [0.3529, 0.0505, 0.1186, 0.0256]]), tensor([[0.2904, 0.7528, 0.3549, 0.5706],\n",
      "        [0.7978, 0.8344, 0.7013, 0.3854],\n",
      "        [0.1777, 0.4671, 0.8260, 0.3666]]))\n",
      "(tensor([[0.7802, 0.2730, 0.2307, 0.1328],\n",
      "        [0.2904, 0.7528, 0.3549, 0.5706]]), tensor([[0.4724, 0.8309, 0.6556, 0.3949],\n",
      "        [0.7978, 0.8344, 0.7013, 0.3854]]), tensor([[0.3529, 0.0505, 0.1186, 0.0256],\n",
      "        [0.1777, 0.4671, 0.8260, 0.3666]]))\n",
      "(tensor([[0.7802, 0.4724, 0.3529],\n",
      "        [0.2904, 0.7978, 0.1777]]), tensor([[0.2730, 0.8309, 0.0505],\n",
      "        [0.7528, 0.8344, 0.4671]]), tensor([[0.2307, 0.6556, 0.1186],\n",
      "        [0.3549, 0.7013, 0.8260]]), tensor([[0.1328, 0.3949, 0.0256],\n",
      "        [0.5706, 0.3854, 0.3666]]))\n"
     ]
    }
   ],
   "source": [
    "a = torch.rand((2,3,4))\n",
    "print(a)\n",
    "\n",
    "print(torch.unbind(a, dim=0))\n",
    "print(torch.unbind(a, dim=1))\n",
    "print(torch.unbind(a, dim=2))"
   ]
  },
  {
   "cell_type": "markdown",
   "id": "ed56a09a-8e6d-4193-880f-07cc892a2397",
   "metadata": {},
   "source": [
    "### unsqueeze\n",
    "在特定维度上新增维度"
   ]
  },
  {
   "cell_type": "code",
   "execution_count": 16,
   "id": "6fcaa261-c316-4240-b808-7c283a01c7c1",
   "metadata": {},
   "outputs": [
    {
     "name": "stdout",
     "output_type": "stream",
     "text": [
      "torch.Size([2, 3, 4])\n",
      "torch.Size([1, 2, 3, 4])\n",
      "torch.Size([2, 1, 3, 4])\n",
      "torch.Size([2, 3, 4, 1])\n"
     ]
    }
   ],
   "source": [
    "print(a.shape)\n",
    "print(torch.unsqueeze(a, dim=0).shape)\n",
    "print(torch.unsqueeze(a, dim=1).shape)\n",
    "print(torch.unsqueeze(a, dim=-1).shape)"
   ]
  },
  {
   "cell_type": "markdown",
   "id": "45a66f4c-77dd-48d0-a85f-5d28e73a9563",
   "metadata": {},
   "source": [
    "### where\n",
    "根据条件返回"
   ]
  },
  {
   "cell_type": "code",
   "execution_count": 17,
   "id": "59f6bb17-00a8-4e95-9a8d-6d6892fd3159",
   "metadata": {},
   "outputs": [
    {
     "name": "stdout",
     "output_type": "stream",
     "text": [
      "tensor([[0.4035, 0.6078],\n",
      "        [0.4278, 0.5887]])\n",
      "tensor([[0.0000, 0.6078],\n",
      "        [0.0000, 0.5887]])\n"
     ]
    }
   ],
   "source": [
    "a = torch.rand(2,2)\n",
    "b = torch.zeros_like(a)\n",
    "\n",
    "print(a)\n",
    "print(torch.where(a>0.5,a,b))"
   ]
  },
  {
   "cell_type": "markdown",
   "id": "345e6df9-deed-4d30-8398-8c8ce3a46c55",
   "metadata": {},
   "source": [
    "### 随机种子"
   ]
  },
  {
   "cell_type": "code",
   "execution_count": 38,
   "id": "6526157f-cfb6-4283-9f75-26ea72ab9efa",
   "metadata": {},
   "outputs": [],
   "source": [
    "# torch.manual_seed(args.seed)"
   ]
  },
  {
   "cell_type": "markdown",
   "id": "1add3e14-d197-4ba5-a286-4f314177c7d4",
   "metadata": {},
   "source": [
    "### 伯努利随机\n",
    "按概率生成0 1"
   ]
  },
  {
   "cell_type": "code",
   "execution_count": 18,
   "id": "9ad8c421-f6fc-40fb-a07f-5c31142b8f2e",
   "metadata": {},
   "outputs": [
    {
     "name": "stdout",
     "output_type": "stream",
     "text": [
      "tensor([[0.7856, 0.9535, 0.5887],\n",
      "        [0.1322, 0.3555, 0.8761],\n",
      "        [0.1007, 0.1046, 0.2710]])\n",
      "tensor([[1., 1., 0.],\n",
      "        [1., 0., 1.],\n",
      "        [0., 0., 0.]])\n"
     ]
    }
   ],
   "source": [
    "a = torch.empty(3, 3).uniform_(0, 1)  # generate a uniform random matrix with range [0, 1]\n",
    "print(a)\n",
    "\n",
    "print(torch.bernoulli(a))"
   ]
  },
  {
   "cell_type": "markdown",
   "id": "2ad3dd84-6b5b-4a67-9508-2b415834e9ad",
   "metadata": {},
   "source": [
    "### 正态分布"
   ]
  },
  {
   "cell_type": "code",
   "execution_count": 19,
   "id": "7778794e-ea8a-43e8-8d6e-1c2d1b1cdf6b",
   "metadata": {},
   "outputs": [
    {
     "name": "stdout",
     "output_type": "stream",
     "text": [
      "tensor([1.3837, 2.4091, 3.0886, 3.7870, 4.7371, 5.9627, 7.2222, 7.8592, 8.8449,\n",
      "        9.8328])\n",
      "tensor([ 2.0447,  3.3631,  9.7270,  3.2062, -2.3890])\n",
      "tensor([[-3.8883,  5.9997,  2.6758,  3.2884]])\n"
     ]
    }
   ],
   "source": [
    "# 按不同均值 不同方差产生\n",
    "print(torch.normal(mean=torch.arange(1., 11.), std=torch.arange(1, 0, -0.1)))\n",
    "\n",
    "# 按同一均值 不同方差产生\n",
    "print(torch.normal(mean=0.5, std=torch.arange(1, 6.)))\n",
    "\n",
    "# 均值标准差给定 指定生成大小\n",
    "print(torch.normal(2, 3, size=(1, 4)))"
   ]
  },
  {
   "cell_type": "markdown",
   "id": "68857808-ad78-41c2-b25c-208e2f2e8b42",
   "metadata": {},
   "source": [
    "### rand\n",
    "0-1区间均匀分布 [0, 1)"
   ]
  },
  {
   "cell_type": "markdown",
   "id": "c07ef38c-5789-4611-a030-dd00d811a2ae",
   "metadata": {},
   "source": [
    "### randint\n",
    "随机生成整数 指定上下界和大小"
   ]
  },
  {
   "cell_type": "code",
   "execution_count": 35,
   "id": "4cdd7a36-d755-43b9-8ea9-721f5bd3e797",
   "metadata": {},
   "outputs": [
    {
     "name": "stdout",
     "output_type": "stream",
     "text": [
      "tensor([3, 4, 4])\n",
      "tensor([[3, 5],\n",
      "        [4, 6]])\n"
     ]
    }
   ],
   "source": [
    "# 指定上下界\n",
    "print(torch.randint(3, 5, (3,)))\n",
    "\n",
    "# 指定上界\n",
    "print(torch.randint(10, (2, 2)))"
   ]
  },
  {
   "cell_type": "markdown",
   "id": "9fccfbb6-217c-4c11-8847-3d17ce4802c4",
   "metadata": {},
   "source": [
    "### randn\n",
    "均值为0 标准差为1的正态分布"
   ]
  },
  {
   "cell_type": "code",
   "execution_count": 36,
   "id": "a7637229-43cc-44a5-ae1d-5661a8c3bdd1",
   "metadata": {},
   "outputs": [
    {
     "name": "stdout",
     "output_type": "stream",
     "text": [
      "tensor([0.7700, 0.2252, 1.4954, 1.4723])\n",
      "tensor([[ 0.7366, -0.5231,  1.5348],\n",
      "        [ 0.3197,  1.3643, -0.2376]])\n"
     ]
    }
   ],
   "source": [
    "print(torch.randn(4))\n",
    "\n",
    "print(torch.randn(2, 3))"
   ]
  },
  {
   "cell_type": "markdown",
   "id": "4e862daa-4979-4f56-a405-6452ab1f3912",
   "metadata": {},
   "source": [
    "### randperm\n",
    "获取随机组合,用于构建随机数据集索引"
   ]
  },
  {
   "cell_type": "code",
   "execution_count": 37,
   "id": "a5fa28f0-41d6-495c-922e-c05c2e9ab50b",
   "metadata": {},
   "outputs": [
    {
     "name": "stdout",
     "output_type": "stream",
     "text": [
      "tensor([1, 0, 2, 3])\n"
     ]
    }
   ],
   "source": [
    "print(torch.randperm(4))"
   ]
  },
  {
   "cell_type": "code",
   "execution_count": null,
   "id": "86cfd77e-5d96-456d-90d7-bf11c6b88f4a",
   "metadata": {},
   "outputs": [],
   "source": []
  }
 ],
 "metadata": {
  "kernelspec": {
   "display_name": "Python 3 (ipykernel)",
   "language": "python",
   "name": "python3"
  },
  "language_info": {
   "codemirror_mode": {
    "name": "ipython",
    "version": 3
   },
   "file_extension": ".py",
   "mimetype": "text/x-python",
   "name": "python",
   "nbconvert_exporter": "python",
   "pygments_lexer": "ipython3",
   "version": "3.7.13"
  }
 },
 "nbformat": 4,
 "nbformat_minor": 5
}
