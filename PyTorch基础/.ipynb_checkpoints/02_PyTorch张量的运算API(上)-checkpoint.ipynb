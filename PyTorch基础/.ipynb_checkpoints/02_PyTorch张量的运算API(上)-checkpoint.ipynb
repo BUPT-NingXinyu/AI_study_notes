{
 "cells": [
  {
   "cell_type": "markdown",
   "id": "438c0f6d-d642-4f31-8615-6714ed0f1ba0",
   "metadata": {},
   "source": [
    "# PyTorch张量的运算API(上)\n",
    "\n",
    "来自b站up主deep_thoughts 合集【PyTorch源码教程与前沿人工智能算法复现讲解】\n",
    "\n",
    "P_02_PyTorch张量的运算API(上)：\n",
    "    \n",
    "https://www.bilibili.com/video/BV1wQ4y1q7Bm/?spm_id_from=333.788&vd_source=18e91d849da09d846f771c89a366ed40"
   ]
  },
  {
   "cell_type": "code",
   "execution_count": null,
   "id": "7c51c6ca-3ae3-487b-9a0b-1fc377b717e4",
   "metadata": {},
   "outputs": [],
   "source": []
  }
 ],
 "metadata": {
  "kernelspec": {
   "display_name": "Python 3 (ipykernel)",
   "language": "python",
   "name": "python3"
  },
  "language_info": {
   "codemirror_mode": {
    "name": "ipython",
    "version": 3
   },
   "file_extension": ".py",
   "mimetype": "text/x-python",
   "name": "python",
   "nbconvert_exporter": "python",
   "pygments_lexer": "ipython3",
   "version": "3.7.13"
  }
 },
 "nbformat": 4,
 "nbformat_minor": 5
}
