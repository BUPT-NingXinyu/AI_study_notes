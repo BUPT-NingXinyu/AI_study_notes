{
 "cells": [
  {
   "cell_type": "markdown",
   "id": "f8a18594-bdf4-4511-a8b0-ef7ace8eff6f",
   "metadata": {},
   "source": [
    "# PyTorch介绍与张量的创建\n",
    "\n",
    "来自b站up主deep_thoughts 合集【PyTorch源码教程与前沿人工智能算法复现讲解】\n",
    "\n",
    "P_01 PyTorch介绍与张量的创建：\n",
    "    \n",
    "https://www.bilibili.com/video/BV1ov411M7xL/?spm_id_from=333.1007.top_right_bar_window_default_collection.content.click&vd_source=18e91d849da09d846f771c89a366ed40"
   ]
  },
  {
   "cell_type": "markdown",
   "id": "4eb797ab-a5a4-4c3f-90e0-9676a9b3687b",
   "metadata": {},
   "source": [
    "## 初始化tensor\n",
    "### list 转换 tensor"
   ]
  },
  {
   "cell_type": "code",
   "execution_count": 3,
   "id": "edce5a9f-698e-47a7-b995-8d15681d514a",
   "metadata": {},
   "outputs": [
    {
     "name": "stdout",
     "output_type": "stream",
     "text": [
      "<class 'list'>\n",
      "tensor([1., 2., 3.])\n",
      "<class 'torch.Tensor'>\n",
      "torch.float32\n"
     ]
    }
   ],
   "source": [
    "import torch\n",
    "\n",
    "a = [1., 2., 3.]\n",
    "\n",
    "print(type(a))\n",
    "\n",
    "b = torch.tensor(a)\n",
    "\n",
    "print(b)\n",
    "print(type(b))\n",
    "print(b.dtype)"
   ]
  },
  {
   "cell_type": "markdown",
   "id": "7ffb8795-ceab-46b2-9846-0fc9543d60b3",
   "metadata": {},
   "source": [
    "### np 转换 tensor"
   ]
  },
  {
   "cell_type": "code",
   "execution_count": 7,
   "id": "03deb64f-b56c-4622-a193-23e9ba83559a",
   "metadata": {},
   "outputs": [
    {
     "name": "stdout",
     "output_type": "stream",
     "text": [
      "tensor([0.2106, 2.6964], dtype=torch.float64)\n",
      "tensor([1., 1., 1.])\n",
      "tensor([0., 0., 0.])\n",
      "tensor([0.0749, 0.4186, 0.2845])\n"
     ]
    }
   ],
   "source": [
    "import numpy as np\n",
    "\n",
    "a = np.random.normal((2,3))\n",
    "a = torch.tensor(a)\n",
    "print(a)\n",
    "\n",
    "c = torch.ones_like(b)\n",
    "print(c)\n",
    "c = torch.zeros_like(b)\n",
    "print(c)\n",
    "c = torch.rand_like(b)\n",
    "print(c)"
   ]
  },
  {
   "cell_type": "markdown",
   "id": "f4a0ce90-d7fe-4812-a3c5-e5a91d7508c8",
   "metadata": {},
   "source": [
    "### 直接定义及查看属性"
   ]
  },
  {
   "cell_type": "code",
   "execution_count": 9,
   "id": "72679636-fc92-4706-9cf8-41643e3a4fda",
   "metadata": {},
   "outputs": [
    {
     "name": "stdout",
     "output_type": "stream",
     "text": [
      "torch.float32\n",
      "torch.Size([2, 2])\n",
      "cpu\n"
     ]
    }
   ],
   "source": [
    "a = torch.rand((2,2))\n",
    "print(a.dtype)\n",
    "print(a.shape)\n",
    "print(a.device)"
   ]
  },
  {
   "cell_type": "markdown",
   "id": "a5be435c-adf1-470b-9291-8385f6c276ee",
   "metadata": {},
   "source": [
    "### tensor转移至GPU"
   ]
  },
  {
   "cell_type": "code",
   "execution_count": 11,
   "id": "a8c6843a-a686-49b8-aebc-553b0ef71cc0",
   "metadata": {},
   "outputs": [],
   "source": [
    "# we move our tensor to the GPU if available\n",
    "if torch.cuda.is_available():\n",
    "    #tensor = tensor.to('cuda')\n",
    "    tensor = a.to('cuda')"
   ]
  },
  {
   "cell_type": "markdown",
   "id": "d6623c20-a944-457f-a4d2-30213bd68b5c",
   "metadata": {},
   "source": [
    "### 常用tensor操作"
   ]
  },
  {
   "cell_type": "code",
   "execution_count": 16,
   "id": "1767f613-49c3-4006-b095-1dc81466cb8c",
   "metadata": {},
   "outputs": [
    {
     "name": "stdout",
     "output_type": "stream",
     "text": [
      "True\n",
      "False\n",
      "True\n",
      "False\n",
      "4\n",
      "torch.Size([2, 2])\n"
     ]
    }
   ],
   "source": [
    "# 判断是否为tensor\n",
    "print(torch.is_tensor(a))\n",
    "\n",
    "# 判断是否是复数\n",
    "print(torch.is_complex(a))\n",
    "\n",
    "# 判断是否是浮点型\n",
    "print(torch.is_floating_point(a))\n",
    "\n",
    "# 判断 单一元素 是否非零\n",
    "zero = torch.tensor(0)\n",
    "print(torch.is_nonzero(zero))\n",
    "\n",
    "# 判断张量中所有元素的数目\n",
    "print(torch.numel(a))\n",
    "print(a.shape)"
   ]
  },
  {
   "cell_type": "code",
   "execution_count": 18,
   "id": "9aa4298a-3830-4380-a610-df0629362ca0",
   "metadata": {},
   "outputs": [
    {
     "name": "stdout",
     "output_type": "stream",
     "text": [
      "tensor([[0., 0., 0., 0., 0.],\n",
      "        [0., 0., 0., 0., 0.],\n",
      "        [0., 0., 0., 0., 0.],\n",
      "        [0., 0., 0., 0., 0.],\n",
      "        [0., 0., 0., 0., 0.]])\n",
      "tensor([[0., 0.],\n",
      "        [0., 0.]], dtype=torch.float32)\n",
      "torch.float64\n",
      "torch.float64\n"
     ]
    }
   ],
   "source": [
    "# 创建全零张量\n",
    "print(torch.zeros([5,5]))\n",
    "print(torch.zeros_like(a))\n",
    "\n",
    "# 设置张量数字类型\n",
    "print(torch.tensor([1.2, 3]).dtype)\n",
    "torch.set_default_tensor_type(torch.DoubleTensor)\n",
    "print(torch.tensor([1.2, 3]).dtype)\n",
    "\n"
   ]
  },
  {
   "cell_type": "markdown",
   "id": "cd155158-8e61-4adf-a272-6e93ad6c33a3",
   "metadata": {},
   "source": [
    "### arange 和 range"
   ]
  },
  {
   "cell_type": "code",
   "execution_count": 21,
   "id": "4ea50987-da81-4f1a-a7ed-7914149d7aa7",
   "metadata": {},
   "outputs": [
    {
     "name": "stdout",
     "output_type": "stream",
     "text": [
      "tensor([0, 1, 2, 3, 4])\n",
      "tensor([0., 1., 2., 3., 4., 5.])\n",
      "torch.float64\n"
     ]
    },
    {
     "name": "stderr",
     "output_type": "stream",
     "text": [
      "D:\\anaconda3\\envs\\swin\\lib\\site-packages\\ipykernel_launcher.py:3: UserWarning: torch.range is deprecated and will be removed in a future release because its behavior is inconsistent with Python's range builtin. Instead, use torch.arange, which produces values in [start, end).\n",
      "  This is separate from the ipykernel package so we can avoid doing imports until\n",
      "D:\\anaconda3\\envs\\swin\\lib\\site-packages\\ipykernel_launcher.py:5: UserWarning: torch.range is deprecated and will be removed in a future release because its behavior is inconsistent with Python's range builtin. Instead, use torch.arange, which produces values in [start, end).\n",
      "  \"\"\"\n"
     ]
    }
   ],
   "source": [
    "print(torch.arange(5))\n",
    "\n",
    "print(torch.range(start=0, end=5))\n",
    "\n",
    "print(torch.range(start=0, end=5).dtype)"
   ]
  },
  {
   "cell_type": "code",
   "execution_count": 22,
   "id": "8f327b14-f692-4c89-98f8-375b753eb04a",
   "metadata": {},
   "outputs": [
    {
     "name": "stdout",
     "output_type": "stream",
     "text": [
      "epoch: tensor(0)\n",
      "epoch: tensor(1)\n",
      "epoch: tensor(2)\n",
      "epoch: tensor(3)\n",
      "epoch: tensor(4)\n",
      "epoch: tensor(5)\n",
      "epoch: tensor(6)\n",
      "epoch: tensor(7)\n",
      "epoch: tensor(8)\n",
      "epoch: tensor(9)\n"
     ]
    }
   ],
   "source": [
    "for i in torch.arange(10):\n",
    "    print(\"epoch:\", i)"
   ]
  },
  {
   "cell_type": "markdown",
   "id": "ea177f06-29c8-4110-b53e-0605191a6e73",
   "metadata": {},
   "source": [
    "### 创建对角阵"
   ]
  },
  {
   "cell_type": "code",
   "execution_count": 23,
   "id": "9e302988-c36a-454a-bab4-b3328c748847",
   "metadata": {},
   "outputs": [
    {
     "name": "stdout",
     "output_type": "stream",
     "text": [
      "tensor([[1., 0., 0.],\n",
      "        [0., 1., 0.],\n",
      "        [0., 0., 1.]])\n"
     ]
    }
   ],
   "source": [
    "print(torch.eye(3))"
   ]
  },
  {
   "cell_type": "markdown",
   "id": "09c9f0bb-f5ab-47b4-a21a-813047a94090",
   "metadata": {},
   "source": [
    "### 创建全为某元素的矩阵"
   ]
  },
  {
   "cell_type": "code",
   "execution_count": 25,
   "id": "836facb8-e5d2-4c42-8d16-04fc43f3f41b",
   "metadata": {},
   "outputs": [
    {
     "name": "stdout",
     "output_type": "stream",
     "text": [
      "tensor([[5, 5],\n",
      "        [5, 5]])\n",
      "tensor([[5., 5.],\n",
      "        [5., 5.]], dtype=torch.float32)\n"
     ]
    }
   ],
   "source": [
    "print(torch.full([2,2],5))\n",
    "\n",
    "print(torch.full_like(a,5))"
   ]
  },
  {
   "cell_type": "markdown",
   "id": "11c66097-6100-4cee-9164-4cd3553c70a8",
   "metadata": {},
   "source": [
    "### 张量连接"
   ]
  },
  {
   "cell_type": "code",
   "execution_count": 27,
   "id": "f872a738-607a-43e0-a13d-be6ec82d4ac2",
   "metadata": {},
   "outputs": [
    {
     "name": "stdout",
     "output_type": "stream",
     "text": [
      "tensor([[0.0762, 0.4375],\n",
      "        [0.8017, 0.7266]])\n",
      "tensor([[0.1691, 0.2970, 0.3257],\n",
      "        [0.1075, 0.6624, 0.5435]])\n",
      "tensor([[0.0762, 0.4375, 0.1691, 0.2970, 0.3257],\n",
      "        [0.8017, 0.7266, 0.1075, 0.6624, 0.5435]])\n",
      "torch.Size([2, 5])\n",
      "tensor([[0.3697, 0.5624],\n",
      "        [0.7589, 0.0888]])\n",
      "tensor([[0.8046, 0.1663],\n",
      "        [0.9330, 0.6385],\n",
      "        [0.0292, 0.8845]])\n",
      "tensor([[0.3697, 0.5624],\n",
      "        [0.7589, 0.0888],\n",
      "        [0.8046, 0.1663],\n",
      "        [0.9330, 0.6385],\n",
      "        [0.0292, 0.8845]])\n",
      "torch.Size([5, 2])\n"
     ]
    }
   ],
   "source": [
    "a = torch.rand([2,2])\n",
    "print(a)\n",
    "b = torch.rand([2,3])\n",
    "print(b)\n",
    "c = torch.cat([a,b],dim=1)\n",
    "print(c)\n",
    "print(c.shape)\n",
    "\n",
    "a = torch.rand([2,2])\n",
    "print(a)\n",
    "b = torch.rand([3,2])\n",
    "print(b)\n",
    "c = torch.cat([a,b],dim=0)\n",
    "print(c)\n",
    "print(c.shape)"
   ]
  },
  {
   "cell_type": "code",
   "execution_count": null,
   "id": "44e05af8-d275-4114-8839-c08dc66d83f6",
   "metadata": {},
   "outputs": [],
   "source": []
  }
 ],
 "metadata": {
  "kernelspec": {
   "display_name": "Python 3 (ipykernel)",
   "language": "python",
   "name": "python3"
  },
  "language_info": {
   "codemirror_mode": {
    "name": "ipython",
    "version": 3
   },
   "file_extension": ".py",
   "mimetype": "text/x-python",
   "name": "python",
   "nbconvert_exporter": "python",
   "pygments_lexer": "ipython3",
   "version": "3.7.13"
  }
 },
 "nbformat": 4,
 "nbformat_minor": 5
}
