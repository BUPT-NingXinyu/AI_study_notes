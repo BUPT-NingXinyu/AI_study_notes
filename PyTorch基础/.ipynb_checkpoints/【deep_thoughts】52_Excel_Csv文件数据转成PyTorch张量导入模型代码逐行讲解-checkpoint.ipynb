{
 "cells": [
  {
   "cell_type": "markdown",
   "id": "3bb8d76d-a8db-4f13-99f9-c5a3832f5a1d",
   "metadata": {},
   "source": [
    "# Excel/Csv文件数据转成PyTorch张量导入模型代码逐行讲解\n",
    "\n",
    "来自b站up主deep_thoughts 合集【PyTorch源码教程与前沿人工智能算法复现讲解】\n",
    "\n",
    "P_52_Excel/Csv文件数据转成PyTorch张量导入模型代码逐行讲解：\n",
    "\n",
    "https://www.bilibili.com/video/BV1nR4y1N7Vj/?spm_id_from=333.788&vd_source=18e91d849da09d846f771c89a366ed40"
   ]
  },
  {
   "cell_type": "code",
   "execution_count": 1,
   "id": "b5ba2693-1a07-44cf-99d8-282b2d306e64",
   "metadata": {},
   "outputs": [],
   "source": [
    "# 安装以下库\n",
    "# pip install openpyxl -i https://pypi.tuna.tsinghua.edu.cn/simple\n",
    "# pip install pands -i https://pypi.tuna.tsinghua.edu.cn/simple\n",
    "# pip install numpy -i https://pypi.tuna.tsinghua.edu.cn/simple\n",
    "# pip install torch torchvision torchaudio -i https://pypi.tuna.tsinghua.edu.cn/simple"
   ]
  },
  {
   "cell_type": "code",
   "execution_count": 4,
   "id": "54298cb8-299e-49bc-b42a-76f67fe46372",
   "metadata": {},
   "outputs": [],
   "source": [
    "import torch\n",
    "from torch.utils.data import Dataset\n",
    "from torch.utils.data import DataLoader\n",
    "import numpy as np\n",
    "import pandas"
   ]
  },
  {
   "cell_type": "markdown",
   "id": "00079b5e-3a69-41a6-9ea3-d0d4c0f18d13",
   "metadata": {},
   "source": [
    "## 编写ExcelDataset"
   ]
  },
  {
   "cell_type": "code",
   "execution_count": 5,
   "id": "4a51127f-dd3f-4518-8b3b-2ce0b82f108c",
   "metadata": {},
   "outputs": [],
   "source": [
    "class ExcelDataset(Dataset):\n",
    "    \n",
    "    def __init__(self, filepath=\"data.xlsx\", sheet_name=0):\n",
    "        \n",
    "        print(f\"reading {filepath}, sheet={sheet_name}\")\n",
    "        \n",
    "        df = pandas.read_excel(\n",
    "            filepath, header=0, index_col=0,\n",
    "            names=['feat1', 'feat2', 'label'],\n",
    "            sheet_name=sheet_name,\n",
    "            dtype={\"feat1\": np.float32, \"feat2\": np.float32, \"label\": np.int32}\n",
    "        )\n",
    "        \n",
    "        print(f\"the shape of dataframe is {df.shape}\")\n",
    "        \n",
    "        feat = df.iloc[:, :2].values\n",
    "        label = df.iloc[:, 2].values\n",
    "        \n",
    "        self.x = torch.from_numpy(feat)\n",
    "        self.y = torch.from_numpy(label)\n",
    "        \n",
    "    def __len__(self):\n",
    "        return len(self.y)\n",
    "    \n",
    "    def __getitem__(self, index):\n",
    "        return self.x[index], self.y[index]"
   ]
  },
  {
   "cell_type": "code",
   "execution_count": null,
   "id": "afb82bd7-bac9-4073-81bb-84d95f88806f",
   "metadata": {},
   "outputs": [],
   "source": [
    "# 测试\n",
    "\n",
    "print(\"Test for ExcelDataset\")\n",
    "excel_dataset = ExcelDataset(sheet_name=\"corpus1\")\n",
    "# excel_dataset = ExcelDataset(sheet_name=\"corpus2\")\n",
    "# excel_dataset = ExcelDataset(sheet_name=None)  # 读取整个excel数据，如果有多张表pandas.read_excel会存为字典\n",
    "excel_dataloader = DataLoader(excel_dataset, batch_size=8, shuffle=True)\n",
    "for idx, (batch_x, batch_y) in enumerate(excel_dataloader):\n",
    "    print(f\"batch_id:{idx}, {batch_x.shape}, {batch_y.shape}\")\n",
    "    print(batch_x, batch_y)\n",
    "    \n",
    "    # 以下是伪代码\n",
    "    # output = model(batch_x)\n",
    "    # loss = criterion(output, batch_y)\n",
    "    # optimizer.zero_grad()\n",
    "    # loss.backward()\n",
    "    # optimizer.step()"
   ]
  },
  {
   "cell_type": "markdown",
   "id": "560678f8-9cc4-4f43-a78c-dfd2dfc6028c",
   "metadata": {},
   "source": [
    "## 编写CsvDataset 方法一"
   ]
  },
  {
   "cell_type": "code",
   "execution_count": 6,
   "id": "12f4fb96-edc6-4bd8-9eae-e43ccae0d045",
   "metadata": {},
   "outputs": [],
   "source": [
    "class CsvDataset(Dataset):\n",
    "    \n",
    "    def __init__(self, filepath=\"data.csv\"):\n",
    "        # there is no sheet name definition in csv format file\n",
    "        \n",
    "        print(f\"reading {filepath}\")\n",
    "        \n",
    "        df = pandas.read_csv(\n",
    "            filepath, header=0, index_col=0,\n",
    "            encoding='utf-8',\n",
    "            names=['feat1', 'feat2', 'label'],\n",
    "            dtype={\"feat1\": np.float32, \"feat2\": np.float32, \"label\": np.int32},\n",
    "            skip_blank_lines=True,\n",
    "        )\n",
    "        print(f\"the shape of dataframe is {df.shape}\")\n",
    "        \n",
    "        feat = df.iloc[:, :2].values\n",
    "        label = df.iloc[:, 2].values\n",
    "        \n",
    "        self.x = torch.from_numpy(feat)\n",
    "        self.y = torch.from_numpy(label)\n",
    "        \n",
    "    def __len__(self):\n",
    "        return len(self.y)\n",
    "    \n",
    "    def __getitem__(self, index):\n",
    "        return self.x[index], self.y[index]"
   ]
  },
  {
   "cell_type": "code",
   "execution_count": null,
   "id": "c66e3f9a-abde-4b95-aae0-04b44deafb7a",
   "metadata": {},
   "outputs": [],
   "source": [
    "# 测试\n",
    "\n",
    "print(\"Test for CsvDataset\")\n",
    "csv_dataset = CsvDataset()\n",
    "csv_dataloader = DataLoader(csv_dataset, batch_size=8, shuffle=True)\n",
    "for idx, (batch_x, batch_y) in enumerate(csv_dataloader):\n",
    "    print(f\"batch_id:{idx}, {batch_x.shape}, {batch_y.shape}\")\n",
    "    print(batch_x, batch_y)"
   ]
  },
  {
   "cell_type": "markdown",
   "id": "c53859c0-6828-4078-bbbb-87eb96a361ac",
   "metadata": {},
   "source": [
    "## 编写CsvDataset 方法二"
   ]
  },
  {
   "cell_type": "code",
   "execution_count": 7,
   "id": "8eb45985-1ec9-4154-a308-26653967eec4",
   "metadata": {},
   "outputs": [],
   "source": [
    "class Csv2Dataset(Dataset):\n",
    "    \n",
    "    def __init__(self, filepath=\"data.csv\"):\n",
    "        # there is no sheet name definition in csv format file\n",
    "        \n",
    "        print(f\"reading {filepath}\")\n",
    "        \n",
    "        with open(filepath, encoding='utf-8') as f:\n",
    "            lines = f.readlines()\n",
    "            \n",
    "        feat = []\n",
    "        label = []\n",
    "        for line in lines[1:]:\n",
    "            values = line.strip().split(',')\n",
    "            row_feat = [float(v) for v in values[1:3]]\n",
    "            row_label = int(values[3])\n",
    "            \n",
    "            feat.append(row_feat)\n",
    "            label.append(row_label)\n",
    "        \n",
    "        feat = np.array(feat, dtype=np.float32)\n",
    "        label = np.array(label, dtype=np.float32)\n",
    "        \n",
    "        self.x = torch.from_numpy(feat)\n",
    "        self.y = torch.from_numpy(label)\n",
    "        \n",
    "    def __len__(self):\n",
    "        return len(self.y)\n",
    "    \n",
    "    def __getitem__(self, index):\n",
    "        return self.x[index], self.y[index]"
   ]
  },
  {
   "cell_type": "code",
   "execution_count": null,
   "id": "1bcae2d9-5ff2-4b57-8152-03e7acfc5ca6",
   "metadata": {},
   "outputs": [],
   "source": [
    "# 测试\n",
    "\n",
    "print(\"Test for CsvDataset\")\n",
    "csv2_dataset = Csv2Dataset()\n",
    "csv2_dataloader = DataLoader(csv2_dataset, batch_size=8, shuffle=True)\n",
    "for idx, (batch_x, batch_y) in enumerate(csv2_dataloader):\n",
    "    print(f\"batch_id:{idx}, {batch_x.shape}, {batch_y.shape}\")\n",
    "    print(batch_x, batch_y)"
   ]
  }
 ],
 "metadata": {
  "kernelspec": {
   "display_name": "Python 3 (ipykernel)",
   "language": "python",
   "name": "python3"
  },
  "language_info": {
   "codemirror_mode": {
    "name": "ipython",
    "version": 3
   },
   "file_extension": ".py",
   "mimetype": "text/x-python",
   "name": "python",
   "nbconvert_exporter": "python",
   "pygments_lexer": "ipython3",
   "version": "3.7.13"
  }
 },
 "nbformat": 4,
 "nbformat_minor": 5
}
