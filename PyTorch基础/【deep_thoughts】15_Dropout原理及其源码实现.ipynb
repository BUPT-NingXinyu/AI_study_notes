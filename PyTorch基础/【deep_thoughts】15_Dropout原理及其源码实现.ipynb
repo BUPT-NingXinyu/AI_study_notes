{
 "cells": [
  {
   "cell_type": "markdown",
   "id": "9eec6d00-6ef5-4fbc-8d02-4b6ef942919a",
   "metadata": {},
   "source": [
    "# Dropout原理及其源码实现\n",
    "\n",
    "来自b站up主deep_thoughts 合集【PyTorch源码教程与前沿人工智能算法复现讲解】\n",
    "\n",
    "P_15_Dropout原理及其源码实现：\n",
    "    \n",
    "https://www.bilibili.com/video/BV1gL4y1p7ww/?spm_id_from=pageDriver&vd_source=18e91d849da09d846f771c89a366ed40\n",
    "\n",
    "nn.Dropout 官方文档：https://pytorch.org/docs/stable/generated/torch.nn.Dropout.html#torch.nn.Dropout\n",
    "\n",
    "torch.nn.functional.dropout 官方文档：https://pytorch.org/docs/stable/generated/torch.nn.functional.dropout.html#torch.nn.functional.dropout\n",
    "\n",
    "***论文***\n",
    "\n",
    "Dropout: A Simple Way to Prevent Neural Networks from Overfitting：\n",
    "\n",
    "https://www.cs.toronto.edu/~hinton/absps/JMLRdropout.pdf"
   ]
  },
  {
   "cell_type": "markdown",
   "id": "2257c79c-e37c-45f0-b4a9-8eca92de3b71",
   "metadata": {},
   "source": [
    "## 使用numpy演示Dropout"
   ]
  },
  {
   "cell_type": "markdown",
   "id": "243c7dca-96d2-4b7e-ae63-451e6c4cabaa",
   "metadata": {},
   "source": [
    "将scale操作放至测试阶段"
   ]
  },
  {
   "cell_type": "code",
   "execution_count": null,
   "id": "b9218743-d29c-4bc4-90c7-ade944bbb4cf",
   "metadata": {},
   "outputs": [],
   "source": [
    "# implement Dropout in numpy\n",
    "import numpy as np\n",
    "\n",
    "def train(rate, x, w1, b1, w2, b2):\n",
    "    layer1 = np.maximum(0, np.dot(w1, x) + b1)\n",
    "    mask1 = np.random.binomial(1, 1-rate, layer1.shape)\n",
    "    layer1 = layer1*mask1\n",
    "    \n",
    "    layer2 = np.maximum(0, np.dot(w2, layer1) + b2)\n",
    "    mask2 = np.random.binomial(1, 1-rate, layer2.shape)\n",
    "    layer2 = layer2*mask2\n",
    "    \n",
    "    return layer2\n",
    "\n",
    "def test(rate, x, w1, b1, w2, b2):\n",
    "    layer1 = np.maximum(0, np.dot(w1, x) + b1)\n",
    "    layer1 = layer1*(1-rate)\n",
    "    \n",
    "    layer2 = np.maximum(0, np.dot(w2, layer1) + b2)\n",
    "    layer2 = layer2*(1-rate)\n",
    "    \n",
    "    return layer2"
   ]
  },
  {
   "cell_type": "markdown",
   "id": "e945c5d0-6413-4122-b7d9-9905bda7b567",
   "metadata": {},
   "source": [
    "将scale操作放至训练阶段"
   ]
  },
  {
   "cell_type": "code",
   "execution_count": null,
   "id": "f7f3fe5c-084d-46f4-8fe8-749bdb0f4d13",
   "metadata": {},
   "outputs": [],
   "source": [
    "import numpy as np\n",
    "\n",
    "def train(rate, x, w1, b1, w2, b2):\n",
    "    layer1 = np.maximum(0, np.dot(w1, x) + b1)\n",
    "    mask1 = np.random.binomial(1, 1-rate, layer1.shape)\n",
    "    layer1 = layer1*mask1\n",
    "    layer1 = layer1/(1-rate)\n",
    "    \n",
    "    layer2 = np.maximum(0, np.dot(w2, layer1) + b2)\n",
    "    mask2 = np.random.binomial(1, 1-rate, layer2.shape)\n",
    "    layer2 = layer2*mask2\n",
    "    layer2 = layer2/(1-rate)\n",
    "    \n",
    "    return layer2\n",
    "\n",
    "def test(x, w1, b1, w2, b2):\n",
    "    layer1 = np.maximum(0, np.dot(w1, x) + b1)\n",
    "\n",
    "    layer2 = np.maximum(0, np.dot(w2, layer1) + b2)\n",
    "\n",
    "    return layer2"
   ]
  }
 ],
 "metadata": {
  "kernelspec": {
   "display_name": "Python 3 (ipykernel)",
   "language": "python",
   "name": "python3"
  },
  "language_info": {
   "codemirror_mode": {
    "name": "ipython",
    "version": 3
   },
   "file_extension": ".py",
   "mimetype": "text/x-python",
   "name": "python",
   "nbconvert_exporter": "python",
   "pygments_lexer": "ipython3",
   "version": "3.7.13"
  }
 },
 "nbformat": 4,
 "nbformat_minor": 5
}
