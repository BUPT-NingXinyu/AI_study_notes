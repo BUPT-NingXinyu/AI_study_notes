{
 "cells": [
  {
   "cell_type": "markdown",
   "id": "f5ce5f1e-dbaa-4c69-b12b-7ff73f557ca2",
   "metadata": {},
   "source": [
    "# 深入刨析PyTorch的state_dict、parameters、modules源码\n",
    "\n",
    "来自b站up主deep_thoughts 合集【PyTorch源码教程与前沿人工智能算法复现讲解】\n",
    "\n",
    "P_08_深入刨析PyTorch的state_dict、parameters、modules源码：\n",
    "    \n",
    "https://www.bilibili.com/video/BV12g411K7oq/?spm_id_from=333.788&vd_source=18e91d849da09d846f771c89a366ed40\n",
    "\n",
    "save and load the model 官方文档：https://pytorch.org/tutorials/beginner/basics/saveloadrun_tutorial.html"
   ]
  },
  {
   "cell_type": "markdown",
   "id": "9a668c2a-de7a-4ed6-b90f-fa5568ddaa84",
   "metadata": {},
   "source": [
    "### vim编辑器\n",
    "(查找函数时 下划线 _函数名 进行查找 得到高亮结果)\n",
    "\n",
    "(:nohl 取消高亮）"
   ]
  },
  {
   "cell_type": "markdown",
   "id": "515f7e28-7b03-429f-b34d-229d6b78e96f",
   "metadata": {},
   "source": [
    "## 模型保存"
   ]
  },
  {
   "cell_type": "code",
   "execution_count": null,
   "id": "7ab0df04-981c-4dec-b2a9-9c34afa54502",
   "metadata": {},
   "outputs": [],
   "source": [
    "import torch\n",
    "import torchvision.models as models\n",
    "\n",
    "model = models.vgg16(pretrained=True)\n",
    "torch.save(model.state_dict(), 'model_weights.pth')"
   ]
  },
  {
   "cell_type": "markdown",
   "id": "529fc3e4-52c4-495a-88ac-c2336098608d",
   "metadata": {},
   "source": [
    "## 模型加载"
   ]
  },
  {
   "cell_type": "code",
   "execution_count": null,
   "id": "7f852b2e-cddb-4fea-ae70-2befdbc14ccb",
   "metadata": {},
   "outputs": [],
   "source": [
    "model = models.vgg16() # we do not specify pretrained=True, i.e. do not load default weights\n",
    "model.load_state_dict(torch.load('model_weights.pth'))\n",
    "model.eval()"
   ]
  },
  {
   "cell_type": "markdown",
   "id": "af5ab48f-bb7f-4ad9-bfed-549df473f3bd",
   "metadata": {},
   "source": [
    "## 测试 Module API 功能"
   ]
  },
  {
   "cell_type": "code",
   "execution_count": 1,
   "id": "0795127f-d703-4682-bf1b-2c7d770b7c86",
   "metadata": {},
   "outputs": [],
   "source": [
    "import torch\n",
    "\n",
    "class Test(torch.nn.Module):\n",
    "    def __init__(self):\n",
    "        super(Test, self).__init__()\n",
    "        self.linear1 = torch.nn.Linear(2, 3)\n",
    "        self.linear2 = torch.nn.Linear(3, 4)\n",
    "        self.batch_norm = torch.nn.BatchNorm2d(4)"
   ]
  },
  {
   "cell_type": "markdown",
   "id": "16c40d9b-6347-4238-bff6-c197fb17c500",
   "metadata": {},
   "source": [
    "### to函数修改数据类型"
   ]
  },
  {
   "cell_type": "code",
   "execution_count": 10,
   "id": "542e22d1-a263-46f1-9a69-eac7951b6dd6",
   "metadata": {},
   "outputs": [
    {
     "name": "stdout",
     "output_type": "stream",
     "text": [
      "OrderedDict([('linear1', Linear(in_features=2, out_features=3, bias=True)), ('linear2', Linear(in_features=3, out_features=4, bias=True)), ('batch_norm', BatchNorm2d(4, eps=1e-05, momentum=0.1, affine=True, track_running_stats=True))])\n",
      "Linear(in_features=2, out_features=3, bias=True)\n",
      "torch.float32\n"
     ]
    }
   ],
   "source": [
    "test_module = Test()\n",
    "print(test_module._modules)\n",
    "print(test_module._modules['linear1'])\n",
    "print(test_module._modules['linear1'].weight.dtype)"
   ]
  },
  {
   "cell_type": "code",
   "execution_count": 11,
   "id": "526f4d99-468e-4cd6-900e-67533a6cf4c3",
   "metadata": {},
   "outputs": [
    {
     "name": "stdout",
     "output_type": "stream",
     "text": [
      "torch.float64\n"
     ]
    }
   ],
   "source": [
    "test_module.to(torch.double)\n",
    "print(test_module._modules['linear1'].weight.dtype)"
   ]
  },
  {
   "cell_type": "code",
   "execution_count": 12,
   "id": "185b2e1d-84d4-4f84-9f0e-22b9e28045d1",
   "metadata": {},
   "outputs": [
    {
     "name": "stdout",
     "output_type": "stream",
     "text": [
      "torch.float32\n"
     ]
    }
   ],
   "source": [
    "test_module.to(torch.float32)\n",
    "print(test_module._modules['linear1'].weight.dtype)"
   ]
  },
  {
   "cell_type": "markdown",
   "id": "f876d217-bbd7-4df9-9c19-a7aabd499c0d",
   "metadata": {},
   "source": [
    "### 查询模型参数"
   ]
  },
  {
   "cell_type": "code",
   "execution_count": 13,
   "id": "c1926e8a-3c18-4f82-8b79-6d9572e6b551",
   "metadata": {},
   "outputs": [
    {
     "name": "stdout",
     "output_type": "stream",
     "text": [
      "OrderedDict([('linear1', Linear(in_features=2, out_features=3, bias=True)), ('linear2', Linear(in_features=3, out_features=4, bias=True)), ('batch_norm', BatchNorm2d(4, eps=1e-05, momentum=0.1, affine=True, track_running_stats=True))])\n"
     ]
    }
   ],
   "source": [
    "# 返回有序字典\n",
    "print(test_module._modules)"
   ]
  },
  {
   "cell_type": "code",
   "execution_count": 16,
   "id": "e7e5d2a4-5ef1-4a9c-8e3b-6ce7ab820e8c",
   "metadata": {},
   "outputs": [
    {
     "name": "stdout",
     "output_type": "stream",
     "text": [
      "OrderedDict()\n"
     ]
    }
   ],
   "source": [
    "# 返回当前module的parameters字段\n",
    "print(test_module._parameters)"
   ]
  },
  {
   "cell_type": "code",
   "execution_count": 17,
   "id": "f1af68d4-b9a1-4e8e-a04c-68372987b8c2",
   "metadata": {},
   "outputs": [
    {
     "name": "stdout",
     "output_type": "stream",
     "text": [
      "OrderedDict()\n"
     ]
    }
   ],
   "source": [
    "# 返回当前module的buffers字段\n",
    "print(test_module._buffers)"
   ]
  },
  {
   "cell_type": "code",
   "execution_count": 18,
   "id": "ca2c4ae7-9ccc-4ece-ba5d-c34cab0f3c5d",
   "metadata": {},
   "outputs": [
    {
     "name": "stdout",
     "output_type": "stream",
     "text": [
      "OrderedDict([('linear1.weight', tensor([[ 0.3908,  0.3170],\n",
      "        [-0.5579,  0.5695],\n",
      "        [-0.1297,  0.6104]])), ('linear1.bias', tensor([ 0.6716, -0.3837,  0.5175])), ('linear2.weight', tensor([[-0.3328, -0.1700, -0.2631],\n",
      "        [-0.0073,  0.0994, -0.1933],\n",
      "        [ 0.4597,  0.4848,  0.5522],\n",
      "        [ 0.5448, -0.1338, -0.3027]])), ('linear2.bias', tensor([ 0.2380, -0.0048, -0.5631,  0.0804])), ('batch_norm.weight', tensor([1., 1., 1., 1.])), ('batch_norm.bias', tensor([0., 0., 0., 0.])), ('batch_norm.running_mean', tensor([0., 0., 0., 0.])), ('batch_norm.running_var', tensor([1., 1., 1., 1.])), ('batch_norm.num_batches_tracked', tensor(0))])\n"
     ]
    }
   ],
   "source": [
    "print(test_module.state_dict())"
   ]
  },
  {
   "cell_type": "code",
   "execution_count": 19,
   "id": "17bb0023-9e20-4855-98a9-b1881ead98eb",
   "metadata": {},
   "outputs": [
    {
     "name": "stdout",
     "output_type": "stream",
     "text": [
      "Parameter containing:\n",
      "tensor([[ 0.3908,  0.3170],\n",
      "        [-0.5579,  0.5695],\n",
      "        [-0.1297,  0.6104]], requires_grad=True)\n",
      "Parameter containing:\n",
      "tensor([ 0.6716, -0.3837,  0.5175], requires_grad=True)\n",
      "Parameter containing:\n",
      "tensor([[-0.3328, -0.1700, -0.2631],\n",
      "        [-0.0073,  0.0994, -0.1933],\n",
      "        [ 0.4597,  0.4848,  0.5522],\n",
      "        [ 0.5448, -0.1338, -0.3027]], requires_grad=True)\n",
      "Parameter containing:\n",
      "tensor([ 0.2380, -0.0048, -0.5631,  0.0804], requires_grad=True)\n",
      "Parameter containing:\n",
      "tensor([1., 1., 1., 1.], requires_grad=True)\n",
      "Parameter containing:\n",
      "tensor([0., 0., 0., 0.], requires_grad=True)\n"
     ]
    }
   ],
   "source": [
    "for p in test_module.parameters():\n",
    "    print(p)"
   ]
  },
  {
   "cell_type": "code",
   "execution_count": 20,
   "id": "a5f246d4-db7d-4d17-899c-3dc14d281005",
   "metadata": {},
   "outputs": [
    {
     "name": "stdout",
     "output_type": "stream",
     "text": [
      "('linear1.weight', Parameter containing:\n",
      "tensor([[ 0.3908,  0.3170],\n",
      "        [-0.5579,  0.5695],\n",
      "        [-0.1297,  0.6104]], requires_grad=True))\n",
      "('linear1.bias', Parameter containing:\n",
      "tensor([ 0.6716, -0.3837,  0.5175], requires_grad=True))\n",
      "('linear2.weight', Parameter containing:\n",
      "tensor([[-0.3328, -0.1700, -0.2631],\n",
      "        [-0.0073,  0.0994, -0.1933],\n",
      "        [ 0.4597,  0.4848,  0.5522],\n",
      "        [ 0.5448, -0.1338, -0.3027]], requires_grad=True))\n",
      "('linear2.bias', Parameter containing:\n",
      "tensor([ 0.2380, -0.0048, -0.5631,  0.0804], requires_grad=True))\n",
      "('batch_norm.weight', Parameter containing:\n",
      "tensor([1., 1., 1., 1.], requires_grad=True))\n",
      "('batch_norm.bias', Parameter containing:\n",
      "tensor([0., 0., 0., 0.], requires_grad=True))\n"
     ]
    }
   ],
   "source": [
    "for p in test_module.named_parameters():\n",
    "    print(p)"
   ]
  },
  {
   "cell_type": "code",
   "execution_count": 21,
   "id": "2694118d-1560-41fb-b86b-976ff62816e2",
   "metadata": {},
   "outputs": [
    {
     "name": "stdout",
     "output_type": "stream",
     "text": [
      "('linear1', Linear(in_features=2, out_features=3, bias=True))\n",
      "('linear2', Linear(in_features=3, out_features=4, bias=True))\n",
      "('batch_norm', BatchNorm2d(4, eps=1e-05, momentum=0.1, affine=True, track_running_stats=True))\n"
     ]
    }
   ],
   "source": [
    "for p in test_module.named_children():\n",
    "    print(p)"
   ]
  },
  {
   "cell_type": "code",
   "execution_count": 22,
   "id": "4f9a34c0-a228-4b5e-994c-1d625a21f7d9",
   "metadata": {},
   "outputs": [
    {
     "name": "stdout",
     "output_type": "stream",
     "text": [
      "('', Test(\n",
      "  (linear1): Linear(in_features=2, out_features=3, bias=True)\n",
      "  (linear2): Linear(in_features=3, out_features=4, bias=True)\n",
      "  (batch_norm): BatchNorm2d(4, eps=1e-05, momentum=0.1, affine=True, track_running_stats=True)\n",
      "))\n",
      "('linear1', Linear(in_features=2, out_features=3, bias=True))\n",
      "('linear2', Linear(in_features=3, out_features=4, bias=True))\n",
      "('batch_norm', BatchNorm2d(4, eps=1e-05, momentum=0.1, affine=True, track_running_stats=True))\n"
     ]
    }
   ],
   "source": [
    "for p in test_module.named_modules():\n",
    "    print(p)"
   ]
  },
  {
   "cell_type": "code",
   "execution_count": 23,
   "id": "cfe38c58-d7e8-4e21-980f-7cee7679cfb5",
   "metadata": {},
   "outputs": [
    {
     "name": "stdout",
     "output_type": "stream",
     "text": [
      "Test(\n",
      "  (linear1): Linear(in_features=2, out_features=3, bias=True)\n",
      "  (linear2): Linear(in_features=3, out_features=4, bias=True)\n",
      "  (batch_norm): BatchNorm2d(4, eps=1e-05, momentum=0.1, affine=True, track_running_stats=True)\n",
      ")\n",
      "\n",
      "\n",
      "Linear(in_features=2, out_features=3, bias=True)\n",
      "\n",
      "\n",
      "Linear(in_features=3, out_features=4, bias=True)\n",
      "\n",
      "\n",
      "BatchNorm2d(4, eps=1e-05, momentum=0.1, affine=True, track_running_stats=True)\n",
      "\n",
      "\n"
     ]
    }
   ],
   "source": [
    "for p in test_module.modules():\n",
    "    print(p)\n",
    "    print('\\n')"
   ]
  },
  {
   "cell_type": "code",
   "execution_count": null,
   "id": "e07b959f-1db9-4b5e-b276-6cd0dac74908",
   "metadata": {},
   "outputs": [],
   "source": []
  }
 ],
 "metadata": {
  "kernelspec": {
   "display_name": "Python 3 (ipykernel)",
   "language": "python",
   "name": "python3"
  },
  "language_info": {
   "codemirror_mode": {
    "name": "ipython",
    "version": 3
   },
   "file_extension": ".py",
   "mimetype": "text/x-python",
   "name": "python",
   "nbconvert_exporter": "python",
   "pygments_lexer": "ipython3",
   "version": "3.7.13"
  }
 },
 "nbformat": 4,
 "nbformat_minor": 5
}
