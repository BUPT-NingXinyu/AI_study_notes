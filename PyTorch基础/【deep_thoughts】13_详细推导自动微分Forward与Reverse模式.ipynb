{
 "cells": [
  {
   "cell_type": "markdown",
   "id": "0803932a-8cc3-4055-8637-d8286c3039a7",
   "metadata": {},
   "source": [
    "# 详细推导自动微分Forward与Reverse模式\n",
    "\n",
    "来自b站up主deep_thoughts 合集【PyTorch源码教程与前沿人工智能算法复现讲解】\n",
    "\n",
    "P_13_详细推导自动微分Forward与Reverse模式：\n",
    "    \n",
    "https://www.bilibili.com/video/BV1PF411h7Ew/?spm_id_from=333.788&vd_source=18e91d849da09d846f771c89a366ed40\n",
    "\n",
    "论文地址：https://arxiv.org/pdf/1502.05767.pdf"
   ]
  },
  {
   "cell_type": "markdown",
   "id": "c07654bf-b3b4-4e20-af1c-90ba2787809b",
   "metadata": {},
   "source": [
    "## 对偶数 Dual number"
   ]
  },
  {
   "cell_type": "markdown",
   "id": "ca9eb1b8-3bb3-44c7-bece-2b400d98b122",
   "metadata": {},
   "source": [
    "假设 $f(x)=x^2+2x$\n",
    "\n",
    "求$f(x)$在$x=2$处的倒数\n",
    "\n",
    "$f(2+\\epsilon)=(2+\\epsilon)^2+2\\times(2+\\epsilon)=4+4\\epsilon+\\epsilon^2+4+2\\epsilon=8+6\\epsilon$\n",
    "\n",
    "所以\n",
    "\n",
    "$f(2)=8$\n",
    "\n",
    "$f'(2)=6$"
   ]
  },
  {
   "cell_type": "markdown",
   "id": "9e3f8e48-bb95-4f47-97c7-83c13c8a6592",
   "metadata": {},
   "source": [
    "## forward mode 和 backward mode"
   ]
  },
  {
   "cell_type": "markdown",
   "id": "7064341f-8610-455a-9514-4e6055364c0a",
   "metadata": {},
   "source": [
    "假设\n",
    "\n",
    "$a=f(x), b=g(a), y=h(b)$\n",
    "\n",
    "$\\frac{\\partial{y}}{\\partial{x}} = \\frac{\\partial{h}}{\\partial{b}} \\times \\frac{\\partial{g}}{\\partial{a}} \\times \\frac{\\partial{f}}{\\partial{x}}$ (链式法则+雅克比)\n",
    "\n",
    "雅克比矩阵大小：$|y|\\times|b|, |b|\\times|a|, |a|\\times|x|$"
   ]
  },
  {
   "cell_type": "markdown",
   "id": "2285c80c-164c-4ca7-811c-40e7973f7ea2",
   "metadata": {},
   "source": [
    "### 统计计算量"
   ]
  },
  {
   "cell_type": "markdown",
   "id": "c2e07ae1-ada6-4dd2-997e-91d3a3a440e4",
   "metadata": {},
   "source": [
    "前向模式操作数：\n",
    "\n",
    "$|y|\\times|b|\\quad(|b|\\times|a|,\\quad|a|\\times|x|) = bax +ybx$"
   ]
  },
  {
   "cell_type": "markdown",
   "id": "e2e9a377-365b-4b5c-8285-d8d02a6eace7",
   "metadata": {},
   "source": [
    "后向模式操作数：\n",
    "\n",
    "$|y|\\times|b|\\quad|b|\\times|a|\\quad|a|\\times|x| = yba +yax$"
   ]
  },
  {
   "cell_type": "markdown",
   "id": "9b6accfc-cf44-4b33-a268-7a3787f606e1",
   "metadata": {},
   "source": [
    "假设 $a = b$， 变成x跟y比较\n",
    "\n",
    "当$x>y$，输入特征大于输出特征，reverse mode 计算量比较小\n",
    "\n",
    "当$x<y$，输入特征小于输出特征，forward mode 计算量比较小"
   ]
  },
  {
   "cell_type": "code",
   "execution_count": null,
   "id": "4e83cb10-31bd-46f8-b408-06a25b603698",
   "metadata": {},
   "outputs": [],
   "source": []
  }
 ],
 "metadata": {
  "kernelspec": {
   "display_name": "Python 3 (ipykernel)",
   "language": "python",
   "name": "python3"
  },
  "language_info": {
   "codemirror_mode": {
    "name": "ipython",
    "version": 3
   },
   "file_extension": ".py",
   "mimetype": "text/x-python",
   "name": "python",
   "nbconvert_exporter": "python",
   "pygments_lexer": "ipython3",
   "version": "3.7.13"
  }
 },
 "nbformat": 4,
 "nbformat_minor": 5
}
