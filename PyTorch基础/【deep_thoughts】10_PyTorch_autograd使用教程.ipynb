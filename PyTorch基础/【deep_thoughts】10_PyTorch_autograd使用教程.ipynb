{
 "cells": [
  {
   "cell_type": "markdown",
   "id": "2fb25666-9f1d-4f0f-828d-88077a88596d",
   "metadata": {},
   "source": [
    "# PyTorch autograd使用教程\n",
    "\n",
    "来自b站up主deep_thoughts(港中大) 合集【PyTorch源码教程与前沿人工智能算法复现讲解】\n",
    "\n",
    "P_10_PyTorch autograd使用教程：\n",
    "    \n",
    "https://www.bilibili.com/video/BV1vL411u7bL/?spm_id_from=333.788\n",
    "\n",
    "autograd 官方文档：https://pytorch.org/tutorials/beginner/basics/autogradqs_tutorial.html"
   ]
  },
  {
   "cell_type": "markdown",
   "id": "d3b234aa-7aad-44e5-8091-ea1df3f75ada",
   "metadata": {},
   "source": [
    "## 微分计算示例\n",
    "\n",
    "***Computing the loss:***\n",
    "    \n",
    "$z = wx +b$\n",
    "\n",
    "$y = f(z)$\n",
    "\n",
    "$L = \\frac{1}{2}(y-t)^2$\n",
    "\n",
    "***Computing the derivatives:***\n",
    "\n",
    "$\\overline{L} = 1$\n",
    "\n",
    "$\\overline{y} = y - t$\n",
    "\n",
    "$\\overline{z} = \\overline{y}f'(z)$\n",
    "\n",
    "$\\overline{w} = \\overline{z}x$\n",
    "\n",
    "$\\overline{b} = \\overline{z}$"
   ]
  },
  {
   "cell_type": "markdown",
   "id": "d511f905-76af-44ed-b80b-5f6cea55d945",
   "metadata": {},
   "source": [
    "## 自动微分示例\n",
    "来自autograd官方教程"
   ]
  },
  {
   "cell_type": "code",
   "execution_count": 1,
   "id": "2af7fa85-e847-42a5-8032-6081a0bfc89b",
   "metadata": {},
   "outputs": [],
   "source": [
    "import torch\n",
    "\n",
    "x = torch.ones(5)  # input tensor\n",
    "y = torch.zeros(3)  # expected output\n",
    "w = torch.randn(5, 3, requires_grad=True)\n",
    "b = torch.randn(3, requires_grad=True)\n",
    "z = torch.matmul(x, w)+b\n",
    "loss = torch.nn.functional.binary_cross_entropy_with_logits(z, y)"
   ]
  },
  {
   "cell_type": "code",
   "execution_count": 2,
   "id": "24f9615a-15c3-4e4a-949a-46aa58e2f52b",
   "metadata": {},
   "outputs": [
    {
     "name": "stdout",
     "output_type": "stream",
     "text": [
      "Gradient function for z = <AddBackward0 object at 0x000002149677A308>\n",
      "Gradient function for loss = <BinaryCrossEntropyWithLogitsBackward0 object at 0x000002149676F448>\n"
     ]
    }
   ],
   "source": [
    "print(f\"Gradient function for z = {z.grad_fn}\")\n",
    "print(f\"Gradient function for loss = {loss.grad_fn}\")"
   ]
  },
  {
   "cell_type": "code",
   "execution_count": 3,
   "id": "07690b83-525d-41d1-9ff2-da2671262e7b",
   "metadata": {},
   "outputs": [
    {
     "name": "stdout",
     "output_type": "stream",
     "text": [
      "tensor([[0.3221, 0.2832, 0.2368],\n",
      "        [0.3221, 0.2832, 0.2368],\n",
      "        [0.3221, 0.2832, 0.2368],\n",
      "        [0.3221, 0.2832, 0.2368],\n",
      "        [0.3221, 0.2832, 0.2368]])\n",
      "tensor([0.3221, 0.2832, 0.2368])\n"
     ]
    }
   ],
   "source": [
    "loss.backward()\n",
    "print(w.grad)\n",
    "print(b.grad)"
   ]
  },
  {
   "cell_type": "code",
   "execution_count": 4,
   "id": "42e86bff-1c5d-4602-a21a-18d463b8e169",
   "metadata": {},
   "outputs": [
    {
     "name": "stdout",
     "output_type": "stream",
     "text": [
      "True\n",
      "False\n"
     ]
    }
   ],
   "source": [
    "z = torch.matmul(x, w)+b\n",
    "print(z.requires_grad)\n",
    "\n",
    "with torch.no_grad():\n",
    "    z = torch.matmul(x, w)+b\n",
    "print(z.requires_grad)"
   ]
  },
  {
   "cell_type": "code",
   "execution_count": 5,
   "id": "54259b5b-3984-4b7f-8cd9-ce441b5c346d",
   "metadata": {},
   "outputs": [
    {
     "name": "stdout",
     "output_type": "stream",
     "text": [
      "False\n"
     ]
    }
   ],
   "source": [
    "z = torch.matmul(x, w)+b\n",
    "z_det = z.detach()\n",
    "print(z_det.requires_grad)"
   ]
  },
  {
   "cell_type": "code",
   "execution_count": 6,
   "id": "60835c36-8799-47a4-b49e-e56c6ecf99c9",
   "metadata": {},
   "outputs": [
    {
     "name": "stdout",
     "output_type": "stream",
     "text": [
      "First call\n",
      "tensor([[4., 2., 2., 2., 2.],\n",
      "        [2., 4., 2., 2., 2.],\n",
      "        [2., 2., 4., 2., 2.],\n",
      "        [2., 2., 2., 4., 2.]])\n",
      "\n",
      "Second call\n",
      "tensor([[8., 4., 4., 4., 4.],\n",
      "        [4., 8., 4., 4., 4.],\n",
      "        [4., 4., 8., 4., 4.],\n",
      "        [4., 4., 4., 8., 4.]])\n",
      "\n",
      "Call after zeroing gradients\n",
      "tensor([[4., 2., 2., 2., 2.],\n",
      "        [2., 4., 2., 2., 2.],\n",
      "        [2., 2., 4., 2., 2.],\n",
      "        [2., 2., 2., 4., 2.]])\n"
     ]
    }
   ],
   "source": [
    "inp = torch.eye(4, 5, requires_grad=True)\n",
    "out = (inp+1).pow(2).t()\n",
    "out.backward(torch.ones_like(out), retain_graph=True)\n",
    "print(f\"First call\\n{inp.grad}\")\n",
    "out.backward(torch.ones_like(out), retain_graph=True)\n",
    "print(f\"\\nSecond call\\n{inp.grad}\")\n",
    "inp.grad.zero_()\n",
    "out.backward(torch.ones_like(out), retain_graph=True)\n",
    "print(f\"\\nCall after zeroing gradients\\n{inp.grad}\")"
   ]
  },
  {
   "cell_type": "code",
   "execution_count": null,
   "id": "ad0714f9-f2fc-4e01-b59b-700a3786e98a",
   "metadata": {},
   "outputs": [],
   "source": []
  }
 ],
 "metadata": {
  "kernelspec": {
   "display_name": "Python 3 (ipykernel)",
   "language": "python",
   "name": "python3"
  },
  "language_info": {
   "codemirror_mode": {
    "name": "ipython",
    "version": 3
   },
   "file_extension": ".py",
   "mimetype": "text/x-python",
   "name": "python",
   "nbconvert_exporter": "python",
   "pygments_lexer": "ipython3",
   "version": "3.7.13"
  }
 },
 "nbformat": 4,
 "nbformat_minor": 5
}
