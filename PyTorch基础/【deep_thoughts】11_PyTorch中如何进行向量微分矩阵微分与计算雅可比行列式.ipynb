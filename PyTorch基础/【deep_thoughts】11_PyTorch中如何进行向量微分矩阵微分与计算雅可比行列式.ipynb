{
 "cells": [
  {
   "cell_type": "markdown",
   "id": "f68e5357-f2b8-432c-bd3b-3aaf735325b7",
   "metadata": {},
   "source": [
    "# PyTorch中如何进行向量微分、矩阵微分与计算雅可比行列式\n",
    "\n",
    "来自b站up主deep_thoughts 合集【PyTorch源码教程与前沿人工智能算法复现讲解】\n",
    "\n",
    "P_11_PyTorch中如何进行向量微分、矩阵微分与计算雅可比行列式：\n",
    "    \n",
    "https://www.bilibili.com/video/BV1Xr4y1r7wa/?spm_id_from=pageDriver&vd_source=18e91d849da09d846f771c89a366ed40\n",
    "\n",
    "autograd 官方文档：https://pytorch.org/tutorials/beginner/basics/autogradqs_tutorial.html\n",
    "\n",
    "jacobian 官方文档：https://pytorch.org/docs/stable/generated/torch.autograd.functional.jacobian.html"
   ]
  },
  {
   "cell_type": "markdown",
   "id": "6f7939f8-ab51-4887-b0ec-3d747ca946fb",
   "metadata": {},
   "source": [
    "## 向量对向量"
   ]
  },
  {
   "cell_type": "code",
   "execution_count": 4,
   "id": "400cc434-06a8-40d9-8b28-ad331c38d718",
   "metadata": {},
   "outputs": [
    {
     "name": "stdout",
     "output_type": "stream",
     "text": [
      "tensor([[-1.1897,  0.1149, -0.7102],\n",
      "        [ 2.3557, -0.0798, -1.4557]])\n",
      "tensor([ 1.9176, 11.7021])\n"
     ]
    },
    {
     "data": {
      "text/plain": [
       "tensor([[[ 0.3043,  1.1217,  0.4915],\n",
       "         [ 0.0000,  0.0000,  0.0000]],\n",
       "\n",
       "        [[ 0.0000,  0.0000,  0.0000],\n",
       "         [10.5456,  0.9233,  0.2332]]])"
      ]
     },
     "execution_count": 4,
     "metadata": {},
     "output_type": "execute_result"
    }
   ],
   "source": [
    "import torch\n",
    "from torch.autograd.functional import jacobian\n",
    "\n",
    "def func(x):\n",
    "    return x.exp().sum(dim=1)\n",
    "\n",
    "x = torch.randn(2,3)\n",
    "print(x)\n",
    "y = func(x)\n",
    "print(y)\n",
    "jacobian(func, x)"
   ]
  },
  {
   "cell_type": "code",
   "execution_count": 6,
   "id": "d1afb633-4478-4a53-bcd7-d4dfb8f0ee5d",
   "metadata": {},
   "outputs": [
    {
     "name": "stdout",
     "output_type": "stream",
     "text": [
      "tensor([-0.9941,  0.0499, -0.8455])\n",
      "tensor([ 0.1459,  0.0730, -1.1449])\n"
     ]
    },
    {
     "data": {
      "text/plain": [
       "tensor([[1., 0., 0.],\n",
       "        [0., 1., 0.],\n",
       "        [0., 0., 1.]])"
      ]
     },
     "execution_count": 6,
     "metadata": {},
     "output_type": "execute_result"
    }
   ],
   "source": [
    "a = torch.randn(3)\n",
    "print(a)\n",
    "\n",
    "def func(x):\n",
    "    return a+x\n",
    "\n",
    "x = torch.randn(3)\n",
    "print(x)\n",
    "\n",
    "jacobian(func, x)"
   ]
  },
  {
   "cell_type": "code",
   "execution_count": 7,
   "id": "6bcdb566-e13b-4bb2-ab04-b107db8e068c",
   "metadata": {},
   "outputs": [
    {
     "name": "stdout",
     "output_type": "stream",
     "text": [
      "tensor([-1.1797, -1.2804, -2.7275], grad_fn=<AddBackward0>)\n",
      "tensor([1., 1., 1.])\n"
     ]
    }
   ],
   "source": [
    "x = torch.randn(3, requires_grad=True)\n",
    "\n",
    "y = func(x)\n",
    "print(y)\n",
    "y.backward(torch.ones_like(y))\n",
    "print(x.grad)"
   ]
  },
  {
   "cell_type": "code",
   "execution_count": 10,
   "id": "33aea899-b99a-4c2a-9289-6bfa1f43ecfd",
   "metadata": {},
   "outputs": [
    {
     "data": {
      "text/plain": [
       "tensor([1., 1., 1.])"
      ]
     },
     "execution_count": 10,
     "metadata": {},
     "output_type": "execute_result"
    }
   ],
   "source": [
    "torch.ones_like(y) @ jacobian(func, x)  # @矩阵相乘"
   ]
  },
  {
   "cell_type": "markdown",
   "id": "f622612d-021f-4944-b6fe-cbdd60b464f0",
   "metadata": {},
   "source": [
    "## 矩阵对矩阵\n",
    "退化成向量梯度算"
   ]
  },
  {
   "cell_type": "code",
   "execution_count": 11,
   "id": "ba0c1e18-afc8-4ed8-a572-69ccb84d74cb",
   "metadata": {},
   "outputs": [
    {
     "name": "stdout",
     "output_type": "stream",
     "text": [
      "tensor([[ 0.7477, -1.0058, -2.2361],\n",
      "        [-0.2903, -0.3600, -0.5330]], requires_grad=True)\n",
      "tensor([[-2.1878,  0.5005],\n",
      "        [ 0.2652, -1.4495],\n",
      "        [-0.5458,  0.8088]], requires_grad=True)\n"
     ]
    }
   ],
   "source": [
    "a = torch.randn(2, 3, requires_grad=True)\n",
    "b = torch.randn(3, 2, requires_grad=True)\n",
    "print(a)\n",
    "print(b)"
   ]
  },
  {
   "cell_type": "code",
   "execution_count": 13,
   "id": "d80ed980-25c1-4708-bffe-4e4ce8d2dc78",
   "metadata": {},
   "outputs": [
    {
     "name": "stdout",
     "output_type": "stream",
     "text": [
      "tensor([[-0.6822,  0.0234],\n",
      "        [ 0.8305, -0.0546]], grad_fn=<MmBackward0>)\n"
     ]
    }
   ],
   "source": [
    "y = a @ b\n",
    "print(y)"
   ]
  },
  {
   "cell_type": "code",
   "execution_count": 15,
   "id": "703dc21c-802a-480c-8125-1cb660c3007a",
   "metadata": {},
   "outputs": [],
   "source": [
    "y.backward(torch.ones_like(y))"
   ]
  },
  {
   "cell_type": "code",
   "execution_count": 16,
   "id": "9359d7d0-3fe7-4f5c-9cb1-4cf7e6d0a2b4",
   "metadata": {},
   "outputs": [
    {
     "name": "stdout",
     "output_type": "stream",
     "text": [
      "tensor([[-1.6873, -1.1843,  0.2631],\n",
      "        [-1.6873, -1.1843,  0.2631]])\n",
      "tensor([[ 0.4575,  0.4575],\n",
      "        [-1.3658, -1.3658],\n",
      "        [-2.7692, -2.7692]])\n"
     ]
    }
   ],
   "source": [
    "print(a.grad)\n",
    "print(b.grad)"
   ]
  },
  {
   "cell_type": "code",
   "execution_count": 19,
   "id": "07d22035-8436-478e-9a26-d01f62d3b35d",
   "metadata": {},
   "outputs": [
    {
     "data": {
      "text/plain": [
       "tensor([-1.6873, -1.1843,  0.2631])"
      ]
     },
     "execution_count": 19,
     "metadata": {},
     "output_type": "execute_result"
    }
   ],
   "source": [
    "def func(a):\n",
    "    return a @ b\n",
    "\n",
    "torch.ones_like(func(a[0])) @ jacobian(func, a[0])  # 求a的第一行梯度"
   ]
  },
  {
   "cell_type": "code",
   "execution_count": 18,
   "id": "428d8224-1a59-4585-8e50-65db846e2c3e",
   "metadata": {},
   "outputs": [
    {
     "data": {
      "text/plain": [
       "tensor([-1.6873, -1.1843,  0.2631])"
      ]
     },
     "execution_count": 18,
     "metadata": {},
     "output_type": "execute_result"
    }
   ],
   "source": [
    "torch.ones_like(func(a[1])) @ jacobian(func, a[1])  # 求a的第二行梯度"
   ]
  },
  {
   "cell_type": "code",
   "execution_count": 20,
   "id": "1374b2ed-e4b3-445d-97e5-e011e218e4d2",
   "metadata": {},
   "outputs": [
    {
     "data": {
      "text/plain": [
       "tensor([ 0.4575, -1.3658, -2.7692])"
      ]
     },
     "execution_count": 20,
     "metadata": {},
     "output_type": "execute_result"
    }
   ],
   "source": [
    "def func(b):\n",
    "    return a @ b\n",
    "\n",
    "torch.ones_like(func(b[:, 0])) @ jacobian(func, b[:, 0])  # 求b的第一列梯度"
   ]
  },
  {
   "cell_type": "code",
   "execution_count": 21,
   "id": "edbc6743-191a-4305-8bb6-ef8f5b73e3a5",
   "metadata": {},
   "outputs": [
    {
     "data": {
      "text/plain": [
       "tensor([ 0.4575, -1.3658, -2.7692])"
      ]
     },
     "execution_count": 21,
     "metadata": {},
     "output_type": "execute_result"
    }
   ],
   "source": [
    "torch.ones_like(func(b[:, 1])) @ jacobian(func, b[:, 1])  # 求b的第二列梯度"
   ]
  },
  {
   "cell_type": "code",
   "execution_count": null,
   "id": "b1866413-4b39-4b13-b75d-d887262bade3",
   "metadata": {},
   "outputs": [],
   "source": []
  }
 ],
 "metadata": {
  "kernelspec": {
   "display_name": "Python 3 (ipykernel)",
   "language": "python",
   "name": "python3"
  },
  "language_info": {
   "codemirror_mode": {
    "name": "ipython",
    "version": 3
   },
   "file_extension": ".py",
   "mimetype": "text/x-python",
   "name": "python",
   "nbconvert_exporter": "python",
   "pygments_lexer": "ipython3",
   "version": "3.7.13"
  }
 },
 "nbformat": 4,
 "nbformat_minor": 5
}
