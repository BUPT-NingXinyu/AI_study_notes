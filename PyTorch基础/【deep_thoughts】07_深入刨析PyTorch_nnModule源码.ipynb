{
 "cells": [
  {
   "cell_type": "markdown",
   "id": "3f28a412-2191-4d3e-9113-57f7925bac06",
   "metadata": {},
   "source": [
    "# 深入刨析PyTorch_nnModule源码\n",
    "\n",
    "来自b站up主deep_thoughts 合集【PyTorch源码教程与前沿人工智能算法复现讲解】\n",
    "\n",
    "P_07_深入刨析PyTorch_nnModule源码：\n",
    "    \n",
    "https://www.bilibili.com/video/BV1ch411b7yP/?spm_id_from=333.1007.top_right_bar_window_history.content.click&vd_source=18e91d849da09d846f771c89a366ed40\n",
    "\n",
    "Module 官方文档：https://pytorch.org/docs/stable/generated/torch.nn.Module.html"
   ]
  },
  {
   "cell_type": "code",
   "execution_count": null,
   "id": "bd0a32e8-0e7c-4c8f-88ad-204ee82328bc",
   "metadata": {},
   "outputs": [],
   "source": []
  }
 ],
 "metadata": {
  "kernelspec": {
   "display_name": "Python 3 (ipykernel)",
   "language": "python",
   "name": "python3"
  },
  "language_info": {
   "codemirror_mode": {
    "name": "ipython",
    "version": 3
   },
   "file_extension": ".py",
   "mimetype": "text/x-python",
   "name": "python",
   "nbconvert_exporter": "python",
   "pygments_lexer": "ipython3",
   "version": "3.7.13"
  }
 },
 "nbformat": 4,
 "nbformat_minor": 5
}
