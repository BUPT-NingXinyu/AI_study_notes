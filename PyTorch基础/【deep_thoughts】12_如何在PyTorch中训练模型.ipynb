{
 "cells": [
  {
   "cell_type": "markdown",
   "id": "4a0a5977-6ef4-4d26-8518-5a8df8a4f0ac",
   "metadata": {},
   "source": [
    "# 如何在PyTorch中训练模型\n",
    "\n",
    "来自b站up主deep_thoughts 合集【PyTorch源码教程与前沿人工智能算法复现讲解】\n",
    "\n",
    "P_12_如何在PyTorch中训练模型：\n",
    "    \n",
    "https://www.bilibili.com/video/BV1wL411g7rv/?spm_id_from=pageDriver&vd_source=18e91d849da09d846f771c89a366ed40\n",
    "\n",
    "optimization 官方文档：https://pytorch.org/tutorials/beginner/basics/optimization_tutorial.html"
   ]
  },
  {
   "cell_type": "code",
   "execution_count": 1,
   "id": "bb27bed1-c777-4524-b918-dd38abad012f",
   "metadata": {},
   "outputs": [
    {
     "name": "stdout",
     "output_type": "stream",
     "text": [
      "Downloading http://fashion-mnist.s3-website.eu-central-1.amazonaws.com/train-images-idx3-ubyte.gz\n",
      "Downloading http://fashion-mnist.s3-website.eu-central-1.amazonaws.com/train-images-idx3-ubyte.gz to data\\FashionMNIST\\raw\\train-images-idx3-ubyte.gz\n"
     ]
    },
    {
     "data": {
      "application/vnd.jupyter.widget-view+json": {
       "model_id": "dbb146f8d36b465c8daec513e66378a5",
       "version_major": 2,
       "version_minor": 0
      },
      "text/plain": [
       "  0%|          | 0/26421880 [00:00<?, ?it/s]"
      ]
     },
     "metadata": {},
     "output_type": "display_data"
    },
    {
     "name": "stdout",
     "output_type": "stream",
     "text": [
      "Extracting data\\FashionMNIST\\raw\\train-images-idx3-ubyte.gz to data\\FashionMNIST\\raw\n",
      "\n",
      "Downloading http://fashion-mnist.s3-website.eu-central-1.amazonaws.com/train-labels-idx1-ubyte.gz\n",
      "Downloading http://fashion-mnist.s3-website.eu-central-1.amazonaws.com/train-labels-idx1-ubyte.gz to data\\FashionMNIST\\raw\\train-labels-idx1-ubyte.gz\n"
     ]
    },
    {
     "data": {
      "application/vnd.jupyter.widget-view+json": {
       "model_id": "bacc421b3ea247468abc15df260c0603",
       "version_major": 2,
       "version_minor": 0
      },
      "text/plain": [
       "  0%|          | 0/29515 [00:00<?, ?it/s]"
      ]
     },
     "metadata": {},
     "output_type": "display_data"
    },
    {
     "name": "stdout",
     "output_type": "stream",
     "text": [
      "Extracting data\\FashionMNIST\\raw\\train-labels-idx1-ubyte.gz to data\\FashionMNIST\\raw\n",
      "\n",
      "Downloading http://fashion-mnist.s3-website.eu-central-1.amazonaws.com/t10k-images-idx3-ubyte.gz\n",
      "Downloading http://fashion-mnist.s3-website.eu-central-1.amazonaws.com/t10k-images-idx3-ubyte.gz to data\\FashionMNIST\\raw\\t10k-images-idx3-ubyte.gz\n"
     ]
    },
    {
     "data": {
      "application/vnd.jupyter.widget-view+json": {
       "model_id": "6f2cfbdc9f674ea2857509d5a67bec12",
       "version_major": 2,
       "version_minor": 0
      },
      "text/plain": [
       "  0%|          | 0/4422102 [00:00<?, ?it/s]"
      ]
     },
     "metadata": {},
     "output_type": "display_data"
    },
    {
     "name": "stdout",
     "output_type": "stream",
     "text": [
      "Extracting data\\FashionMNIST\\raw\\t10k-images-idx3-ubyte.gz to data\\FashionMNIST\\raw\n",
      "\n",
      "Downloading http://fashion-mnist.s3-website.eu-central-1.amazonaws.com/t10k-labels-idx1-ubyte.gz\n",
      "Downloading http://fashion-mnist.s3-website.eu-central-1.amazonaws.com/t10k-labels-idx1-ubyte.gz to data\\FashionMNIST\\raw\\t10k-labels-idx1-ubyte.gz\n"
     ]
    },
    {
     "data": {
      "application/vnd.jupyter.widget-view+json": {
       "model_id": "9ec1ae27553d44b5bb9b6d298d8b299f",
       "version_major": 2,
       "version_minor": 0
      },
      "text/plain": [
       "  0%|          | 0/5148 [00:00<?, ?it/s]"
      ]
     },
     "metadata": {},
     "output_type": "display_data"
    },
    {
     "name": "stdout",
     "output_type": "stream",
     "text": [
      "Extracting data\\FashionMNIST\\raw\\t10k-labels-idx1-ubyte.gz to data\\FashionMNIST\\raw\n",
      "\n"
     ]
    }
   ],
   "source": [
    "import torch\n",
    "from torch import nn\n",
    "from torch.utils.data import DataLoader\n",
    "from torchvision import datasets\n",
    "from torchvision.transforms import ToTensor\n",
    "\n",
    "training_data = datasets.FashionMNIST(\n",
    "    root=\"data\",\n",
    "    train=True,\n",
    "    download=True,\n",
    "    transform=ToTensor()\n",
    ")\n",
    "\n",
    "test_data = datasets.FashionMNIST(\n",
    "    root=\"data\",\n",
    "    train=False,\n",
    "    download=True,\n",
    "    transform=ToTensor()\n",
    ")\n",
    "\n",
    "train_dataloader = DataLoader(training_data, batch_size=64)\n",
    "test_dataloader = DataLoader(test_data, batch_size=64)\n",
    "\n",
    "class NeuralNetwork(nn.Module):\n",
    "    def __init__(self):\n",
    "        super(NeuralNetwork, self).__init__()\n",
    "        self.flatten = nn.Flatten()\n",
    "        self.linear_relu_stack = nn.Sequential(\n",
    "            nn.Linear(28*28, 512),\n",
    "            nn.ReLU(),\n",
    "            nn.Linear(512, 512),\n",
    "            nn.ReLU(),\n",
    "            nn.Linear(512, 10),\n",
    "        )\n",
    "\n",
    "    def forward(self, x):\n",
    "        x = self.flatten(x)\n",
    "        logits = self.linear_relu_stack(x)\n",
    "        return logits\n",
    "\n",
    "model = NeuralNetwork()"
   ]
  },
  {
   "cell_type": "markdown",
   "id": "71a2888b-ec36-46ba-b873-bde1490b5b8d",
   "metadata": {},
   "source": [
    "## 超参数"
   ]
  },
  {
   "cell_type": "code",
   "execution_count": 2,
   "id": "ad2b910f-7c58-474e-a154-27858b1363eb",
   "metadata": {},
   "outputs": [],
   "source": [
    "learning_rate = 1e-3\n",
    "batch_size = 64\n",
    "epochs = 5"
   ]
  },
  {
   "cell_type": "markdown",
   "id": "86ae0c18-2bee-4fc8-838f-17c05b7b0256",
   "metadata": {},
   "source": [
    "## 损失函数"
   ]
  },
  {
   "cell_type": "code",
   "execution_count": 6,
   "id": "af96f120-4b22-4115-b8ee-4b4ae7e10228",
   "metadata": {},
   "outputs": [],
   "source": [
    "# Initialize the loss function\n",
    "loss_fn = nn.CrossEntropyLoss()"
   ]
  },
  {
   "cell_type": "markdown",
   "id": "2dd4c781-b102-4a27-8f9c-a7bdc3826c7f",
   "metadata": {},
   "source": [
    "## 优化器"
   ]
  },
  {
   "cell_type": "code",
   "execution_count": 7,
   "id": "128bfb57-46ce-4070-84a7-3bdfc391673a",
   "metadata": {},
   "outputs": [],
   "source": [
    "optimizer = torch.optim.SGD(model.parameters(), lr=learning_rate)"
   ]
  },
  {
   "cell_type": "markdown",
   "id": "041a3ba4-453d-4d8d-aa9d-bb4836c710a3",
   "metadata": {},
   "source": [
    "## 定义训练和测试函数"
   ]
  },
  {
   "cell_type": "code",
   "execution_count": 8,
   "id": "08421972-651a-45e1-a81b-3060522d0c6c",
   "metadata": {},
   "outputs": [],
   "source": [
    "def train_loop(dataloader, model, loss_fn, optimizer):\n",
    "    size = len(dataloader.dataset)\n",
    "    for batch, (X, y) in enumerate(dataloader):\n",
    "        # Compute prediction and loss\n",
    "        pred = model(X)\n",
    "        loss = loss_fn(pred, y)\n",
    "\n",
    "        # Backpropagation\n",
    "        optimizer.zero_grad()\n",
    "        loss.backward()\n",
    "        optimizer.step()\n",
    "\n",
    "        if batch % 100 == 0:\n",
    "            loss, current = loss.item(), batch * len(X)\n",
    "            print(f\"loss: {loss:>7f}  [{current:>5d}/{size:>5d}]\")\n",
    "\n",
    "\n",
    "def test_loop(dataloader, model, loss_fn):\n",
    "    size = len(dataloader.dataset)\n",
    "    num_batches = len(dataloader)\n",
    "    test_loss, correct = 0, 0\n",
    "\n",
    "    with torch.no_grad():\n",
    "        for X, y in dataloader:\n",
    "            pred = model(X)\n",
    "            test_loss += loss_fn(pred, y).item()\n",
    "            correct += (pred.argmax(1) == y).type(torch.float).sum().item()\n",
    "\n",
    "    test_loss /= num_batches\n",
    "    correct /= size\n",
    "    print(f\"Test Error: \\n Accuracy: {(100*correct):>0.1f}%, Avg loss: {test_loss:>8f} \\n\")"
   ]
  },
  {
   "cell_type": "code",
   "execution_count": 9,
   "id": "f6b39352-f5e4-4466-9180-37fe90126768",
   "metadata": {
    "scrolled": true,
    "tags": []
   },
   "outputs": [
    {
     "name": "stdout",
     "output_type": "stream",
     "text": [
      "Epoch 1\n",
      "-------------------------------\n",
      "loss: 2.290176  [    0/60000]\n",
      "loss: 2.289051  [ 6400/60000]\n",
      "loss: 2.270267  [12800/60000]\n",
      "loss: 2.276783  [19200/60000]\n",
      "loss: 2.262881  [25600/60000]\n",
      "loss: 2.215893  [32000/60000]\n",
      "loss: 2.238832  [38400/60000]\n",
      "loss: 2.195593  [44800/60000]\n",
      "loss: 2.193259  [51200/60000]\n",
      "loss: 2.172219  [57600/60000]\n",
      "Test Error: \n",
      " Accuracy: 40.5%, Avg loss: 2.165512 \n",
      "\n",
      "Epoch 2\n",
      "-------------------------------\n",
      "loss: 2.162621  [    0/60000]\n",
      "loss: 2.161574  [ 6400/60000]\n",
      "loss: 2.108512  [12800/60000]\n",
      "loss: 2.135236  [19200/60000]\n",
      "loss: 2.088034  [25600/60000]\n",
      "loss: 2.016895  [32000/60000]\n",
      "loss: 2.052567  [38400/60000]\n",
      "loss: 1.972199  [44800/60000]\n",
      "loss: 1.973507  [51200/60000]\n",
      "loss: 1.911999  [57600/60000]\n",
      "Test Error: \n",
      " Accuracy: 55.7%, Avg loss: 1.911742 \n",
      "\n",
      "Epoch 3\n",
      "-------------------------------\n",
      "loss: 1.926312  [    0/60000]\n",
      "loss: 1.905206  [ 6400/60000]\n",
      "loss: 1.796431  [12800/60000]\n",
      "loss: 1.848412  [19200/60000]\n",
      "loss: 1.735876  [25600/60000]\n",
      "loss: 1.671359  [32000/60000]\n",
      "loss: 1.700338  [38400/60000]\n",
      "loss: 1.600057  [44800/60000]\n",
      "loss: 1.620223  [51200/60000]\n",
      "loss: 1.519871  [57600/60000]\n",
      "Test Error: \n",
      " Accuracy: 62.3%, Avg loss: 1.539840 \n",
      "\n",
      "Epoch 4\n",
      "-------------------------------\n",
      "loss: 1.588758  [    0/60000]\n",
      "loss: 1.558667  [ 6400/60000]\n",
      "loss: 1.416453  [12800/60000]\n",
      "loss: 1.498703  [19200/60000]\n",
      "loss: 1.378082  [25600/60000]\n",
      "loss: 1.353856  [32000/60000]\n",
      "loss: 1.376835  [38400/60000]\n",
      "loss: 1.300247  [44800/60000]\n",
      "loss: 1.335267  [51200/60000]\n",
      "loss: 1.237663  [57600/60000]\n",
      "Test Error: \n",
      " Accuracy: 64.3%, Avg loss: 1.262376 \n",
      "\n",
      "Epoch 5\n",
      "-------------------------------\n",
      "loss: 1.329984  [    0/60000]\n",
      "loss: 1.309780  [ 6400/60000]\n",
      "loss: 1.152458  [12800/60000]\n",
      "loss: 1.266449  [19200/60000]\n",
      "loss: 1.143905  [25600/60000]\n",
      "loss: 1.147936  [32000/60000]\n",
      "loss: 1.178506  [38400/60000]\n",
      "loss: 1.113959  [44800/60000]\n",
      "loss: 1.158065  [51200/60000]\n",
      "loss: 1.074715  [57600/60000]\n",
      "Test Error: \n",
      " Accuracy: 65.0%, Avg loss: 1.091173 \n",
      "\n",
      "Epoch 6\n",
      "-------------------------------\n",
      "loss: 1.159481  [    0/60000]\n",
      "loss: 1.154280  [ 6400/60000]\n",
      "loss: 0.979896  [12800/60000]\n",
      "loss: 1.122449  [19200/60000]\n",
      "loss: 0.998235  [25600/60000]\n",
      "loss: 1.012045  [32000/60000]\n",
      "loss: 1.057467  [38400/60000]\n",
      "loss: 0.995973  [44800/60000]\n",
      "loss: 1.044289  [51200/60000]\n",
      "loss: 0.974405  [57600/60000]\n",
      "Test Error: \n",
      " Accuracy: 65.8%, Avg loss: 0.982190 \n",
      "\n",
      "Epoch 7\n",
      "-------------------------------\n",
      "loss: 1.043170  [    0/60000]\n",
      "loss: 1.055326  [ 6400/60000]\n",
      "loss: 0.862974  [12800/60000]\n",
      "loss: 1.027419  [19200/60000]\n",
      "loss: 0.906504  [25600/60000]\n",
      "loss: 0.918914  [32000/60000]\n",
      "loss: 0.979676  [38400/60000]\n",
      "loss: 0.920139  [44800/60000]\n",
      "loss: 0.967045  [51200/60000]\n",
      "loss: 0.908462  [57600/60000]\n",
      "Test Error: \n",
      " Accuracy: 66.9%, Avg loss: 0.909258 \n",
      "\n",
      "Epoch 8\n",
      "-------------------------------\n",
      "loss: 0.958760  [    0/60000]\n",
      "loss: 0.988371  [ 6400/60000]\n",
      "loss: 0.780062  [12800/60000]\n",
      "loss: 0.961628  [19200/60000]\n",
      "loss: 0.846300  [25600/60000]\n",
      "loss: 0.852805  [32000/60000]\n",
      "loss: 0.925742  [38400/60000]\n",
      "loss: 0.869898  [44800/60000]\n",
      "loss: 0.912376  [51200/60000]\n",
      "loss: 0.861678  [57600/60000]\n",
      "Test Error: \n",
      " Accuracy: 68.0%, Avg loss: 0.857761 \n",
      "\n",
      "Epoch 9\n",
      "-------------------------------\n",
      "loss: 0.894126  [    0/60000]\n",
      "loss: 0.939548  [ 6400/60000]\n",
      "loss: 0.719001  [12800/60000]\n",
      "loss: 0.913704  [19200/60000]\n",
      "loss: 0.804710  [25600/60000]\n",
      "loss: 0.804380  [32000/60000]\n",
      "loss: 0.885328  [38400/60000]\n",
      "loss: 0.835105  [44800/60000]\n",
      "loss: 0.872008  [51200/60000]\n",
      "loss: 0.826401  [57600/60000]\n",
      "Test Error: \n",
      " Accuracy: 69.0%, Avg loss: 0.819312 \n",
      "\n",
      "Epoch 10\n",
      "-------------------------------\n",
      "loss: 0.842661  [    0/60000]\n",
      "loss: 0.901118  [ 6400/60000]\n",
      "loss: 0.672057  [12800/60000]\n",
      "loss: 0.877091  [19200/60000]\n",
      "loss: 0.773840  [25600/60000]\n",
      "loss: 0.767717  [32000/60000]\n",
      "loss: 0.852776  [38400/60000]\n",
      "loss: 0.809489  [44800/60000]\n",
      "loss: 0.840652  [51200/60000]\n",
      "loss: 0.798147  [57600/60000]\n",
      "Test Error: \n",
      " Accuracy: 70.3%, Avg loss: 0.788975 \n",
      "\n",
      "Done!\n"
     ]
    }
   ],
   "source": [
    "loss_fn = nn.CrossEntropyLoss()\n",
    "optimizer = torch.optim.SGD(model.parameters(), lr=learning_rate)\n",
    "\n",
    "epochs = 10\n",
    "for t in range(epochs):\n",
    "    print(f\"Epoch {t+1}\\n-------------------------------\")\n",
    "    train_loop(train_dataloader, model, loss_fn, optimizer)\n",
    "    test_loop(test_dataloader, model, loss_fn)\n",
    "print(\"Done!\")"
   ]
  },
  {
   "cell_type": "code",
   "execution_count": null,
   "id": "a964b0f2-1323-4449-b361-b304ce4b9b80",
   "metadata": {},
   "outputs": [],
   "source": []
  }
 ],
 "metadata": {
  "kernelspec": {
   "display_name": "Python 3 (ipykernel)",
   "language": "python",
   "name": "python3"
  },
  "language_info": {
   "codemirror_mode": {
    "name": "ipython",
    "version": 3
   },
   "file_extension": ".py",
   "mimetype": "text/x-python",
   "name": "python",
   "nbconvert_exporter": "python",
   "pygments_lexer": "ipython3",
   "version": "3.7.13"
  }
 },
 "nbformat": 4,
 "nbformat_minor": 5
}
