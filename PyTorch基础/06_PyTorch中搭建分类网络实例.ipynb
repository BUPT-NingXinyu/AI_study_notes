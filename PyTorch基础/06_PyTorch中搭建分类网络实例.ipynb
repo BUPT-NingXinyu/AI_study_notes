{
 "cells": [
  {
   "cell_type": "markdown",
   "id": "cd5401fc-1857-4d08-aded-260ad0154f08",
   "metadata": {},
   "source": [
    "# PyTorch中搭建分类网络实例\n",
    "\n",
    "来自b站up主deep_thoughts 合集【PyTorch源码教程与前沿人工智能算法复现讲解】\n",
    "\n",
    "P_06_PyTorch中搭建分类网络实例：\n",
    "    \n",
    "https://www.bilibili.com/video/BV1VF411a7oz/?spm_id_from=333.788&vd_source=18e91d849da09d846f771c89a366ed40\n",
    "\n",
    "transform 官方文档：https://pytorch.org/tutorials/beginner/basics/transforms_tutorial.html\n",
    "\n",
    "build model 官方文档：https://pytorch.org/tutorials/beginner/basics/buildmodel_tutorial.html\n",
    "\n",
    "### 以下代码来自 build model 官方文档"
   ]
  },
  {
   "cell_type": "code",
   "execution_count": 1,
   "id": "a3e97dd3-163c-4fec-9ddd-6d3ea162a8fd",
   "metadata": {},
   "outputs": [],
   "source": [
    "import os\n",
    "import torch\n",
    "from torch import nn\n",
    "from torch.utils.data import DataLoader\n",
    "from torchvision import datasets, transforms"
   ]
  },
  {
   "cell_type": "markdown",
   "id": "a7beabfa-75f4-4d97-8286-5d90f8f59f54",
   "metadata": {},
   "source": [
    "### 选择用于训练的设备"
   ]
  },
  {
   "cell_type": "code",
   "execution_count": 2,
   "id": "11e22c8d-f55f-4aa4-bafb-eb334868063e",
   "metadata": {},
   "outputs": [
    {
     "name": "stdout",
     "output_type": "stream",
     "text": [
      "Using cuda device\n"
     ]
    }
   ],
   "source": [
    "device = \"cuda\" if torch.cuda.is_available() else \"cpu\"\n",
    "print(f\"Using {device} device\")"
   ]
  },
  {
   "cell_type": "markdown",
   "id": "2803ea39-f709-4093-a85a-4f93506de655",
   "metadata": {},
   "source": [
    "### 定义网络"
   ]
  },
  {
   "cell_type": "code",
   "execution_count": 3,
   "id": "44f1e370-ab72-4caf-9c02-05726aa3fb4c",
   "metadata": {},
   "outputs": [],
   "source": [
    "class NeuralNetwork(nn.Module):\n",
    "    def __init__(self):\n",
    "        super(NeuralNetwork, self).__init__()\n",
    "        self.flatten = nn.Flatten()\n",
    "        self.linear_relu_stack = nn.Sequential(\n",
    "            nn.Linear(28*28, 512),\n",
    "            nn.ReLU(),\n",
    "            nn.Linear(512, 512),\n",
    "            nn.ReLU(),\n",
    "            nn.Linear(512, 10),\n",
    "        )\n",
    "\n",
    "    def forward(self, x):\n",
    "        x = self.flatten(x)\n",
    "        logits = self.linear_relu_stack(x)\n",
    "        return logits"
   ]
  },
  {
   "cell_type": "code",
   "execution_count": 4,
   "id": "9e6cdfc9-8c2d-4ae3-8630-1a39447b2c17",
   "metadata": {},
   "outputs": [
    {
     "name": "stdout",
     "output_type": "stream",
     "text": [
      "NeuralNetwork(\n",
      "  (flatten): Flatten(start_dim=1, end_dim=-1)\n",
      "  (linear_relu_stack): Sequential(\n",
      "    (0): Linear(in_features=784, out_features=512, bias=True)\n",
      "    (1): ReLU()\n",
      "    (2): Linear(in_features=512, out_features=512, bias=True)\n",
      "    (3): ReLU()\n",
      "    (4): Linear(in_features=512, out_features=10, bias=True)\n",
      "  )\n",
      ")\n"
     ]
    }
   ],
   "source": [
    "model = NeuralNetwork().to(device)\n",
    "print(model)"
   ]
  },
  {
   "cell_type": "code",
   "execution_count": 5,
   "id": "91be1054-a2a3-4c6b-bba2-1ba75ea1bc63",
   "metadata": {},
   "outputs": [
    {
     "name": "stdout",
     "output_type": "stream",
     "text": [
      "Predicted class: tensor([0], device='cuda:0')\n"
     ]
    }
   ],
   "source": [
    "X = torch.rand(1, 28, 28, device=device)\n",
    "logits = model(X)\n",
    "pred_probab = nn.Softmax(dim=1)(logits)\n",
    "y_pred = pred_probab.argmax(1)\n",
    "print(f\"Predicted class: {y_pred}\")"
   ]
  },
  {
   "cell_type": "markdown",
   "id": "2fa55c26-5a24-46e2-a2b0-b42d448df0e0",
   "metadata": {},
   "source": [
    "## 模型层"
   ]
  },
  {
   "cell_type": "code",
   "execution_count": 6,
   "id": "e8ba18c8-4985-4967-ba80-8bd18f971b10",
   "metadata": {},
   "outputs": [
    {
     "name": "stdout",
     "output_type": "stream",
     "text": [
      "torch.Size([3, 28, 28])\n"
     ]
    }
   ],
   "source": [
    "input_image = torch.rand(3,28,28)\n",
    "print(input_image.size())"
   ]
  },
  {
   "cell_type": "markdown",
   "id": "52d314e6-5ef0-4e57-83a2-fa54a8ea5590",
   "metadata": {},
   "source": [
    "### nn.Flatten"
   ]
  },
  {
   "cell_type": "code",
   "execution_count": 7,
   "id": "233d02e4-1cd2-42b2-92fb-e43c032d185b",
   "metadata": {},
   "outputs": [
    {
     "name": "stdout",
     "output_type": "stream",
     "text": [
      "torch.Size([3, 784])\n"
     ]
    }
   ],
   "source": [
    "flatten = nn.Flatten()\n",
    "flat_image = flatten(input_image)\n",
    "print(flat_image.size())"
   ]
  },
  {
   "cell_type": "markdown",
   "id": "16646124-c1b8-4a0f-9509-6e5178de7025",
   "metadata": {},
   "source": [
    "### nn.Linear"
   ]
  },
  {
   "cell_type": "code",
   "execution_count": 8,
   "id": "70c4e652-7ab2-4db2-9e35-79c2fd98a76c",
   "metadata": {},
   "outputs": [
    {
     "name": "stdout",
     "output_type": "stream",
     "text": [
      "torch.Size([3, 20])\n"
     ]
    }
   ],
   "source": [
    "layer1 = nn.Linear(in_features=28*28, out_features=20)\n",
    "hidden1 = layer1(flat_image)\n",
    "print(hidden1.size())"
   ]
  },
  {
   "cell_type": "markdown",
   "id": "14ca1fbd-d066-43db-be96-34b3310387ba",
   "metadata": {},
   "source": [
    "### nn.ReLU"
   ]
  },
  {
   "cell_type": "code",
   "execution_count": 9,
   "id": "716b90ed-fd4c-43c9-b807-4049651aa972",
   "metadata": {},
   "outputs": [
    {
     "name": "stdout",
     "output_type": "stream",
     "text": [
      "Before ReLU: tensor([[-0.2780,  0.3503,  0.1463, -0.3755, -0.6236,  0.4275,  0.3753,  0.2054,\n",
      "          0.3088, -0.0295,  0.0679,  0.1017, -0.3025, -0.0648,  0.2247,  0.5785,\n",
      "          0.0542,  0.0841, -0.0850,  0.5290],\n",
      "        [-0.0885,  0.5606, -0.0655, -0.3955, -0.3262,  0.3654,  0.3318,  0.3258,\n",
      "          0.2063, -0.3415, -0.1687,  0.2529, -0.1559, -0.1788,  0.3850,  0.4877,\n",
      "          0.3575,  0.0779,  0.1004,  0.3086],\n",
      "        [ 0.2244,  0.3643, -0.0068, -0.4674, -0.4539,  0.0373,  0.2333, -0.2000,\n",
      "         -0.0285, -0.3393,  0.2245,  0.4394,  0.1486,  0.0634,  0.1618,  0.8010,\n",
      "          0.2595,  0.3017, -0.2654,  0.4620]], grad_fn=<AddmmBackward0>)\n",
      "\n",
      "\n",
      "After ReLU: tensor([[0.0000, 0.3503, 0.1463, 0.0000, 0.0000, 0.4275, 0.3753, 0.2054, 0.3088,\n",
      "         0.0000, 0.0679, 0.1017, 0.0000, 0.0000, 0.2247, 0.5785, 0.0542, 0.0841,\n",
      "         0.0000, 0.5290],\n",
      "        [0.0000, 0.5606, 0.0000, 0.0000, 0.0000, 0.3654, 0.3318, 0.3258, 0.2063,\n",
      "         0.0000, 0.0000, 0.2529, 0.0000, 0.0000, 0.3850, 0.4877, 0.3575, 0.0779,\n",
      "         0.1004, 0.3086],\n",
      "        [0.2244, 0.3643, 0.0000, 0.0000, 0.0000, 0.0373, 0.2333, 0.0000, 0.0000,\n",
      "         0.0000, 0.2245, 0.4394, 0.1486, 0.0634, 0.1618, 0.8010, 0.2595, 0.3017,\n",
      "         0.0000, 0.4620]], grad_fn=<ReluBackward0>)\n"
     ]
    }
   ],
   "source": [
    "print(f\"Before ReLU: {hidden1}\\n\\n\")\n",
    "hidden1 = nn.ReLU()(hidden1)\n",
    "print(f\"After ReLU: {hidden1}\")"
   ]
  },
  {
   "cell_type": "markdown",
   "id": "4a8de9d2-d41c-4c42-b0b9-cdec7885667f",
   "metadata": {},
   "source": [
    "### nn.Sequential"
   ]
  },
  {
   "cell_type": "code",
   "execution_count": 11,
   "id": "6467517d-db19-4d89-ac37-82393a9922db",
   "metadata": {},
   "outputs": [
    {
     "name": "stdout",
     "output_type": "stream",
     "text": [
      "tensor([[-0.0943,  0.0147,  0.4421, -0.5255,  0.1280, -0.2920, -0.2450,  0.0808,\n",
      "          0.1453,  0.1109],\n",
      "        [ 0.0651, -0.0972,  0.4696, -0.4603,  0.2360, -0.3277, -0.2418,  0.0055,\n",
      "          0.1065,  0.1505],\n",
      "        [ 0.0225, -0.0393,  0.3955, -0.3633,  0.1399, -0.3544, -0.3701, -0.0119,\n",
      "          0.0358,  0.2405]], grad_fn=<AddmmBackward0>)\n"
     ]
    }
   ],
   "source": [
    "seq_modules = nn.Sequential(\n",
    "    flatten,\n",
    "    layer1,\n",
    "    nn.ReLU(),\n",
    "    nn.Linear(20, 10)\n",
    ")\n",
    "input_image = torch.rand(3,28,28)\n",
    "logits = seq_modules(input_image)\n",
    "print(logits)"
   ]
  },
  {
   "cell_type": "markdown",
   "id": "05c65bd5-ea55-4e61-a136-8c002a6d105f",
   "metadata": {},
   "source": [
    "### nn.Softmax"
   ]
  },
  {
   "cell_type": "code",
   "execution_count": 12,
   "id": "73cf9926-5da6-4a18-9fe2-5ba0cff8ae4f",
   "metadata": {},
   "outputs": [
    {
     "name": "stdout",
     "output_type": "stream",
     "text": [
      "tensor([[0.0901, 0.1005, 0.1541, 0.0586, 0.1126, 0.0740, 0.0775, 0.1074, 0.1145,\n",
      "         0.1107],\n",
      "        [0.1040, 0.0885, 0.1559, 0.0615, 0.1234, 0.0702, 0.0766, 0.0980, 0.1084,\n",
      "         0.1133],\n",
      "        [0.1022, 0.0961, 0.1485, 0.0695, 0.1150, 0.0701, 0.0690, 0.0988, 0.1036,\n",
      "         0.1271]], grad_fn=<SoftmaxBackward0>)\n"
     ]
    }
   ],
   "source": [
    "softmax = nn.Softmax(dim=1)\n",
    "pred_probab = softmax(logits)\n",
    "print(pred_probab)"
   ]
  },
  {
   "cell_type": "markdown",
   "id": "8d8109ae-9879-46c5-96ff-9d56ce62d312",
   "metadata": {},
   "source": [
    "### model parameters"
   ]
  },
  {
   "cell_type": "code",
   "execution_count": 13,
   "id": "123053e1-0856-42c1-a261-669def47c223",
   "metadata": {},
   "outputs": [
    {
     "name": "stdout",
     "output_type": "stream",
     "text": [
      "Model structure: NeuralNetwork(\n",
      "  (flatten): Flatten(start_dim=1, end_dim=-1)\n",
      "  (linear_relu_stack): Sequential(\n",
      "    (0): Linear(in_features=784, out_features=512, bias=True)\n",
      "    (1): ReLU()\n",
      "    (2): Linear(in_features=512, out_features=512, bias=True)\n",
      "    (3): ReLU()\n",
      "    (4): Linear(in_features=512, out_features=10, bias=True)\n",
      "  )\n",
      ")\n",
      "\n",
      "\n",
      "Layer: linear_relu_stack.0.weight | Size: torch.Size([512, 784]) | Values : tensor([[-0.0093, -0.0210,  0.0013,  ..., -0.0142, -0.0237,  0.0008],\n",
      "        [-0.0307, -0.0249, -0.0324,  ..., -0.0045,  0.0103, -0.0105]],\n",
      "       device='cuda:0', grad_fn=<SliceBackward0>) \n",
      "\n",
      "Layer: linear_relu_stack.0.bias | Size: torch.Size([512]) | Values : tensor([ 0.0224, -0.0081], device='cuda:0', grad_fn=<SliceBackward0>) \n",
      "\n",
      "Layer: linear_relu_stack.2.weight | Size: torch.Size([512, 512]) | Values : tensor([[-0.0426, -0.0308, -0.0271,  ...,  0.0122,  0.0140,  0.0107],\n",
      "        [ 0.0157,  0.0416, -0.0033,  ..., -0.0177,  0.0206, -0.0379]],\n",
      "       device='cuda:0', grad_fn=<SliceBackward0>) \n",
      "\n",
      "Layer: linear_relu_stack.2.bias | Size: torch.Size([512]) | Values : tensor([-0.0090,  0.0254], device='cuda:0', grad_fn=<SliceBackward0>) \n",
      "\n",
      "Layer: linear_relu_stack.4.weight | Size: torch.Size([10, 512]) | Values : tensor([[ 0.0346,  0.0327, -0.0308,  ..., -0.0197,  0.0309,  0.0232],\n",
      "        [ 0.0109,  0.0217, -0.0288,  ..., -0.0194, -0.0424,  0.0388]],\n",
      "       device='cuda:0', grad_fn=<SliceBackward0>) \n",
      "\n",
      "Layer: linear_relu_stack.4.bias | Size: torch.Size([10]) | Values : tensor([ 0.0255, -0.0149], device='cuda:0', grad_fn=<SliceBackward0>) \n",
      "\n"
     ]
    }
   ],
   "source": [
    "print(f\"Model structure: {model}\\n\\n\")\n",
    "\n",
    "for name, param in model.named_parameters():\n",
    "    print(f\"Layer: {name} | Size: {param.size()} | Values : {param[:2]} \\n\")"
   ]
  },
  {
   "cell_type": "code",
   "execution_count": null,
   "id": "b71f3f01-a0b5-4d3f-a2de-59c0e3a063e4",
   "metadata": {},
   "outputs": [],
   "source": []
  }
 ],
 "metadata": {
  "kernelspec": {
   "display_name": "Python 3 (ipykernel)",
   "language": "python",
   "name": "python3"
  },
  "language_info": {
   "codemirror_mode": {
    "name": "ipython",
    "version": 3
   },
   "file_extension": ".py",
   "mimetype": "text/x-python",
   "name": "python",
   "nbconvert_exporter": "python",
   "pygments_lexer": "ipython3",
   "version": "3.7.13"
  }
 },
 "nbformat": 4,
 "nbformat_minor": 5
}
