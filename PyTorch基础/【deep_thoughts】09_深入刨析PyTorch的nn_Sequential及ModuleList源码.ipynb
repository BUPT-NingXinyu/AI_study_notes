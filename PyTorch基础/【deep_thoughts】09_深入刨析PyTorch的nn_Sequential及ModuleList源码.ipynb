{
 "cells": [
  {
   "cell_type": "markdown",
   "id": "994e2801-bb05-4cd0-9109-7256b7c89a85",
   "metadata": {},
   "source": [
    "# 深入刨析PyTorch的nn.Sequential及ModuleList源码\n",
    "\n",
    "来自b站up主deep_thoughts 合集【PyTorch源码教程与前沿人工智能算法复现讲解】\n",
    "\n",
    "P_09_深入刨析PyTorch的nn.Sequential及ModuleList源码：\n",
    "    \n",
    "https://www.bilibili.com/video/BV1Cb4y187H1/?spm_id_from=333.788&vd_source=18e91d849da09d846f771c89a366ed40\n",
    "\n",
    "save and load the model 官方文档：https://pytorch.org/tutorials/beginner/basics/saveloadrun_tutorial.html"
   ]
  },
  {
   "cell_type": "code",
   "execution_count": 1,
   "id": "69b5bdc6-239b-45b8-a5d2-ae7961af6813",
   "metadata": {},
   "outputs": [],
   "source": [
    "import torch\n",
    "\n",
    "class Test(torch.nn.Module):\n",
    "    def __init__(self):\n",
    "        super(Test, self).__init__()\n",
    "        self.linear1 = torch.nn.Linear(2, 3)\n",
    "        self.linear2 = torch.nn.Linear(3, 4)\n",
    "        self.batch_norm = torch.nn.BatchNorm2d(4)\n",
    "        \n",
    "test_module = Test()"
   ]
  },
  {
   "cell_type": "markdown",
   "id": "8722e573-7ff6-4b6b-997e-8f9ac578b4a4",
   "metadata": {},
   "source": [
    "## 魔法函数\n",
    "以双划线开头，双划线结尾。"
   ]
  },
  {
   "cell_type": "code",
   "execution_count": 2,
   "id": "3bf879b0-5525-4609-b85c-eb9d7016b07e",
   "metadata": {},
   "outputs": [
    {
     "name": "stdout",
     "output_type": "stream",
     "text": [
      "Test(\n",
      "  (linear1): Linear(in_features=2, out_features=3, bias=True)\n",
      "  (linear2): Linear(in_features=3, out_features=4, bias=True)\n",
      "  (batch_norm): BatchNorm2d(4, eps=1e-05, momentum=0.1, affine=True, track_running_stats=True)\n",
      ")\n"
     ]
    }
   ],
   "source": [
    "print(str(test_module))"
   ]
  },
  {
   "cell_type": "code",
   "execution_count": 3,
   "id": "c05bbf25-5f0d-4646-a120-0b1e3c405c4c",
   "metadata": {},
   "outputs": [
    {
     "name": "stdout",
     "output_type": "stream",
     "text": [
      "['T_destination', '__annotations__', '__call__', '__class__', '__delattr__', '__dict__', '__dir__', '__doc__', '__eq__', '__format__', '__ge__', '__getattr__', '__getattribute__', '__gt__', '__hash__', '__init__', '__init_subclass__', '__le__', '__lt__', '__module__', '__ne__', '__new__', '__reduce__', '__reduce_ex__', '__repr__', '__setattr__', '__setstate__', '__sizeof__', '__str__', '__subclasshook__', '__weakref__', '_apply', '_backward_hooks', '_buffers', '_call_impl', '_forward_hooks', '_forward_pre_hooks', '_get_backward_hooks', '_get_name', '_is_full_backward_hook', '_load_from_state_dict', '_load_state_dict_pre_hooks', '_maybe_warn_non_full_backward_hook', '_modules', '_named_members', '_non_persistent_buffers_set', '_parameters', '_register_load_state_dict_pre_hook', '_register_state_dict_hook', '_replicate_for_data_parallel', '_save_to_state_dict', '_slow_forward', '_state_dict_hooks', '_version', 'add_module', 'apply', 'batch_norm', 'bfloat16', 'buffers', 'children', 'cpu', 'cuda', 'double', 'dump_patches', 'eval', 'extra_repr', 'float', 'forward', 'get_buffer', 'get_extra_state', 'get_parameter', 'get_submodule', 'half', 'linear1', 'linear2', 'load_state_dict', 'modules', 'named_buffers', 'named_children', 'named_modules', 'named_parameters', 'parameters', 'register_backward_hook', 'register_buffer', 'register_forward_hook', 'register_forward_pre_hook', 'register_full_backward_hook', 'register_module', 'register_parameter', 'requires_grad_', 'set_extra_state', 'share_memory', 'state_dict', 'to', 'to_empty', 'train', 'training', 'type', 'xpu', 'zero_grad']\n"
     ]
    }
   ],
   "source": [
    "print(dir(test_module))"
   ]
  },
  {
   "cell_type": "code",
   "execution_count": 4,
   "id": "f2710622-fa80-46ce-a0c4-ab4e922ba2f3",
   "metadata": {},
   "outputs": [
    {
     "name": "stdout",
     "output_type": "stream",
     "text": [
      "Sequential(\n",
      "  (0): Linear(in_features=2, out_features=3, bias=True)\n",
      "  (1): Linear(in_features=3, out_features=4, bias=True)\n",
      ")\n"
     ]
    }
   ],
   "source": [
    "s = torch.nn.Sequential(torch.nn.Linear(2,3), torch.nn.Linear(3,4))\n",
    "print(s)"
   ]
  },
  {
   "cell_type": "code",
   "execution_count": 5,
   "id": "6898e212-b0e0-477c-93c3-293d83417d16",
   "metadata": {},
   "outputs": [
    {
     "name": "stdout",
     "output_type": "stream",
     "text": [
      "OrderedDict([('0', Linear(in_features=2, out_features=3, bias=True)), ('1', Linear(in_features=3, out_features=4, bias=True))])\n"
     ]
    }
   ],
   "source": [
    "print(s._modules)"
   ]
  },
  {
   "cell_type": "code",
   "execution_count": null,
   "id": "7778e2b3-8d8b-4f56-96ed-6ce0baa29d1e",
   "metadata": {},
   "outputs": [],
   "source": []
  }
 ],
 "metadata": {
  "kernelspec": {
   "display_name": "Python 3 (ipykernel)",
   "language": "python",
   "name": "python3"
  },
  "language_info": {
   "codemirror_mode": {
    "name": "ipython",
    "version": 3
   },
   "file_extension": ".py",
   "mimetype": "text/x-python",
   "name": "python",
   "nbconvert_exporter": "python",
   "pygments_lexer": "ipython3",
   "version": "3.7.13"
  }
 },
 "nbformat": 4,
 "nbformat_minor": 5
}
