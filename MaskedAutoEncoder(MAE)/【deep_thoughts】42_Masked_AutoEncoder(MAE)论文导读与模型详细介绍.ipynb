{
 "cells": [
  {
   "cell_type": "markdown",
   "id": "ecb49ce3-ddb1-49de-9f50-fcf3361be923",
   "metadata": {},
   "source": [
    "# Masked_AutoEncoder(MAE)论文导读与模型详细介绍\n",
    "\n",
    "来自b站up主deep_thoughts 合集【PyTorch源码教程与前沿人工智能算法复现讲解】\n",
    "\n",
    "P_42_Masked_AutoEncoder(MAE)论文导读与模型详细介绍：\n",
    "\n",
    "https://www.bilibili.com/video/BV1u94y1f7NH/?spm_id_from=333.788&vd_source=18e91d849da09d846f771c89a366ed40\n",
    "\n",
    "***论文***\n",
    "\n",
    "Masked Autoencoders Are Scalable Vision Learners：\n",
    "\n",
    "https://arxiv.org/pdf/2111.06377.pdf"
   ]
  },
  {
   "cell_type": "code",
   "execution_count": null,
   "id": "8306b0c8-0ac5-4d35-93f6-0e2c99af304b",
   "metadata": {},
   "outputs": [],
   "source": []
  }
 ],
 "metadata": {
  "kernelspec": {
   "display_name": "Python 3 (ipykernel)",
   "language": "python",
   "name": "python3"
  },
  "language_info": {
   "codemirror_mode": {
    "name": "ipython",
    "version": 3
   },
   "file_extension": ".py",
   "mimetype": "text/x-python",
   "name": "python",
   "nbconvert_exporter": "python",
   "pygments_lexer": "ipython3",
   "version": "3.7.13"
  }
 },
 "nbformat": 4,
 "nbformat_minor": 5
}
