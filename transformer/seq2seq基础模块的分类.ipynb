{
 "cells": [
  {
   "cell_type": "markdown",
   "id": "5af7882b-d6fe-4425-95ac-5b3f06b9a8df",
   "metadata": {},
   "source": [
    "# seq2seq基础模块的分类"
   ]
  },
  {
   "cell_type": "markdown",
   "id": "95ebe999-ad53-4395-b20e-53018296abbb",
   "metadata": {},
   "source": [
    "## CNN\n",
    "* 权重共享\n",
    "  * 平移不变性\n",
    "  * 可并行计算\n",
    " * 滑动窗口 局部关联性建模 依靠多层堆积来进行长程建模\n",
    " * 对相对位置敏感，对绝对位置不敏感"
   ]
  },
  {
   "cell_type": "markdown",
   "id": "b2d65fdc-c665-456d-a21b-11a8158b61e4",
   "metadata": {},
   "source": [
    "## RNN\n",
    "* 依次有序递归建模\n",
    "  * 对顺序敏感\n",
    "  * 串行计算耗时\n",
    "  * 长程建模能力弱\n",
    "  * 计算复杂度与序列长度呈线性关系\n",
    "  * 单步计算复杂度不变\n",
    "  * 对相对位置敏感，对绝对位置敏感"
   ]
  },
  {
   "cell_type": "markdown",
   "id": "8d204908-d6b5-4168-973e-9f46a26f1e24",
   "metadata": {},
   "source": [
    "## transformer\n",
    "* 无局部假设\n",
    "  * 可并行计算\n",
    "  * 对相对位置不敏感\n",
    "* 无有序假设\n",
    "  * 需要位置编码来反映位置变化对于特征的影响\n",
    "  * 对绝对位置不敏感\n",
    "* 任意两字符都可以建模\n",
    "  * 擅长长短程建模\n",
    "  * 自注意力机制需要序列长度的平方级别复杂度"
   ]
  },
  {
   "cell_type": "code",
   "execution_count": null,
   "id": "0954c0e4-e972-423d-9a46-936137d4a7f3",
   "metadata": {},
   "outputs": [],
   "source": []
  }
 ],
 "metadata": {
  "kernelspec": {
   "display_name": "Python 3 (ipykernel)",
   "language": "python",
   "name": "python3"
  },
  "language_info": {
   "codemirror_mode": {
    "name": "ipython",
    "version": 3
   },
   "file_extension": ".py",
   "mimetype": "text/x-python",
   "name": "python",
   "nbconvert_exporter": "python",
   "pygments_lexer": "ipython3",
   "version": "3.7.13"
  }
 },
 "nbformat": 4,
 "nbformat_minor": 5
}
