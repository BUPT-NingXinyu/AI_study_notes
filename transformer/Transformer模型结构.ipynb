{
 "cells": [
  {
   "cell_type": "markdown",
   "id": "48c52a57-d23e-494c-9af6-fb292d0658bb",
   "metadata": {},
   "source": [
    "# Transformer\n",
    "![](./img/Transformer模型结构.png)"
   ]
  },
  {
   "cell_type": "markdown",
   "id": "97160e42-d545-45c4-a8c0-07228c5ebe1f",
   "metadata": {},
   "source": [
    "## Encoder\n",
    "* input word embedding：由稀疏的one-hot向量进入一个不带bias的FNN得到一个稠密的连续向量\n",
    "* position encoding\n",
    "  * 通过sin/cos来固定表征\n",
    "    * 每个位置确定性的\n",
    "    * 对于不同的句子，相同位置的距离一直\n",
    "    * 可以推广到更长的测试句子\n",
    "  * pe(pos+k)可以写成pe(pos)的线性组合\n",
    "  * 通过残差连接来使得位置信息流入深层\n",
    "* multi-head self-attention \n",
    "  * 使得建模能力更强，表征空间更丰富\n",
    "  * 由多组Q，K，V构成 每组单独计算一个attention向量\n",
    "  * 把每组的attention向量拼起来，并进入一个FFN得到最终的向量\n",
    "* feed-forward network\n",
    "  * 只考虑每个单独位置进行建模\n",
    "  * 不同位置参数共享\n",
    "  * 类似于1x1 pointwise convolution"
   ]
  },
  {
   "cell_type": "markdown",
   "id": "818c734d-6100-4596-95b2-6d17e013fed6",
   "metadata": {},
   "source": [
    "# Decoder\n",
    "* output word embedding\n",
    "* masked multi-head self-attention\n",
    "* multi-head cross-attention\n",
    "* feed-forward network\n",
    "* softmax"
   ]
  },
  {
   "cell_type": "markdown",
   "id": "a4da32ec-1be4-42d2-94fe-7cf05f46fb0f",
   "metadata": {},
   "source": [
    "# 总结"
   ]
  },
  {
   "cell_type": "markdown",
   "id": "68603bf5-2520-40bc-91f3-11270a2ed2f3",
   "metadata": {},
   "source": [
    "## 使用类型\n",
    "* Encoder only： BERT、分类任务、非流式任务\n",
    "* Decoder only： GPT系列、语言建模、自回归生成任务、流式任务\n",
    "* Encoder-Decoder： 机器翻译、语音识别"
   ]
  },
  {
   "cell_type": "markdown",
   "id": "f2f3c928-fa13-45a9-b60b-12c7af8ec718",
   "metadata": {},
   "source": [
    "## 特点\n",
    "* 无先验假设 （例如：局部关联性、有序建模性）\n",
    "* 核心计算在于自注意力机制，平方复杂度\n",
    "* 数据量的要求与先验假设的程度呈反比"
   ]
  },
  {
   "cell_type": "code",
   "execution_count": null,
   "id": "808b37c6-145a-4703-83c0-15dc22354328",
   "metadata": {},
   "outputs": [],
   "source": []
  }
 ],
 "metadata": {
  "kernelspec": {
   "display_name": "Python 3 (ipykernel)",
   "language": "python",
   "name": "python3"
  },
  "language_info": {
   "codemirror_mode": {
    "name": "ipython",
    "version": 3
   },
   "file_extension": ".py",
   "mimetype": "text/x-python",
   "name": "python",
   "nbconvert_exporter": "python",
   "pygments_lexer": "ipython3",
   "version": "3.7.13"
  }
 },
 "nbformat": 4,
 "nbformat_minor": 5
}
