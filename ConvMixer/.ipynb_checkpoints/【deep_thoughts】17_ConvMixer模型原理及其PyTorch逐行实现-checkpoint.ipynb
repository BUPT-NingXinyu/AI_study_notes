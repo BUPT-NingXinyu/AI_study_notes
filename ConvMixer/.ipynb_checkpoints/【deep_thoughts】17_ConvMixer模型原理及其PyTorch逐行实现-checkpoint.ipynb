{
 "cells": [
  {
   "cell_type": "markdown",
   "id": "2fb0f646-f1b3-4add-8bff-e9e9720d056d",
   "metadata": {},
   "source": [
    "# ConvMixer模型原理及其PyTorch逐行实现\n",
    "\n",
    "来自b站up主deep_thoughts 合集【PyTorch源码教程与前沿人工智能算法复现讲解】\n",
    "\n",
    "P_17_ConvMixer模型原理及其PyTorch逐行实现：\n",
    "    \n",
    "https://www.bilibili.com/video/BV1K34y1o74P/?spm_id_from=pageDriver&vd_source=18e91d849da09d846f771c89a366ed40\n",
    "\n",
    "torch.nn.Conv2d 官方文档：https://pytorch.org/docs/stable/generated/torch.nn.Conv2d.html#torch.nn.Conv2d\n",
    "\n",
    "***论文***\n",
    "\n",
    "Patches Are All You Need?\n",
    "\n",
    "https://openreview.net/pdf?id=TVHS5Y4dNvM"
   ]
  },
  {
   "cell_type": "markdown",
   "id": "18d70d79-82d2-47d4-975a-c8d780962ee4",
   "metadata": {},
   "source": [
    "## 论文中模型定义代码"
   ]
  },
  {
   "cell_type": "code",
   "execution_count": 4,
   "id": "2f2bc596-7441-4cbf-8553-16a5ff372b9f",
   "metadata": {},
   "outputs": [],
   "source": [
    "import torch\n",
    "import torch.nn as nn\n",
    "\n",
    "def ConvMixer(h, depth, kernel_size=9, patch_size=7, n_classes=1000):\n",
    "    Seq, ActBn = nn.Sequential, lambda x: Seq(x, nn.GELU(), nn.BatchNorm2d(h))\n",
    "    Residual = type('Residual', (Seq,), {'forward': lambda self, x: self[0](x) + x})\n",
    "    return Seq(ActBn(nn.Conv2d(3, h, patch_size, stride=patch_size)),\n",
    "               *[Seq(Residual(ActBn(nn.Conv2d(h, h, kernel_size, groups=h, padding=\"same\"))),\n",
    "                     ActBn(nn.Conv2d(h, h, 1))) for i in range(depth)],\n",
    "               nn.AdaptiveAvgPool2d((1,1)), nn.Flatten(), nn.Linear(h, n_classes))"
   ]
  },
  {
   "cell_type": "code",
   "execution_count": 8,
   "id": "14e3f801-5b7b-4603-bbaf-eb842bf9061f",
   "metadata": {},
   "outputs": [
    {
     "name": "stdout",
     "output_type": "stream",
     "text": [
      "torch.Size([1, 1000])\n"
     ]
    }
   ],
   "source": [
    "h = 16\n",
    "depth = 1\n",
    "\n",
    "image = torch.randn((1,3,14,14))\n",
    "conv_mixer = ConvMixer(h, depth)\n",
    "out = conv_mixer(image)\n",
    "print(out.size())"
   ]
  },
  {
   "cell_type": "markdown",
   "id": "1cd44f98-fcd5-4631-b21b-fa1dbd7dc399",
   "metadata": {},
   "source": [
    "## depthwise 和 pointwise 参数量对比"
   ]
  },
  {
   "cell_type": "code",
   "execution_count": 2,
   "id": "5a9d0327-d23a-47a8-a1df-8726228ef346",
   "metadata": {},
   "outputs": [
    {
     "name": "stdout",
     "output_type": "stream",
     "text": [
      "81\n",
      "3\n",
      "27\n",
      "3\n",
      "9\n",
      "3\n"
     ]
    }
   ],
   "source": [
    "import torch\n",
    "import torch.nn as nn\n",
    "\n",
    "conv_general = nn.Conv2d(3,3,3,padding=\"same\")\n",
    "subconv_space_mixing = nn.Conv2d(3,3,3,groups=3,padding=\"same\")\n",
    "subconv_channel_mixing = nn.Conv2d(3,3,1)\n",
    "\n",
    "for p in conv_general.parameters():\n",
    "    print(torch.numel(p))\n",
    "\n",
    "for p in subconv_space_mixing.parameters():\n",
    "    print(torch.numel(p))\n",
    "    \n",
    "for p in subconv_channel_mixing.parameters():\n",
    "    print(torch.numel(p))"
   ]
  },
  {
   "cell_type": "code",
   "execution_count": null,
   "id": "7ea19aa8-fc85-4092-8382-963e89fec4f0",
   "metadata": {},
   "outputs": [],
   "source": []
  }
 ],
 "metadata": {
  "kernelspec": {
   "display_name": "Python 3 (ipykernel)",
   "language": "python",
   "name": "python3"
  },
  "language_info": {
   "codemirror_mode": {
    "name": "ipython",
    "version": 3
   },
   "file_extension": ".py",
   "mimetype": "text/x-python",
   "name": "python",
   "nbconvert_exporter": "python",
   "pygments_lexer": "ipython3",
   "version": "3.7.13"
  }
 },
 "nbformat": 4,
 "nbformat_minor": 5
}
