{
 "cells": [
  {
   "cell_type": "markdown",
   "id": "a5fca6b5-218c-4a74-945a-cc795a12c4a5",
   "metadata": {},
   "source": [
    "# Vision Transformer(ViT)模型原理及PyTorch逐行实现\n",
    "\n",
    "来自b站up主deep_thoughts 合集【PyTorch源码教程与前沿人工智能算法复现讲解】\n",
    "\n",
    "P_28_Vision Transformer(ViT)模型原理及PyTorch逐行实现：\n",
    "\n",
    "https://www.bilibili.com/video/BV1cS4y1M7wo/?spm_id_from=pageDriver&vd_source=18e91d849da09d846f771c89a366ed40"
   ]
  },
  {
   "cell_type": "code",
   "execution_count": null,
   "id": "adcbbccf-8487-42d4-8c11-bec721fdf7e5",
   "metadata": {},
   "outputs": [],
   "source": []
  }
 ],
 "metadata": {
  "kernelspec": {
   "display_name": "Python 3 (ipykernel)",
   "language": "python",
   "name": "python3"
  },
  "language_info": {
   "codemirror_mode": {
    "name": "ipython",
    "version": 3
   },
   "file_extension": ".py",
   "mimetype": "text/x-python",
   "name": "python",
   "nbconvert_exporter": "python",
   "pygments_lexer": "ipython3",
   "version": "3.7.13"
  }
 },
 "nbformat": 4,
 "nbformat_minor": 5
}
